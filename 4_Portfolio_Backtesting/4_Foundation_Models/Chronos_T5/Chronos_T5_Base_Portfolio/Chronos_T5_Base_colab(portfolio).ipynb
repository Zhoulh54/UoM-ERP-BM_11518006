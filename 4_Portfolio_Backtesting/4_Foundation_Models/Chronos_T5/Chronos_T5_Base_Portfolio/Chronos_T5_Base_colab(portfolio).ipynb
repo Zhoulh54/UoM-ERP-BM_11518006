{
  "cells": [
    {
      "cell_type": "code",
      "execution_count": 10,
      "metadata": {
        "colab": {
          "base_uri": "https://localhost:8080/"
        },
        "id": "7CYHKV4dTfBT",
        "outputId": "5f48d0c3-808f-4c0c-e8a5-cd65871d59a4"
      },
      "outputs": [
        {
          "name": "stdout",
          "output_type": "stream",
          "text": [
            "Drive already mounted at /content/drive; to attempt to forcibly remount, call drive.mount(\"/content/drive\", force_remount=True).\n",
            "/content/drive/MyDrive/chronos_t5_base_project_portfolio\n",
            "fatal: destination path 'chronos-forecasting' already exists and is not an empty directory.\n",
            "/content/drive/MyDrive/chronos_t5_base_project_portfolio/chronos-forecasting\n",
            "Requirement already satisfied: torch in /usr/local/lib/python3.11/dist-packages (2.6.0+cu124)\n",
            "Requirement already satisfied: transformers in /usr/local/lib/python3.11/dist-packages (4.54.0)\n",
            "Requirement already satisfied: datasets in /usr/local/lib/python3.11/dist-packages (4.0.0)\n",
            "Requirement already satisfied: accelerate in /usr/local/lib/python3.11/dist-packages (1.9.0)\n",
            "Requirement already satisfied: scikit-learn in /usr/local/lib/python3.11/dist-packages (1.6.1)\n",
            "Requirement already satisfied: tqdm in /usr/local/lib/python3.11/dist-packages (4.67.1)\n",
            "Requirement already satisfied: joblib in /usr/local/lib/python3.11/dist-packages (1.5.1)\n",
            "Requirement already satisfied: filelock in /usr/local/lib/python3.11/dist-packages (from torch) (3.18.0)\n",
            "Requirement already satisfied: typing-extensions>=4.10.0 in /usr/local/lib/python3.11/dist-packages (from torch) (4.14.1)\n",
            "Requirement already satisfied: networkx in /usr/local/lib/python3.11/dist-packages (from torch) (3.5)\n",
            "Requirement already satisfied: jinja2 in /usr/local/lib/python3.11/dist-packages (from torch) (3.1.6)\n",
            "Requirement already satisfied: fsspec in /usr/local/lib/python3.11/dist-packages (from torch) (2025.3.0)\n",
            "Requirement already satisfied: nvidia-cuda-nvrtc-cu12==12.4.127 in /usr/local/lib/python3.11/dist-packages (from torch) (12.4.127)\n",
            "Requirement already satisfied: nvidia-cuda-runtime-cu12==12.4.127 in /usr/local/lib/python3.11/dist-packages (from torch) (12.4.127)\n",
            "Requirement already satisfied: nvidia-cuda-cupti-cu12==12.4.127 in /usr/local/lib/python3.11/dist-packages (from torch) (12.4.127)\n",
            "Requirement already satisfied: nvidia-cudnn-cu12==9.1.0.70 in /usr/local/lib/python3.11/dist-packages (from torch) (9.1.0.70)\n",
            "Requirement already satisfied: nvidia-cublas-cu12==12.4.5.8 in /usr/local/lib/python3.11/dist-packages (from torch) (12.4.5.8)\n",
            "Requirement already satisfied: nvidia-cufft-cu12==11.2.1.3 in /usr/local/lib/python3.11/dist-packages (from torch) (11.2.1.3)\n",
            "Requirement already satisfied: nvidia-curand-cu12==10.3.5.147 in /usr/local/lib/python3.11/dist-packages (from torch) (10.3.5.147)\n",
            "Requirement already satisfied: nvidia-cusolver-cu12==11.6.1.9 in /usr/local/lib/python3.11/dist-packages (from torch) (11.6.1.9)\n",
            "Requirement already satisfied: nvidia-cusparse-cu12==12.3.1.170 in /usr/local/lib/python3.11/dist-packages (from torch) (12.3.1.170)\n",
            "Requirement already satisfied: nvidia-cusparselt-cu12==0.6.2 in /usr/local/lib/python3.11/dist-packages (from torch) (0.6.2)\n",
            "Requirement already satisfied: nvidia-nccl-cu12==2.21.5 in /usr/local/lib/python3.11/dist-packages (from torch) (2.21.5)\n",
            "Requirement already satisfied: nvidia-nvtx-cu12==12.4.127 in /usr/local/lib/python3.11/dist-packages (from torch) (12.4.127)\n",
            "Requirement already satisfied: nvidia-nvjitlink-cu12==12.4.127 in /usr/local/lib/python3.11/dist-packages (from torch) (12.4.127)\n",
            "Requirement already satisfied: triton==3.2.0 in /usr/local/lib/python3.11/dist-packages (from torch) (3.2.0)\n",
            "Requirement already satisfied: sympy==1.13.1 in /usr/local/lib/python3.11/dist-packages (from torch) (1.13.1)\n",
            "Requirement already satisfied: mpmath<1.4,>=1.1.0 in /usr/local/lib/python3.11/dist-packages (from sympy==1.13.1->torch) (1.3.0)\n",
            "Requirement already satisfied: huggingface-hub<1.0,>=0.34.0 in /usr/local/lib/python3.11/dist-packages (from transformers) (0.34.1)\n",
            "Requirement already satisfied: numpy>=1.17 in /usr/local/lib/python3.11/dist-packages (from transformers) (2.0.2)\n",
            "Requirement already satisfied: packaging>=20.0 in /usr/local/lib/python3.11/dist-packages (from transformers) (25.0)\n",
            "Requirement already satisfied: pyyaml>=5.1 in /usr/local/lib/python3.11/dist-packages (from transformers) (6.0.2)\n",
            "Requirement already satisfied: regex!=2019.12.17 in /usr/local/lib/python3.11/dist-packages (from transformers) (2024.11.6)\n",
            "Requirement already satisfied: requests in /usr/local/lib/python3.11/dist-packages (from transformers) (2.32.3)\n",
            "Requirement already satisfied: tokenizers<0.22,>=0.21 in /usr/local/lib/python3.11/dist-packages (from transformers) (0.21.2)\n",
            "Requirement already satisfied: safetensors>=0.4.3 in /usr/local/lib/python3.11/dist-packages (from transformers) (0.5.3)\n",
            "Requirement already satisfied: pyarrow>=15.0.0 in /usr/local/lib/python3.11/dist-packages (from datasets) (18.1.0)\n",
            "Requirement already satisfied: dill<0.3.9,>=0.3.0 in /usr/local/lib/python3.11/dist-packages (from datasets) (0.3.8)\n",
            "Requirement already satisfied: pandas in /usr/local/lib/python3.11/dist-packages (from datasets) (2.2.2)\n",
            "Requirement already satisfied: xxhash in /usr/local/lib/python3.11/dist-packages (from datasets) (3.5.0)\n",
            "Requirement already satisfied: multiprocess<0.70.17 in /usr/local/lib/python3.11/dist-packages (from datasets) (0.70.16)\n",
            "Requirement already satisfied: psutil in /usr/local/lib/python3.11/dist-packages (from accelerate) (5.9.5)\n",
            "Requirement already satisfied: scipy>=1.6.0 in /usr/local/lib/python3.11/dist-packages (from scikit-learn) (1.16.0)\n",
            "Requirement already satisfied: threadpoolctl>=3.1.0 in /usr/local/lib/python3.11/dist-packages (from scikit-learn) (3.6.0)\n",
            "Requirement already satisfied: aiohttp!=4.0.0a0,!=4.0.0a1 in /usr/local/lib/python3.11/dist-packages (from fsspec[http]<=2025.3.0,>=2023.1.0->datasets) (3.12.14)\n",
            "Requirement already satisfied: hf-xet<2.0.0,>=1.1.3 in /usr/local/lib/python3.11/dist-packages (from huggingface-hub<1.0,>=0.34.0->transformers) (1.1.5)\n",
            "Requirement already satisfied: charset-normalizer<4,>=2 in /usr/local/lib/python3.11/dist-packages (from requests->transformers) (3.4.2)\n",
            "Requirement already satisfied: idna<4,>=2.5 in /usr/local/lib/python3.11/dist-packages (from requests->transformers) (3.10)\n",
            "Requirement already satisfied: urllib3<3,>=1.21.1 in /usr/local/lib/python3.11/dist-packages (from requests->transformers) (2.5.0)\n",
            "Requirement already satisfied: certifi>=2017.4.17 in /usr/local/lib/python3.11/dist-packages (from requests->transformers) (2025.7.14)\n",
            "Requirement already satisfied: MarkupSafe>=2.0 in /usr/local/lib/python3.11/dist-packages (from jinja2->torch) (3.0.2)\n",
            "Requirement already satisfied: python-dateutil>=2.8.2 in /usr/local/lib/python3.11/dist-packages (from pandas->datasets) (2.9.0.post0)\n",
            "Requirement already satisfied: pytz>=2020.1 in /usr/local/lib/python3.11/dist-packages (from pandas->datasets) (2025.2)\n",
            "Requirement already satisfied: tzdata>=2022.7 in /usr/local/lib/python3.11/dist-packages (from pandas->datasets) (2025.2)\n",
            "Requirement already satisfied: aiohappyeyeballs>=2.5.0 in /usr/local/lib/python3.11/dist-packages (from aiohttp!=4.0.0a0,!=4.0.0a1->fsspec[http]<=2025.3.0,>=2023.1.0->datasets) (2.6.1)\n",
            "Requirement already satisfied: aiosignal>=1.4.0 in /usr/local/lib/python3.11/dist-packages (from aiohttp!=4.0.0a0,!=4.0.0a1->fsspec[http]<=2025.3.0,>=2023.1.0->datasets) (1.4.0)\n",
            "Requirement already satisfied: attrs>=17.3.0 in /usr/local/lib/python3.11/dist-packages (from aiohttp!=4.0.0a0,!=4.0.0a1->fsspec[http]<=2025.3.0,>=2023.1.0->datasets) (25.3.0)\n",
            "Requirement already satisfied: frozenlist>=1.1.1 in /usr/local/lib/python3.11/dist-packages (from aiohttp!=4.0.0a0,!=4.0.0a1->fsspec[http]<=2025.3.0,>=2023.1.0->datasets) (1.7.0)\n",
            "Requirement already satisfied: multidict<7.0,>=4.5 in /usr/local/lib/python3.11/dist-packages (from aiohttp!=4.0.0a0,!=4.0.0a1->fsspec[http]<=2025.3.0,>=2023.1.0->datasets) (6.6.3)\n",
            "Requirement already satisfied: propcache>=0.2.0 in /usr/local/lib/python3.11/dist-packages (from aiohttp!=4.0.0a0,!=4.0.0a1->fsspec[http]<=2025.3.0,>=2023.1.0->datasets) (0.3.2)\n",
            "Requirement already satisfied: yarl<2.0,>=1.17.0 in /usr/local/lib/python3.11/dist-packages (from aiohttp!=4.0.0a0,!=4.0.0a1->fsspec[http]<=2025.3.0,>=2023.1.0->datasets) (1.20.1)\n",
            "Requirement already satisfied: six>=1.5 in /usr/local/lib/python3.11/dist-packages (from python-dateutil>=2.8.2->pandas->datasets) (1.17.0)\n",
            "Using device: cuda\n",
            "Device name: Tesla T4\n",
            "Total memory: 14.7 GB\n"
          ]
        }
      ],
      "source": [
        "# ============================================================================\n",
        "# Chronos T5 Base - Google Colab Portfolio Backtest\n",
        "# ============================================================================\n",
        "\n",
        "from google.colab import drive\n",
        "import sys\n",
        "import os\n",
        "import torch\n",
        "import numpy as np\n",
        "import pandas as pd\n",
        "import matplotlib.pyplot as plt\n",
        "from tqdm import tqdm\n",
        "import time\n",
        "import yfinance as yf\n",
        "from sklearn.metrics import mean_squared_error, mean_absolute_error\n",
        "from scipy.stats import f as f_dist\n",
        "import statsmodels.api as sm\n",
        "from datetime import datetime\n",
        "import matplotlib.dates as mdates\n",
        "import joblib\n",
        "\n",
        "drive.mount('/content/drive')\n",
        "\n",
        "!mkdir -p /content/drive/MyDrive/chronos_t5_base_project_portfolio\n",
        "%cd /content/drive/MyDrive/chronos_t5_base_project_portfolio\n",
        "\n",
        "!git clone https://github.com/amazon-science/chronos-forecasting\n",
        "%cd chronos-forecasting\n",
        "\n",
        "%pip install torch transformers datasets accelerate scikit-learn tqdm joblib\n",
        "\n",
        "sys.path.append(\"src\")\n",
        "from chronos import BaseChronosPipeline\n",
        "\n",
        "def set_seed(seed=42):\n",
        "    \"\"\"Set all random seeds for reproducibility (CUDA version)\"\"\"\n",
        "    import random\n",
        "    random.seed(seed)\n",
        "    np.random.seed(seed)\n",
        "    torch.manual_seed(seed)\n",
        "    torch.cuda.manual_seed(seed)\n",
        "    torch.cuda.manual_seed_all(seed)\n",
        "    torch.backends.cudnn.deterministic = True\n",
        "    torch.backends.cudnn.benchmark = False\n",
        "    os.environ['PYTHONHASHSEED'] = str(seed)\n",
        "\n",
        "set_seed(42)\n",
        "\n",
        "device = \"cuda\" if torch.cuda.is_available() else \"cpu\"\n",
        "print(f\"Using device: {device}\")\n",
        "if torch.cuda.is_available():\n",
        "    print(f\"Device name: {torch.cuda.get_device_name(0)}\")\n",
        "    print(f\"Total memory: {torch.cuda.get_device_properties(0).total_memory / 1024**3:.1f} GB\")"
      ]
    },
    {
      "cell_type": "code",
      "execution_count": 11,
      "metadata": {
        "colab": {
          "base_uri": "https://localhost:8080/"
        },
        "id": "KUy9Z_IDTyd0",
        "outputId": "8e7e40d3-c523-4f92-9c6a-8ce8873a6edd"
      },
      "outputs": [
        {
          "name": "stdout",
          "output_type": "stream",
          "text": [
            "Successfully loaded Chronos T5 Base model on cuda\n",
            "Model device: cuda:0\n",
            "CUDA cache cleared\n"
          ]
        }
      ],
      "source": [
        "# Load Chronos T5-Base pretrained model\n",
        "try:\n",
        "    pipeline = BaseChronosPipeline.from_pretrained(\n",
        "        \"amazon/chronos-t5-base\",\n",
        "        device_map=\"auto\" if torch.cuda.is_available() else \"cpu\",\n",
        "        torch_dtype=torch.float16 if torch.cuda.is_available() else torch.float32  # Use FP16 to save memory\n",
        "    )\n",
        "    print(f\"Successfully loaded Chronos T5 Base model on {device}\")\n",
        "\n",
        "    if hasattr(pipeline.model, 'device'):\n",
        "        print(f\"Model device: {pipeline.model.device}\")\n",
        "\n",
        "    if torch.cuda.is_available():\n",
        "        torch.cuda.empty_cache()\n",
        "        print(\"CUDA cache cleared\")\n",
        "\n",
        "except Exception as e:\n",
        "    print(f\"Failed to load model: {e}\")\n",
        "    raise"
      ]
    },
    {
      "cell_type": "code",
      "execution_count": 12,
      "metadata": {
        "colab": {
          "base_uri": "https://localhost:8080/"
        },
        "id": "AhkaBvhNU3xb",
        "outputId": "f15c689d-93aa-4f71-9482-1e00b10eca13"
      },
      "outputs": [],
      "source": [
        "data_path = \"/content/drive/MyDrive/ERP Data/all_window_datasets_unscaled.npz\"\n",
        "\n",
        "def load_datasets(data_path):\n",
        "    \"\"\"Load dataset\"\"\"\n",
        "    try:\n",
        "        data = np.load(data_path, allow_pickle=True)\n",
        "        print(f\"Data loaded successfully! Keys: {list(data.keys())}\")\n",
        "\n",
        "        datasets = {}\n",
        "        for key in data.files:\n",
        "            datasets[key] = data[key]\n",
        "        print(f\"Available datasets: {len(datasets)} files\")\n",
        "        return datasets\n",
        "\n",
        "    except FileNotFoundError:\n",
        "        print(f\"Data file not found: {data_path}\")\n",
        "        print(\"Please ensure all_window_datasets.npz is uploaded to Google Drive 'ERP Data' folder\")\n",
        "        raise\n",
        "    except Exception as e:\n",
        "        print(f\"Error loading data: {e}\")\n",
        "        raise\n",
        "\n",
        "datasets = load_datasets(data_path)\n",
        "\n",
        "WINDOW_SIZES = [5, 21, 252, 512]\n",
        "START_YEAR = 2016\n",
        "END_YEAR = 2024\n",
        "TRANSACTION_COST = 0.0015\n",
        "\n",
        "def get_batch_size(window_size):\n",
        "    \"\"\"Return suitable batch size for GPU based on window size\"\"\"\n",
        "    if window_size <= 5:\n",
        "        return 1024\n",
        "    elif window_size <= 21:\n",
        "        return 256\n",
        "    elif window_size <= 252:\n",
        "        return 32\n",
        "    elif window_size <= 512:\n",
        "        return 16\n",
        "    else:\n",
        "        return 8\n",
        "\n",
        "print(\"GPU batch size configuration (T5-Base):\")\n",
        "for ws in WINDOW_SIZES:\n",
        "    batch_size = get_batch_size(ws)\n",
        "    print(f\"  Window {ws}: Batch size = {batch_size}\")\n",
        "\n",
        "print(\"Configuration complete!\")"
      ]
    },
    {
      "cell_type": "code",
      "execution_count": 13,
      "metadata": {
        "colab": {
          "base_uri": "https://localhost:8080/"
        },
        "id": "sdt36X1a-BrK",
        "outputId": "1303103c-37b3-40ad-a6eb-abfaf9346b34"
      },
      "outputs": [
        {
          "name": "stderr",
          "output_type": "stream",
          "text": [
            "/tmp/ipython-input-486884232.py:15: FutureWarning: YF.download() has changed argument auto_adjust default to True\n",
            "  px = yf.download(\"^GSPC\", start=\"2016-01-01\", end=\"2024-12-31\")[\"Close\"]\n",
            "\r[*********************100%***********************]  1 of 1 completed"
          ]
        },
        {
          "name": "stdout",
          "output_type": "stream",
          "text": [
            "[INFO] S&P500 Excess Sharpe (2016–24) = 0.652\n"
          ]
        },
        {
          "name": "stderr",
          "output_type": "stream",
          "text": [
            "\n",
            "/tmp/ipython-input-486884232.py:17: FutureWarning: Series.fillna with 'method' is deprecated and will raise in a future version. Use obj.ffill() or obj.bfill() instead.\n",
            "  rf_align = rf_series.reindex(sp_ret.index).fillna(method=\"ffill\")\n"
          ]
        }
      ],
      "source": [
        "def annual_sharpe(rets, freq=252):\n",
        "    mu = float(np.mean(rets)) * freq\n",
        "    sd = float(np.std(rets, ddof=1)) * np.sqrt(freq)\n",
        "    return mu / sd if sd > 0 else 0\n",
        "\n",
        "# Load risk-free rate and calculate S&P500 Excess Sharpe\n",
        "\n",
        "rf_file = \"/content/drive/MyDrive/ERP Data/CRSP_2016_2024_top50_with_exret.csv\"\n",
        "try:\n",
        "    rf_df = pd.read_csv(rf_file, usecols=[\"date\", \"rf\"])\n",
        "    rf_df[\"date\"] = pd.to_datetime(rf_df[\"date\"])\n",
        "    rf_df = rf_df.drop_duplicates(\"date\").set_index(\"date\").sort_index()\n",
        "    rf_series = rf_df[\"rf\"].astype(float)\n",
        "\n",
        "    px = yf.download(\"^GSPC\", start=\"2016-01-01\", end=\"2024-12-31\")[\"Close\"]\n",
        "    sp_ret = px.pct_change().dropna()\n",
        "    rf_align = rf_series.reindex(sp_ret.index).fillna(method=\"ffill\")\n",
        "    sp_excess = sp_ret.values - rf_align.values\n",
        "\n",
        "    SR_MKT_EX = annual_sharpe(sp_excess)\n",
        "    print(f\"[INFO] S&P500 Excess Sharpe (2016–24) = {SR_MKT_EX:.3f}\")\n",
        "except Exception as e:\n",
        "    print(f\"Warning: Could not load risk-free rate data: {e}\")\n",
        "    SR_MKT_EX = 0.5\n",
        "\n",
        "def delta_sharpe(r2_zero: float, sr_base: float):\n",
        "    \"\"\"\n",
        "    If r2_zero <= 0   -> ΔSharpe = 0, Sharpe* = sr_base\n",
        "    If r2_zero >= 1   -> ΔSharpe = 0, Sharpe* = sr_base (extreme case fallback)\n",
        "    Otherwise, use the original formula\n",
        "    \"\"\"\n",
        "    if (r2_zero <= 0) or (r2_zero >= 1):\n",
        "        return 0.0, sr_base\n",
        "    sr_star = np.sqrt(sr_base ** 2 + r2_zero) / np.sqrt(1 - r2_zero)\n",
        "    return sr_star - sr_base, sr_star\n",
        "\n",
        "def r2_zero(y_true, y_pred):\n",
        "    \"\"\"\n",
        "    Calculate zero-based R² (baseline is 0)\n",
        "    y_true: array of true values (N,)\n",
        "    y_pred: array of predicted values (N,)\n",
        "    \"\"\"\n",
        "    rss = np.sum((y_true - y_pred)**2)\n",
        "    tss = np.sum(y_true**2)\n",
        "    return 1 - rss / tss\n",
        "\n",
        "def calc_ic_daily(df, method='spearman'):\n",
        "    \"\"\"\n",
        "    Calculate daily cross-sectional RankIC\n",
        "    df: must contain ['signal_date','y_true','y_pred']\n",
        "    \"\"\"\n",
        "    ics = (df.groupby('signal_date')\n",
        "             .apply(lambda g: g['y_pred'].corr(g['y_true'], method=method))\n",
        "             .dropna())\n",
        "    mean_ic = ics.mean()\n",
        "    std_ic  = ics.std(ddof=1)\n",
        "    t_ic    = mean_ic / (std_ic / np.sqrt(len(ics))) if std_ic > 0 else np.nan\n",
        "    pos_ratio = (ics > 0).mean()\n",
        "    return mean_ic, t_ic, pos_ratio, ics\n",
        "\n",
        "def calc_directional_metrics(y_true, y_pred, permnos=None):\n",
        "    \"\"\"\n",
        "    - Sample-level sign prediction\n",
        "    - If grouped by stock, calculate Overall, Up, Down for each stock and then average\n",
        "    \"\"\"\n",
        "    y_true = np.asarray(y_true)\n",
        "    y_pred = np.asarray(y_pred)\n",
        "\n",
        "    if permnos is None:\n",
        "        s_true = np.sign(y_true)\n",
        "        s_pred = np.sign(y_pred)\n",
        "        mask = s_true != 0\n",
        "        s_true = s_true[mask]\n",
        "        s_pred = s_pred[mask]\n",
        "\n",
        "        overall_acc = np.mean(s_true == s_pred)\n",
        "\n",
        "        up_mask = s_true > 0\n",
        "        down_mask = s_true < 0\n",
        "        up_acc = np.mean(s_true[up_mask] == s_pred[up_mask]) if np.any(up_mask) else 0\n",
        "        down_acc = np.mean(s_true[down_mask] == s_pred[down_mask]) if np.any(down_mask) else 0\n",
        "\n",
        "    else:\n",
        "        df = pd.DataFrame({\"permno\": permnos, \"yt\": y_true, \"yp\": y_pred})\n",
        "        overall_accs = []\n",
        "        up_accs = []\n",
        "        down_accs = []\n",
        "\n",
        "        for _, g in df.groupby(\"permno\"):\n",
        "            s_true = np.sign(g[\"yt\"].values)\n",
        "            s_pred = np.sign(g[\"yp\"].values)\n",
        "            mask = s_true != 0\n",
        "            s_true = s_true[mask]\n",
        "            s_pred = s_pred[mask]\n",
        "            if len(s_true) == 0:\n",
        "                continue\n",
        "            overall_accs.append(np.mean(s_true == s_pred))\n",
        "\n",
        "            up_mask = s_true > 0\n",
        "            down_mask = s_true < 0\n",
        "            up_accs.append(np.mean(s_true[up_mask] == s_pred[up_mask]) if np.any(up_mask) else np.nan)\n",
        "            down_accs.append(np.mean(s_true[down_mask] == s_pred[down_mask]) if np.any(down_mask) else np.nan)\n",
        "\n",
        "        overall_acc = np.nanmean(overall_accs)\n",
        "        up_acc = np.nanmean(up_accs)\n",
        "        down_acc = np.nanmean(down_accs)\n",
        "\n",
        "    return overall_acc, up_acc, down_acc\n",
        "\n",
        "def regression_metrics(y_true, y_pred, k, meta=None, permnos=None):\n",
        "    \"\"\"\n",
        "    Includes:\n",
        "    - Regression metrics\n",
        "    - Pointwise directional accuracy\n",
        "    - Market cap group metrics\n",
        "    \"\"\"\n",
        "    y_true = np.asarray(y_true)\n",
        "    y_pred = np.asarray(y_pred)\n",
        "    n = len(y_true)\n",
        "\n",
        "    r2 = r2_zero(y_true, y_pred)\n",
        "    rmse = np.sqrt(mean_squared_error(y_true, y_pred))\n",
        "    mae = mean_absolute_error(y_true, y_pred)\n",
        "    mse = mean_squared_error(y_true, y_pred)\n",
        "\n",
        "    dir_acc, up_acc, down_acc = calc_directional_metrics(y_true, y_pred, permnos)\n",
        "\n",
        "    metrics = {\n",
        "        \"R²_zero\": r2,\n",
        "        \"RMSE\": rmse,\n",
        "        \"MAE\": mae,\n",
        "        \"MSE\": mse,\n",
        "        \"Directional Accuracy\": dir_acc,\n",
        "        \"Up_Directional_Acc\": up_acc,\n",
        "        \"Down_Directional_Acc\": down_acc\n",
        "    }\n",
        "\n",
        "    if meta is not None and \"MKTCAP_PERCENTILE\" in meta:\n",
        "        top_mask = meta[\"MKTCAP_PERCENTILE\"] >= 0.75\n",
        "        bottom_mask = meta[\"MKTCAP_PERCENTILE\"] <= 0.25\n",
        "\n",
        "        if np.any(top_mask):\n",
        "            yt_top = y_true[top_mask]\n",
        "            yp_top = y_pred[top_mask]\n",
        "            perm_top = permnos[top_mask] if permnos is not None else None\n",
        "            r2_top = r2_zero(yt_top, yp_top)\n",
        "            rmse_top = np.sqrt(mean_squared_error(yt_top, yp_top))\n",
        "            mae_top = mean_absolute_error(yt_top, yp_top)\n",
        "            mse_top = mean_squared_error(yt_top, yp_top)\n",
        "            dir_top, up_top, down_top = calc_directional_metrics(yt_top, yp_top, perm_top)\n",
        "            metrics.update({\n",
        "                \"Top25_R2_zero\": r2_top,\n",
        "                \"Top25_RMSE\": rmse_top,\n",
        "                \"Top25_MAE\": mae_top,\n",
        "                \"Top25_MSE\": mse_top,\n",
        "                \"Top25_Dir_Acc\": dir_top,\n",
        "                \"Top25_Up_Acc\": up_top,\n",
        "                \"Top25_Down_Acc\": down_top\n",
        "            })\n",
        "\n",
        "        if np.any(bottom_mask):\n",
        "            yt_bot = y_true[bottom_mask]\n",
        "            yp_bot = y_pred[bottom_mask]\n",
        "            perm_bot = permnos[bottom_mask] if permnos is not None else None\n",
        "            r2_bot = r2_zero(yt_bot, yp_bot)\n",
        "            rmse_bot = np.sqrt(mean_squared_error(yt_bot, yp_bot))\n",
        "            mae_bot = mean_absolute_error(yt_bot, yp_bot)\n",
        "            mse_bot = mean_squared_error(yt_bot, yp_bot)\n",
        "            dir_bot, up_bot, down_bot = calc_directional_metrics(yt_bot, yp_bot, perm_bot)\n",
        "            metrics.update({\n",
        "                \"Bottom25_R2_zero\": r2_bot,\n",
        "                \"Bottom25_RMSE\": rmse_bot,\n",
        "                \"Bottom25_MAE\": mae_bot,\n",
        "                \"Bottom25_MSE\": mse_bot,\n",
        "                \"Bottom25_Dir_Acc\": dir_bot,\n",
        "                \"Bottom25_Up_Acc\": up_bot,\n",
        "                \"Bottom25_Down_Acc\": down_bot\n",
        "            })\n",
        "\n",
        "    return metrics\n",
        "\n",
        "def f_statistic(y_true, y_pred, k):\n",
        "    \"\"\"Return F statistic and corresponding p-value\"\"\"\n",
        "    n   = len(y_true)\n",
        "    rss = np.sum((y_true - y_pred) ** 2)\n",
        "    tss = np.sum(y_true ** 2)\n",
        "    r2  = 1 - rss / tss\n",
        "    if (r2 <= 0) or (n <= k):\n",
        "        return 0.0, 1.0\n",
        "    F = (r2 / k) / ((1 - r2) / (n - k))\n",
        "    p = f_dist.sf(F, k, n - k)\n",
        "    return F, p\n",
        "\n",
        "def overall_interval_metrics_method1(y_all, yhat_all, k, permnos_all=None, meta_all=None):\n",
        "    \"\"\"\n",
        "    Method 1: Calculate metrics for the entire interval at once (2016-2024, all samples concatenated)\n",
        "    Returns: a dict, can be directly used for save_metrics()\n",
        "    \"\"\"\n",
        "    base = regression_metrics(\n",
        "        y_true=y_all,\n",
        "        y_pred=yhat_all,\n",
        "        k=k,\n",
        "        meta=meta_all,\n",
        "        permnos=permnos_all\n",
        "    )\n",
        "    F, p = f_statistic(y_all, yhat_all, k)\n",
        "    base[\"F_stat\"]     = F\n",
        "    base[\"F_pvalue\"]   = p\n",
        "    base[\"N_obs\"] = len(y_all)\n",
        "\n",
        "    delta_cash, sr_star_cash = delta_sharpe(base[\"R²_zero\"], sr_base=0)\n",
        "    base[\"ΔSharpe_cash\"]      = delta_cash\n",
        "    base[\"Sharpe*_cash\"]      = sr_star_cash\n",
        "\n",
        "    delta_mkt , sr_star_mkt  = delta_sharpe(base[\"R²_zero\"], sr_base=SR_MKT_EX)\n",
        "    base[\"ΔSharpe_mkt\"]       = delta_mkt\n",
        "    base[\"Sharpe*_mkt\"]       = sr_star_mkt\n",
        "\n",
        "    return base\n",
        "\n",
        "def sortino_ratio(rets, freq=252):\n",
        "    \"\"\"Calculate Sortino Ratio\"\"\"\n",
        "    downside = rets[rets < 0]\n",
        "    if len(downside) == 0:\n",
        "        return np.inf\n",
        "    mu = rets.mean() * freq\n",
        "    sigma = np.sqrt((downside ** 2).mean()) * np.sqrt(freq)\n",
        "    return mu / sigma\n",
        "\n",
        "def cvar(rets, alpha=0.95):\n",
        "    \"\"\"Calculate CVaR\"\"\"\n",
        "    q = np.quantile(rets, 1 - alpha)\n",
        "    return rets[rets <= q].mean()\n",
        "\n",
        "def save_metrics(metrics_dict, name, window, path=\"portfolio_metrics.csv\"):\n",
        "    \"\"\"Save metrics to CSV file\"\"\"\n",
        "    row = {'Model': name, 'Window': window}\n",
        "    row.update(metrics_dict)\n",
        "\n",
        "    if os.path.exists(path):\n",
        "        df = pd.read_csv(path)\n",
        "        df = pd.concat([df, pd.DataFrame([row])], ignore_index=True)\n",
        "    else:\n",
        "        df = pd.DataFrame([row])\n",
        "\n",
        "    df.to_csv(path, index=False)\n",
        "    print(f\"Metrics saved for {name}_w{window} to {path}\")\n"
      ]
    },
    {
      "cell_type": "code",
      "execution_count": 14,
      "metadata": {
        "id": "1gfyONtoY9MW"
      },
      "outputs": [],
      "source": [
        "# Portfolio core class\n",
        "# Transaction cost settings\n",
        "TC_GRID = [0.0005, 0.001, 0.002, 0.003, 0.004]  # 5, 10, 20, 30, 40 bps\n",
        "TC_TAG  = {\n",
        "    0.0005: \"tc5\",\n",
        "    0.001:  \"tc10\",\n",
        "    0.002:  \"tc20\",\n",
        "    0.003:  \"tc30\",\n",
        "    0.004:  \"tc40\"\n",
        "}\n",
        "\n",
        "class PortfolioBacktester:\n",
        "    def __init__(self):\n",
        "        self.results = {}\n",
        "\n",
        "    def calc_turnover(self, w_t, r_t, w_tp1):\n",
        "        \"\"\"Calculate turnover using the standard formula\"\"\"\n",
        "        if w_t is None:\n",
        "            return np.sum(np.abs(w_tp1))\n",
        "\n",
        "        gross_ret = np.sum(w_t * r_t)\n",
        "        if abs(1 + gross_ret) < 1e-8:\n",
        "            return np.sum(np.abs(w_tp1))\n",
        "\n",
        "        passive_weight = w_t * (1 + r_t) / (1 + gross_ret)\n",
        "        turnover = np.sum(np.abs(w_tp1 - passive_weight))\n",
        "        return turnover\n",
        "\n",
        "    def create_portfolios_with_permno_tracking(self, signals, market_caps, permnos, top_pct=0.1, bottom_pct=0.1, weight_scheme=\"VW\"):\n",
        "        \"\"\"\n",
        "        Create portfolio weights based on signals, strictly tracking permno alignment.\n",
        "        weight_scheme: 'VW' for value-weighted, 'EW' for equal-weighted\n",
        "        \"\"\"\n",
        "        n_stocks = len(signals)\n",
        "        top_n    = max(1, int(round(n_stocks * top_pct)))\n",
        "        bottom_n = max(1, int(round(n_stocks * bottom_pct)))\n",
        "\n",
        "        sorted_idx = np.argsort(signals)[::-1]\n",
        "\n",
        "        top_idx = sorted_idx[:top_n]\n",
        "        bottom_idx = sorted_idx[-bottom_n:]\n",
        "\n",
        "        portfolio_data = {}\n",
        "\n",
        "        # Long-only portfolio (Top 10%)\n",
        "        long_weights = np.zeros(n_stocks)\n",
        "        if len(top_idx) > 0:\n",
        "            if weight_scheme == \"VW\":\n",
        "                top_market_caps = market_caps[top_idx]\n",
        "                if np.sum(top_market_caps) > 0:\n",
        "                    long_weights[top_idx] = top_market_caps / np.sum(top_market_caps)\n",
        "            else:\n",
        "                long_weights[top_idx] = 1.0 / len(top_idx)\n",
        "\n",
        "        portfolio_data['long_only'] = {\n",
        "            'weights': long_weights,\n",
        "            'permnos': permnos.copy(),\n",
        "            'selected_permnos': permnos[top_idx] if len(top_idx) > 0 else np.array([])\n",
        "        }\n",
        "\n",
        "        # Short-only portfolio (Bottom 10%)\n",
        "        short_weights = np.zeros(n_stocks)\n",
        "        if len(bottom_idx) > 0:\n",
        "            if weight_scheme == \"VW\":\n",
        "                bottom_market_caps = market_caps[bottom_idx]\n",
        "                if np.sum(bottom_market_caps) > 0:\n",
        "                    short_weights[bottom_idx] = -bottom_market_caps / np.sum(bottom_market_caps)\n",
        "            else:\n",
        "                short_weights[bottom_idx] = -1.0 / len(bottom_idx)\n",
        "\n",
        "        portfolio_data['short_only'] = {\n",
        "            'weights': short_weights,\n",
        "            'permnos': permnos.copy(),\n",
        "            'selected_permnos': permnos[bottom_idx] if len(bottom_idx) > 0 else np.array([])\n",
        "        }\n",
        "\n",
        "        # Long-Short portfolio (Top long + Bottom short)\n",
        "        ls_raw = long_weights + short_weights\n",
        "\n",
        "        gross_target = 2.0\n",
        "        current_gross = np.sum(np.abs(long_weights)) + np.sum(np.abs(short_weights))\n",
        "        scale = gross_target / current_gross if current_gross > 1e-8 else 0.0\n",
        "        ls_weights = scale * ls_raw\n",
        "\n",
        "        ls_selected_permnos = np.concatenate([\n",
        "            permnos[top_idx] if len(top_idx) > 0 else np.array([]),\n",
        "            permnos[bottom_idx] if len(bottom_idx) > 0 else np.array([])\n",
        "        ])\n",
        "\n",
        "        portfolio_data['long_short'] = {\n",
        "            'weights': ls_weights,\n",
        "            'permnos': permnos.copy(),\n",
        "            'selected_permnos': ls_selected_permnos\n",
        "        }\n",
        "\n",
        "        return portfolio_data\n",
        "\n",
        "    def calculate_aligned_portfolio_return(self, portfolio_weights, portfolio_permnos, actual_returns, actual_permnos):\n",
        "        \"\"\"Calculate portfolio return strictly aligned by permno\"\"\"\n",
        "        aligned_returns = np.zeros(len(portfolio_permnos))\n",
        "\n",
        "        return_dict = dict(zip(actual_permnos, actual_returns))\n",
        "\n",
        "        for i, permno in enumerate(portfolio_permnos):\n",
        "            if permno in return_dict:\n",
        "                aligned_returns[i] = return_dict[permno]\n",
        "\n",
        "        portfolio_return = np.sum(portfolio_weights * aligned_returns)\n",
        "        return portfolio_return, aligned_returns\n",
        "\n",
        "    def calculate_metrics(self, returns, turnover_series=None):\n",
        "        \"\"\"Calculate portfolio metrics - only returns summary metrics, not full series\"\"\"\n",
        "        returns = np.array(returns)\n",
        "\n",
        "        annual_return = np.mean(returns) * 252\n",
        "        annual_vol = np.std(returns, ddof=1) * np.sqrt(252)\n",
        "        sharpe = annual_return / annual_vol if annual_vol > 0 else 0\n",
        "\n",
        "        log_cum = np.cumsum(np.log1p(returns))\n",
        "        peak_log = np.maximum.accumulate(log_cum)\n",
        "        dd_log = peak_log - log_cum\n",
        "        max_drawdown = 1 - np.exp(-dd_log.max())\n",
        "        max_1d_loss = np.min(returns)\n",
        "\n",
        "        avg_turnover = np.mean(turnover_series) if turnover_series is not None else 0\n",
        "\n",
        "        sortino = sortino_ratio(returns)\n",
        "        cvar95  = cvar(returns, alpha=0.95)\n",
        "\n",
        "        result = {\n",
        "            'annual_return': annual_return,\n",
        "            'annual_vol': annual_vol,\n",
        "            'sharpe': sharpe,\n",
        "            'max_drawdown': max_drawdown,\n",
        "            'max_1d_loss': max_1d_loss,\n",
        "            'avg_turnover': avg_turnover,\n",
        "            'sortino': sortino,\n",
        "            'cvar95': cvar95\n",
        "        }\n",
        "\n",
        "        return result\n"
      ]
    },
    {
      "cell_type": "code",
      "execution_count": 15,
      "metadata": {
        "colab": {
          "base_uri": "https://localhost:8080/"
        },
        "id": "cUzfrXcL-BrM",
        "outputId": "2c5431b1-4fcd-4a8c-9549-8b77c1815881"
      },
      "outputs": [
        {
          "name": "stdout",
          "output_type": "stream",
          "text": [
            "Chronos prediction functions defined successfully\n"
          ]
        }
      ],
      "source": [
        "# Chronos zero-shot prediction functions\n",
        "\n",
        "def chronos_predict_batch(pipeline, X_batch, prediction_length=1, num_samples=10):\n",
        "    \"\"\"\n",
        "    Batch prediction using Chronos.\n",
        "    Args:\n",
        "        pipeline: Chronos pipeline\n",
        "        X_batch: input data (batch_size, sequence_length)\n",
        "        prediction_length: prediction length\n",
        "        num_samples: number of samples\n",
        "    Returns:\n",
        "        predictions: prediction results (batch_size,)\n",
        "    \"\"\"\n",
        "    context_list = [torch.tensor(X_batch[i], dtype=torch.float32) for i in range(len(X_batch))]\n",
        "\n",
        "    forecasts = pipeline.predict(\n",
        "        context=context_list,\n",
        "        prediction_length=prediction_length,\n",
        "        num_samples=num_samples\n",
        "    )\n",
        "\n",
        "    predictions = np.array([forecast[0].mean() for forecast in forecasts])\n",
        "\n",
        "    return predictions\n",
        "\n",
        "def chronos_rolling_prediction(pipeline, X_data, batch_size=256, prediction_length=1):\n",
        "    \"\"\"\n",
        "    Rolling window prediction using Chronos.\n",
        "    Args:\n",
        "        pipeline: Chronos model\n",
        "        X_data: input features (n_samples, window_size)\n",
        "        batch_size: batch size\n",
        "        prediction_length: prediction length\n",
        "    Returns:\n",
        "        predictions: prediction results (n_samples,)\n",
        "    \"\"\"\n",
        "    n_samples = len(X_data)\n",
        "    predictions = np.zeros(n_samples)\n",
        "\n",
        "    print(f\"Running Chronos prediction on {n_samples} samples with batch size {batch_size}\")\n",
        "\n",
        "    for i in tqdm(range(0, n_samples, batch_size), desc=\"Chronos Prediction\"):\n",
        "        end_idx = min(i + batch_size, n_samples)\n",
        "        batch_X = X_data[i:end_idx]\n",
        "\n",
        "        batch_predictions = chronos_predict_batch(\n",
        "            pipeline, batch_X, prediction_length=prediction_length\n",
        "        )\n",
        "\n",
        "        predictions[i:end_idx] = batch_predictions\n",
        "\n",
        "    return predictions\n",
        "\n",
        "print(\"Chronos prediction functions defined successfully\")\n"
      ]
    },
    {
      "cell_type": "code",
      "execution_count": 16,
      "metadata": {
        "id": "nm_F2bFA-BrM"
      },
      "outputs": [],
      "source": [
        "# ========== Main function for daily prediction and next-day rebalancing portfolio simulation ==========\n",
        "\n",
        "def run_chronos_portfolio_backtest(start_year=2016, end_year=2024, window_sizes=None, model_names=None,\n",
        "                                   npz_path=\"/content/drive/MyDrive/ERP Data/all_window_datasets_unscaled.npz\"):\n",
        "    \"\"\"\n",
        "Portfolio simulation (daily prediction and next-day rebalancing):\n",
        "    1. Use Chronos T5 Base model for zero-shot prediction\n",
        "    2. Daily prediction to daily signal\n",
        "    3. Daily portfolio construction (T+1 rebalancing, strict permno alignment)\n",
        "    4. Separate summary metrics and time series data\n",
        "    \"\"\"\n",
        "    if window_sizes is None:\n",
        "        window_sizes = [5, 21, 252, 512]\n",
        "    if model_names is None:\n",
        "        model_names = [\"chronos base\"]\n",
        "\n",
        "    print(\"Starting daily rebalance portfolio backtesting simulation\")\n",
        "\n",
        "    backtester = PortfolioBacktester()\n",
        "\n",
        "    datasets = load_datasets(npz_path)\n",
        "\n",
        "    summary_results = []\n",
        "    daily_series_data = []\n",
        "    pred_rows = []\n",
        "\n",
        "    WEIGHT_SCHEMES = [\"VW\", \"EW\"]\n",
        "\n",
        "    for window in window_sizes:\n",
        "        print(f\"Processing window size: {window}\")\n",
        "\n",
        "        X_test = datasets[f\"X_test_{window}\"]\n",
        "        y_test = datasets[f\"y_test_{window}\"]\n",
        "        meta_test_dict = datasets[f\"meta_test_{window}\"].item()\n",
        "        meta_test = pd.DataFrame.from_dict(meta_test_dict)\n",
        "\n",
        "        permnos_test = meta_test[\"PERMNO\"].values\n",
        "        meta_test[\"signal_date\"]  = pd.to_datetime(meta_test[\"date\"])\n",
        "        meta_test[\"ret_date\"]     = pd.to_datetime(meta_test[\"ret_date\"])\n",
        "        market_caps = meta_test.get(\"MKTCAP\", np.ones(len(permnos_test)))\n",
        "\n",
        "        meta_test['date'] = pd.to_datetime(meta_test[\"date\"])\n",
        "        dates_test = meta_test['signal_date']\n",
        "\n",
        "        for model_name in model_names:\n",
        "            for scheme in WEIGHT_SCHEMES:\n",
        "                all_y_true   = []\n",
        "                all_y_pred   = []\n",
        "                all_permnos  = []\n",
        "                all_meta     = []\n",
        "                print(f\"  Model: {model_name}, Scheme: {scheme}\")\n",
        "\n",
        "                portfolio_daily_data = {\n",
        "                    'long_only': {'returns': [], 'turnovers': [], 'dates': []},\n",
        "                    'short_only': {'returns': [], 'turnovers': [], 'dates': []},\n",
        "                    'long_short': {'returns': [], 'turnovers': [], 'dates': []}\n",
        "                }\n",
        "\n",
        "                prev_portfolio_data = {'long_only': None, 'short_only': None, 'long_short': None}\n",
        "\n",
        "                signals_buf = {}\n",
        "\n",
        "                for year in range(start_year, min(end_year + 1, 2025)):\n",
        "                    print(f\"  Processing year: {year}\")\n",
        "\n",
        "                    year_mask = (dates_test.dt.year == year)\n",
        "                    if not np.any(year_mask):\n",
        "                        continue\n",
        "\n",
        "                    X_year = X_test[year_mask]\n",
        "                    y_year = y_test[year_mask]\n",
        "                    permnos_year = permnos_test[year_mask]\n",
        "                    market_caps_year = market_caps[year_mask]\n",
        "                    dates_year = dates_test[year_mask]\n",
        "                    ret_dates_year = meta_test.loc[year_mask, 'ret_date'].values\n",
        "\n",
        "                    batch_size = get_batch_size(window)\n",
        "                    predictions_year = chronos_rolling_prediction(\n",
        "                        pipeline=pipeline,\n",
        "                        X_data=X_year,\n",
        "                        batch_size=batch_size,\n",
        "                        prediction_length=1\n",
        "                    )\n",
        "\n",
        "                    df_quarter = pd.DataFrame({\n",
        "                        'signal_date': dates_year,\n",
        "                        'ret_date': ret_dates_year,\n",
        "                        'permno': permnos_year,\n",
        "                        'market_cap': market_caps_year,\n",
        "                        'actual_return': y_year,\n",
        "                        'prediction': predictions_year\n",
        "                    })\n",
        "\n",
        "                    if scheme == 'VW':\n",
        "                        df_q_save = df_quarter[['signal_date','ret_date','permno',\n",
        "                                                'actual_return','prediction','market_cap']].copy()\n",
        "                        df_q_save.rename(columns={'actual_return':'y_true',\n",
        "                                                  'prediction':'y_pred'}, inplace=True)\n",
        "                        df_q_save['model']  = model_name\n",
        "                        df_q_save['window'] = window\n",
        "                        pred_rows.append(df_q_save)\n",
        "\n",
        "                    all_y_true.append(df_quarter['actual_return'].values)\n",
        "                    all_y_pred.append(df_quarter['prediction'].values)\n",
        "                    all_permnos.append(df_quarter['permno'].values)\n",
        "                    all_meta.append(meta_test.loc[year_mask, :])\n",
        "\n",
        "                    for signal_date, sig_grp in df_quarter.groupby('signal_date'):\n",
        "\n",
        "                        daily_signals = (\n",
        "                            sig_grp.groupby('permno')['prediction'].mean()\n",
        "                                  .to_frame('prediction')\n",
        "                                  .join(sig_grp.groupby('permno')['market_cap'].mean())\n",
        "                        )\n",
        "                        signals_buf[signal_date] = daily_signals\n",
        "\n",
        "                        prev_date = signal_date - pd.tseries.offsets.BDay(1)\n",
        "                        if prev_date not in signals_buf:\n",
        "                            continue\n",
        "\n",
        "                        sigs = signals_buf.pop(prev_date)\n",
        "\n",
        "                        ret_grp = df_quarter[df_quarter['ret_date'] == signal_date]\n",
        "                        if len(ret_grp) == 0:\n",
        "                            continue\n",
        "\n",
        "                        daily_actual_returns = (\n",
        "                            ret_grp.groupby('permno')['actual_return']\n",
        "                                   .mean()\n",
        "                                   .reindex(sigs.index, fill_value=0)\n",
        "                                   .values\n",
        "                        )\n",
        "                        daily_permnos = sigs.index.values\n",
        "\n",
        "                        portfolios_data = backtester.create_portfolios_with_permno_tracking(\n",
        "                            signals      = sigs['prediction'].values,\n",
        "                            market_caps  = sigs['market_cap'].values,\n",
        "                            permnos      = daily_permnos,\n",
        "                            weight_scheme= scheme\n",
        "                        )\n",
        "\n",
        "                        for portfolio_type in ['long_only', 'short_only', 'long_short']:\n",
        "                            portfolio_info = portfolios_data[portfolio_type]\n",
        "\n",
        "                            portfolio_return, aligned_returns = backtester.calculate_aligned_portfolio_return(\n",
        "                                portfolio_weights=portfolio_info['weights'],\n",
        "                                portfolio_permnos=portfolio_info['permnos'],\n",
        "                                actual_returns=daily_actual_returns,\n",
        "                                actual_permnos=daily_permnos\n",
        "                            )\n",
        "\n",
        "                            if prev_portfolio_data[portfolio_type] is not None:\n",
        "                                prev_w_ser = pd.Series(\n",
        "                                    prev_portfolio_data[portfolio_type]['weights'],\n",
        "                                    index=prev_portfolio_data[portfolio_type]['permnos']\n",
        "                                )\n",
        "                                cur_w_ser = pd.Series(\n",
        "                                    portfolio_info['weights'],\n",
        "                                    index=portfolio_info['permnos']\n",
        "                                )\n",
        "\n",
        "                                prev_r_ser = pd.Series(\n",
        "                                    prev_portfolio_data[portfolio_type]['aligned_returns'],\n",
        "                                    index=prev_portfolio_data[portfolio_type]['permnos']\n",
        "                                )\n",
        "\n",
        "                                aligned_prev_w = prev_w_ser.reindex(cur_w_ser.index, fill_value=0).values\n",
        "                                aligned_prev_r = prev_r_ser.reindex(cur_w_ser.index, fill_value=0).values\n",
        "\n",
        "                                aligned_cur_w = cur_w_ser.values\n",
        "\n",
        "                                turnover = backtester.calc_turnover(\n",
        "                                    w_t  = aligned_prev_w,\n",
        "                                    r_t  = aligned_prev_r,\n",
        "                                    w_tp1= aligned_cur_w\n",
        "                                )\n",
        "                            else:\n",
        "                                turnover = np.sum(np.abs(portfolio_info['weights']))\n",
        "\n",
        "                            portfolio_daily_data[portfolio_type]['returns'].append(portfolio_return)\n",
        "                            portfolio_daily_data[portfolio_type]['turnovers'].append(turnover)\n",
        "                            portfolio_daily_data[portfolio_type]['dates'].append(signal_date)\n",
        "\n",
        "                            prev_portfolio_data[portfolio_type] = {\n",
        "                                'weights'        : portfolio_info['weights'],\n",
        "                                'permnos'        : portfolio_info['permnos'],\n",
        "                                'aligned_returns': aligned_returns\n",
        "                            }\n",
        "\n",
        "                for portfolio_type in ['long_only', 'short_only', 'long_short']:\n",
        "                    portfolio_data = portfolio_daily_data[portfolio_type]\n",
        "\n",
        "                    if len(portfolio_data['returns']) > 0:\n",
        "                        metrics = backtester.calculate_metrics(\n",
        "                            returns=portfolio_data['returns'],\n",
        "                            turnover_series=portfolio_data['turnovers']\n",
        "                        )\n",
        "\n",
        "                        rets = np.array(portfolio_data['returns'])\n",
        "                        tovs = np.array(portfolio_data['turnovers'])\n",
        "\n",
        "                        for tc in TC_GRID:\n",
        "                            tag = TC_TAG[tc]\n",
        "                            adj = rets - tovs * tc\n",
        "\n",
        "                            ann_ret = adj.mean() * 252\n",
        "                            ann_vol = adj.std(ddof=1) * np.sqrt(252)\n",
        "                            sharpe  = ann_ret / ann_vol if ann_vol > 0 else 0\n",
        "\n",
        "                            cum_adj = np.cumprod(1 + adj)\n",
        "                            mdd = ((cum_adj - np.maximum.accumulate(cum_adj)) /\n",
        "                                   np.maximum.accumulate(cum_adj)).min()\n",
        "\n",
        "                            metrics[f'{tag}_annual_return'] = ann_ret\n",
        "                            metrics[f'{tag}_annual_vol']    = ann_vol\n",
        "                            metrics[f'{tag}_sharpe']        = sharpe\n",
        "                            metrics[f'{tag}_max_drawdown']  = mdd\n",
        "\n",
        "                        summary_results.append({\n",
        "                            'scheme': scheme,\n",
        "                            'model': model_name,\n",
        "                            'window': window,\n",
        "                            'portfolio_type': portfolio_type,\n",
        "                            **metrics\n",
        "                        })\n",
        "\n",
        "                        rets_arr = np.array(portfolio_data['returns'])\n",
        "                        tovs_arr = np.array(portfolio_data['turnovers'])\n",
        "                        cum_no_tc = np.log1p(rets_arr).cumsum()\n",
        "\n",
        "                        tc_ret_dict = {}\n",
        "                        tc_cum_dict = {}\n",
        "                        for tc in TC_GRID:\n",
        "                            tag = TC_TAG[tc]\n",
        "                            r = rets_arr - tovs_arr * tc\n",
        "                            tc_ret_dict[tag] = r\n",
        "                            tc_cum_dict[tag] = np.log1p(r).cumsum()\n",
        "\n",
        "                        for i, date in enumerate(portfolio_data['dates']):\n",
        "                            row = {\n",
        "                                'scheme'        : scheme,\n",
        "                                'model'         : model_name,\n",
        "                                'window'        : window,\n",
        "                                'portfolio_type': portfolio_type,\n",
        "                                'date'          : str(date),\n",
        "                                'return'        : rets_arr[i],\n",
        "                                'turnover'      : tovs_arr[i],\n",
        "                                'cumulative'    : cum_no_tc[i],\n",
        "                            }\n",
        "                            for tag in TC_TAG.values():\n",
        "                                row[f'{tag}_return']     = tc_ret_dict[tag][i]\n",
        "                                row[f'{tag}_cumulative'] = tc_cum_dict[tag][i]\n",
        "\n",
        "                            daily_series_data.append(row)\n",
        "\n",
        "                if scheme == \"VW\" and len(all_y_true) > 0:\n",
        "                    y_all    = np.concatenate(all_y_true)\n",
        "                    yhat_all = np.concatenate(all_y_pred)\n",
        "                    perm_all = np.concatenate(all_permnos)\n",
        "                    meta_all = pd.concat(all_meta, ignore_index=True)\n",
        "\n",
        "                    k = X_test.shape[1]\n",
        "\n",
        "                    m1_metrics = overall_interval_metrics_method1(\n",
        "                        y_all, yhat_all, k,\n",
        "                        permnos_all=perm_all,\n",
        "                        meta_all=meta_all\n",
        "                    )\n",
        "\n",
        "                    full_pred_df = pd.concat(pred_rows, ignore_index=True)\n",
        "                    mean_ic, t_ic, pos_ic, _ = calc_ic_daily(full_pred_df, method='spearman')\n",
        "                    m1_metrics['RankIC_mean']  = mean_ic\n",
        "                    m1_metrics['RankIC_t']     = t_ic\n",
        "                    m1_metrics['RankIC_pos%']  = pos_ic\n",
        "\n",
        "                    save_metrics(m1_metrics, name=model_name, window=window,\n",
        "                        path=\"/content/drive/MyDrive/chronos_t5_base_project_portfolio/chronos_results/portfolio_metrics.csv\")\n",
        "\n",
        "    summary_df = pd.DataFrame(summary_results)\n",
        "    daily_df = pd.DataFrame(daily_series_data) if daily_series_data else pd.DataFrame()\n",
        "\n",
        "    tc_columns = [c for c in summary_df.columns if c.startswith('tc')]\n",
        "    summary_df[tc_columns] = summary_df[tc_columns].fillna(0.0)\n",
        "\n",
        "    def save_split_by_scheme(df, base_filename):\n",
        "        \"\"\"Helper function to save files split by scheme\"\"\"\n",
        "        if df.empty:\n",
        "            print(f\"Warning: DataFrame is empty, skipping save for {base_filename}\")\n",
        "            return None, None\n",
        "\n",
        "        vw_df = df[df['scheme'] == 'VW']\n",
        "        ew_df = df[df['scheme'] == 'EW']\n",
        "\n",
        "        vw_filename = f\"/content/drive/MyDrive/chronos_t5_base_project_portfolio/chronos_results/{base_filename}_VW.csv\"\n",
        "        ew_filename = f\"/content/drive/MyDrive/chronos_t5_base_project_portfolio/chronos_results/{base_filename}_EW.csv\"\n",
        "\n",
        "        vw_df.to_csv(vw_filename, index=False)\n",
        "        ew_df.to_csv(ew_filename, index=False)\n",
        "\n",
        "        print(f\"VW results saved to {vw_filename}\")\n",
        "        print(f\"EW results saved to {ew_filename}\")\n",
        "\n",
        "        return vw_filename, ew_filename\n",
        "\n",
        "    save_split_by_scheme(summary_df, \"portfolio_results_daily_rebalance\")\n",
        "\n",
        "    if not daily_df.empty:\n",
        "        save_split_by_scheme(daily_df, \"portfolio_daily_series\")\n",
        "\n",
        "    if pred_rows:\n",
        "        pred_df = pd.concat(pred_rows, ignore_index=True)\n",
        "        pred_df.to_csv(\"/content/drive/MyDrive/chronos_t5_base_project_portfolio/chronos_results/predictions_daily.csv\", index=False)\n",
        "        print(f\"Saved {len(pred_df)} prediction rows to predictions_daily.csv\")\n",
        "\n",
        "    print(f\"Generated {len(summary_results)} portfolio summary records\")\n",
        "    print(f\"Generated {len(daily_series_data)} daily series records\")\n",
        "\n",
        "    return summary_df, daily_df, backtester\n"
      ]
    },
    {
      "cell_type": "code",
      "execution_count": 17,
      "metadata": {
        "id": "zU80Uqy7MjXg"
      },
      "outputs": [],
      "source": [
        "# ========== Results Saving ==========\n",
        "\n",
        "import os\n",
        "\n",
        "results_dir = \"/content/drive/MyDrive/chronos_t5_base_project_portfolio/chronos_results\"\n",
        "figures_dir = \"/content/drive/MyDrive/chronos_t5_base_project_portfolio/chronos_figures\"\n",
        "\n",
        "os.makedirs(results_dir, exist_ok=True)\n",
        "os.makedirs(figures_dir, exist_ok=True)"
      ]
    },
    {
      "cell_type": "code",
      "execution_count": 18,
      "metadata": {
        "colab": {
          "base_uri": "https://localhost:8080/"
        },
        "id": "3OXrZ9L6Y9MZ",
        "outputId": "e02ec206-f8ab-40eb-d207-86b65fdba215"
      },
      "outputs": [
        {
          "name": "stdout",
          "output_type": "stream",
          "text": [
            "Starting Chronos T5-Base Portfolio Backtesting...\n",
            "Starting Daily Rebalance Portfolio Backtesting Simulation\n",
            "Data loaded successfully! Keys: ['X_train_5', 'y_train_5', 'meta_train_5', 'market_caps_train_5', 'X_test_5', 'y_test_5', 'meta_test_5', 'market_caps_test_5', 'X_train_21', 'y_train_21', 'meta_train_21', 'market_caps_train_21', 'X_test_21', 'y_test_21', 'meta_test_21', 'market_caps_test_21', 'X_train_252', 'y_train_252', 'meta_train_252', 'market_caps_train_252', 'X_test_252', 'y_test_252', 'meta_test_252', 'market_caps_test_252', 'X_train_512', 'y_train_512', 'meta_train_512', 'market_caps_train_512', 'X_test_512', 'y_test_512', 'meta_test_512', 'market_caps_test_512']\n",
            "Available datasets: 32 files\n",
            "Processing window size: 5\n",
            "  Model: chronos base, Scheme: VW\n",
            "  Processing year: 2016\n",
            "Running Chronos prediction on 12475 samples with batch size 1024\n"
          ]
        },
        {
          "name": "stderr",
          "output_type": "stream",
          "text": [
            "Chronos Prediction: 100%|██████████| 13/13 [00:08<00:00,  1.59it/s]\n"
          ]
        },
        {
          "name": "stdout",
          "output_type": "stream",
          "text": [
            "  Processing year: 2017\n",
            "Running Chronos prediction on 12434 samples with batch size 1024\n"
          ]
        },
        {
          "name": "stderr",
          "output_type": "stream",
          "text": [
            "Chronos Prediction: 100%|██████████| 13/13 [00:07<00:00,  1.70it/s]\n"
          ]
        },
        {
          "name": "stdout",
          "output_type": "stream",
          "text": [
            "  Processing year: 2018\n",
            "Running Chronos prediction on 12326 samples with batch size 1024\n"
          ]
        },
        {
          "name": "stderr",
          "output_type": "stream",
          "text": [
            "Chronos Prediction: 100%|██████████| 13/13 [00:07<00:00,  1.66it/s]\n"
          ]
        },
        {
          "name": "stdout",
          "output_type": "stream",
          "text": [
            "  Processing year: 2019\n",
            "Running Chronos prediction on 12488 samples with batch size 1024\n"
          ]
        },
        {
          "name": "stderr",
          "output_type": "stream",
          "text": [
            "Chronos Prediction: 100%|██████████| 13/13 [00:07<00:00,  1.63it/s]\n"
          ]
        },
        {
          "name": "stdout",
          "output_type": "stream",
          "text": [
            "  Processing year: 2020\n",
            "Running Chronos prediction on 11699 samples with batch size 1024\n"
          ]
        },
        {
          "name": "stderr",
          "output_type": "stream",
          "text": [
            "Chronos Prediction: 100%|██████████| 12/12 [00:07<00:00,  1.63it/s]\n"
          ]
        },
        {
          "name": "stdout",
          "output_type": "stream",
          "text": [
            "  Processing year: 2021\n",
            "Running Chronos prediction on 12447 samples with batch size 1024\n"
          ]
        },
        {
          "name": "stderr",
          "output_type": "stream",
          "text": [
            "Chronos Prediction: 100%|██████████| 13/13 [00:08<00:00,  1.50it/s]\n"
          ]
        },
        {
          "name": "stdout",
          "output_type": "stream",
          "text": [
            "  Processing year: 2022\n",
            "Running Chronos prediction on 12220 samples with batch size 1024\n"
          ]
        },
        {
          "name": "stderr",
          "output_type": "stream",
          "text": [
            "Chronos Prediction: 100%|██████████| 12/12 [00:07<00:00,  1.57it/s]\n"
          ]
        },
        {
          "name": "stdout",
          "output_type": "stream",
          "text": [
            "  Processing year: 2023\n",
            "Running Chronos prediction on 12367 samples with batch size 1024\n"
          ]
        },
        {
          "name": "stderr",
          "output_type": "stream",
          "text": [
            "Chronos Prediction: 100%|██████████| 13/13 [00:07<00:00,  1.71it/s]\n"
          ]
        },
        {
          "name": "stdout",
          "output_type": "stream",
          "text": [
            "  Processing year: 2024\n",
            "Running Chronos prediction on 12394 samples with batch size 1024\n"
          ]
        },
        {
          "name": "stderr",
          "output_type": "stream",
          "text": [
            "Chronos Prediction: 100%|██████████| 13/13 [00:07<00:00,  1.69it/s]\n",
            "/tmp/ipython-input-486884232.py:54: DeprecationWarning: DataFrameGroupBy.apply operated on the grouping columns. This behavior is deprecated, and in a future version of pandas the grouping columns will be excluded from the operation. Either pass `include_groups=False` to exclude the groupings or explicitly select the grouping columns after groupby to silence this warning.\n",
            "  .apply(lambda g: g['y_pred'].corr(g['y_true'], method=method))\n"
          ]
        },
        {
          "name": "stdout",
          "output_type": "stream",
          "text": [
            "Metrics saved for chronos base_w5 to /content/drive/MyDrive/chronos_t5_base_project_portfolio/chronos_results/portfolio_metrics.csv\n",
            "  Model: chronos base, Scheme: EW\n",
            "  Processing year: 2016\n",
            "Running Chronos prediction on 12475 samples with batch size 1024\n"
          ]
        },
        {
          "name": "stderr",
          "output_type": "stream",
          "text": [
            "Chronos Prediction: 100%|██████████| 13/13 [00:07<00:00,  1.66it/s]\n"
          ]
        },
        {
          "name": "stdout",
          "output_type": "stream",
          "text": [
            "  Processing year: 2017\n",
            "Running Chronos prediction on 12434 samples with batch size 1024\n"
          ]
        },
        {
          "name": "stderr",
          "output_type": "stream",
          "text": [
            "Chronos Prediction: 100%|██████████| 13/13 [00:07<00:00,  1.70it/s]\n"
          ]
        },
        {
          "name": "stdout",
          "output_type": "stream",
          "text": [
            "  Processing year: 2018\n",
            "Running Chronos prediction on 12326 samples with batch size 1024\n"
          ]
        },
        {
          "name": "stderr",
          "output_type": "stream",
          "text": [
            "Chronos Prediction: 100%|██████████| 13/13 [00:07<00:00,  1.69it/s]\n"
          ]
        },
        {
          "name": "stdout",
          "output_type": "stream",
          "text": [
            "  Processing year: 2019\n",
            "Running Chronos prediction on 12488 samples with batch size 1024\n"
          ]
        },
        {
          "name": "stderr",
          "output_type": "stream",
          "text": [
            "Chronos Prediction: 100%|██████████| 13/13 [00:07<00:00,  1.65it/s]\n"
          ]
        },
        {
          "name": "stdout",
          "output_type": "stream",
          "text": [
            "  Processing year: 2020\n",
            "Running Chronos prediction on 11699 samples with batch size 1024\n"
          ]
        },
        {
          "name": "stderr",
          "output_type": "stream",
          "text": [
            "Chronos Prediction: 100%|██████████| 12/12 [00:07<00:00,  1.64it/s]\n"
          ]
        },
        {
          "name": "stdout",
          "output_type": "stream",
          "text": [
            "  Processing year: 2021\n",
            "Running Chronos prediction on 12447 samples with batch size 1024\n"
          ]
        },
        {
          "name": "stderr",
          "output_type": "stream",
          "text": [
            "Chronos Prediction: 100%|██████████| 13/13 [00:07<00:00,  1.67it/s]\n"
          ]
        },
        {
          "name": "stdout",
          "output_type": "stream",
          "text": [
            "  Processing year: 2022\n",
            "Running Chronos prediction on 12220 samples with batch size 1024\n"
          ]
        },
        {
          "name": "stderr",
          "output_type": "stream",
          "text": [
            "Chronos Prediction: 100%|██████████| 12/12 [00:07<00:00,  1.57it/s]\n"
          ]
        },
        {
          "name": "stdout",
          "output_type": "stream",
          "text": [
            "  Processing year: 2023\n",
            "Running Chronos prediction on 12367 samples with batch size 1024\n"
          ]
        },
        {
          "name": "stderr",
          "output_type": "stream",
          "text": [
            "Chronos Prediction: 100%|██████████| 13/13 [00:07<00:00,  1.71it/s]\n"
          ]
        },
        {
          "name": "stdout",
          "output_type": "stream",
          "text": [
            "  Processing year: 2024\n",
            "Running Chronos prediction on 12394 samples with batch size 1024\n"
          ]
        },
        {
          "name": "stderr",
          "output_type": "stream",
          "text": [
            "Chronos Prediction: 100%|██████████| 13/13 [00:07<00:00,  1.68it/s]\n"
          ]
        },
        {
          "name": "stdout",
          "output_type": "stream",
          "text": [
            "Processing window size: 21\n",
            "  Model: chronos base, Scheme: VW\n",
            "  Processing year: 2016\n",
            "Running Chronos prediction on 12475 samples with batch size 256\n"
          ]
        },
        {
          "name": "stderr",
          "output_type": "stream",
          "text": [
            "Chronos Prediction: 100%|██████████| 49/49 [00:17<00:00,  2.85it/s]\n"
          ]
        },
        {
          "name": "stdout",
          "output_type": "stream",
          "text": [
            "  Processing year: 2017\n",
            "Running Chronos prediction on 12434 samples with batch size 256\n"
          ]
        },
        {
          "name": "stderr",
          "output_type": "stream",
          "text": [
            "Chronos Prediction: 100%|██████████| 49/49 [00:17<00:00,  2.86it/s]\n"
          ]
        },
        {
          "name": "stdout",
          "output_type": "stream",
          "text": [
            "  Processing year: 2018\n",
            "Running Chronos prediction on 12326 samples with batch size 256\n"
          ]
        },
        {
          "name": "stderr",
          "output_type": "stream",
          "text": [
            "Chronos Prediction: 100%|██████████| 49/49 [00:17<00:00,  2.86it/s]\n"
          ]
        },
        {
          "name": "stdout",
          "output_type": "stream",
          "text": [
            "  Processing year: 2019\n",
            "Running Chronos prediction on 12488 samples with batch size 256\n"
          ]
        },
        {
          "name": "stderr",
          "output_type": "stream",
          "text": [
            "Chronos Prediction: 100%|██████████| 49/49 [00:17<00:00,  2.83it/s]\n"
          ]
        },
        {
          "name": "stdout",
          "output_type": "stream",
          "text": [
            "  Processing year: 2020\n",
            "Running Chronos prediction on 11699 samples with batch size 256\n"
          ]
        },
        {
          "name": "stderr",
          "output_type": "stream",
          "text": [
            "Chronos Prediction: 100%|██████████| 46/46 [00:16<00:00,  2.85it/s]\n"
          ]
        },
        {
          "name": "stdout",
          "output_type": "stream",
          "text": [
            "  Processing year: 2021\n",
            "Running Chronos prediction on 12447 samples with batch size 256\n"
          ]
        },
        {
          "name": "stderr",
          "output_type": "stream",
          "text": [
            "Chronos Prediction: 100%|██████████| 49/49 [00:17<00:00,  2.86it/s]\n"
          ]
        },
        {
          "name": "stdout",
          "output_type": "stream",
          "text": [
            "  Processing year: 2022\n",
            "Running Chronos prediction on 12220 samples with batch size 256\n"
          ]
        },
        {
          "name": "stderr",
          "output_type": "stream",
          "text": [
            "Chronos Prediction: 100%|██████████| 48/48 [00:16<00:00,  2.84it/s]\n"
          ]
        },
        {
          "name": "stdout",
          "output_type": "stream",
          "text": [
            "  Processing year: 2023\n",
            "Running Chronos prediction on 12367 samples with batch size 256\n"
          ]
        },
        {
          "name": "stderr",
          "output_type": "stream",
          "text": [
            "Chronos Prediction: 100%|██████████| 49/49 [00:17<00:00,  2.87it/s]\n"
          ]
        },
        {
          "name": "stdout",
          "output_type": "stream",
          "text": [
            "  Processing year: 2024\n",
            "Running Chronos prediction on 12394 samples with batch size 256\n"
          ]
        },
        {
          "name": "stderr",
          "output_type": "stream",
          "text": [
            "Chronos Prediction: 100%|██████████| 49/49 [00:17<00:00,  2.86it/s]\n",
            "/tmp/ipython-input-486884232.py:54: DeprecationWarning: DataFrameGroupBy.apply operated on the grouping columns. This behavior is deprecated, and in a future version of pandas the grouping columns will be excluded from the operation. Either pass `include_groups=False` to exclude the groupings or explicitly select the grouping columns after groupby to silence this warning.\n",
            "  .apply(lambda g: g['y_pred'].corr(g['y_true'], method=method))\n"
          ]
        },
        {
          "name": "stdout",
          "output_type": "stream",
          "text": [
            "Metrics saved for chronos base_w21 to /content/drive/MyDrive/chronos_t5_base_project_portfolio/chronos_results/portfolio_metrics.csv\n",
            "  Model: chronos base, Scheme: EW\n",
            "  Processing year: 2016\n",
            "Running Chronos prediction on 12475 samples with batch size 256\n"
          ]
        },
        {
          "name": "stderr",
          "output_type": "stream",
          "text": [
            "Chronos Prediction: 100%|██████████| 49/49 [00:17<00:00,  2.82it/s]\n"
          ]
        },
        {
          "name": "stdout",
          "output_type": "stream",
          "text": [
            "  Processing year: 2017\n",
            "Running Chronos prediction on 12434 samples with batch size 256\n"
          ]
        },
        {
          "name": "stderr",
          "output_type": "stream",
          "text": [
            "Chronos Prediction: 100%|██████████| 49/49 [00:17<00:00,  2.84it/s]\n"
          ]
        },
        {
          "name": "stdout",
          "output_type": "stream",
          "text": [
            "  Processing year: 2018\n",
            "Running Chronos prediction on 12326 samples with batch size 256\n"
          ]
        },
        {
          "name": "stderr",
          "output_type": "stream",
          "text": [
            "Chronos Prediction: 100%|██████████| 49/49 [00:17<00:00,  2.87it/s]\n"
          ]
        },
        {
          "name": "stdout",
          "output_type": "stream",
          "text": [
            "  Processing year: 2019\n",
            "Running Chronos prediction on 12488 samples with batch size 256\n"
          ]
        },
        {
          "name": "stderr",
          "output_type": "stream",
          "text": [
            "Chronos Prediction: 100%|██████████| 49/49 [00:17<00:00,  2.85it/s]\n"
          ]
        },
        {
          "name": "stdout",
          "output_type": "stream",
          "text": [
            "  Processing year: 2020\n",
            "Running Chronos prediction on 11699 samples with batch size 256\n"
          ]
        },
        {
          "name": "stderr",
          "output_type": "stream",
          "text": [
            "Chronos Prediction: 100%|██████████| 46/46 [00:16<00:00,  2.85it/s]\n"
          ]
        },
        {
          "name": "stdout",
          "output_type": "stream",
          "text": [
            "  Processing year: 2021\n",
            "Running Chronos prediction on 12447 samples with batch size 256\n"
          ]
        },
        {
          "name": "stderr",
          "output_type": "stream",
          "text": [
            "Chronos Prediction: 100%|██████████| 49/49 [00:17<00:00,  2.85it/s]\n"
          ]
        },
        {
          "name": "stdout",
          "output_type": "stream",
          "text": [
            "  Processing year: 2022\n",
            "Running Chronos prediction on 12220 samples with batch size 256\n"
          ]
        },
        {
          "name": "stderr",
          "output_type": "stream",
          "text": [
            "Chronos Prediction: 100%|██████████| 48/48 [00:16<00:00,  2.83it/s]\n"
          ]
        },
        {
          "name": "stdout",
          "output_type": "stream",
          "text": [
            "  Processing year: 2023\n",
            "Running Chronos prediction on 12367 samples with batch size 256\n"
          ]
        },
        {
          "name": "stderr",
          "output_type": "stream",
          "text": [
            "Chronos Prediction: 100%|██████████| 49/49 [00:17<00:00,  2.88it/s]\n"
          ]
        },
        {
          "name": "stdout",
          "output_type": "stream",
          "text": [
            "  Processing year: 2024\n",
            "Running Chronos prediction on 12394 samples with batch size 256\n"
          ]
        },
        {
          "name": "stderr",
          "output_type": "stream",
          "text": [
            "Chronos Prediction: 100%|██████████| 49/49 [00:17<00:00,  2.85it/s]\n"
          ]
        },
        {
          "name": "stdout",
          "output_type": "stream",
          "text": [
            "Processing window size: 252\n",
            "  Model: chronos base, Scheme: VW\n",
            "  Processing year: 2016\n",
            "Running Chronos prediction on 12475 samples with batch size 32\n"
          ]
        },
        {
          "name": "stderr",
          "output_type": "stream",
          "text": [
            "Chronos Prediction: 100%|██████████| 390/390 [03:00<00:00,  2.16it/s]\n"
          ]
        },
        {
          "name": "stdout",
          "output_type": "stream",
          "text": [
            "  Processing year: 2017\n",
            "Running Chronos prediction on 12434 samples with batch size 32\n"
          ]
        },
        {
          "name": "stderr",
          "output_type": "stream",
          "text": [
            "Chronos Prediction: 100%|██████████| 389/389 [02:59<00:00,  2.17it/s]\n"
          ]
        },
        {
          "name": "stdout",
          "output_type": "stream",
          "text": [
            "  Processing year: 2018\n",
            "Running Chronos prediction on 12326 samples with batch size 32\n"
          ]
        },
        {
          "name": "stderr",
          "output_type": "stream",
          "text": [
            "Chronos Prediction: 100%|██████████| 386/386 [02:57<00:00,  2.17it/s]\n"
          ]
        },
        {
          "name": "stdout",
          "output_type": "stream",
          "text": [
            "  Processing year: 2019\n",
            "Running Chronos prediction on 12488 samples with batch size 32\n"
          ]
        },
        {
          "name": "stderr",
          "output_type": "stream",
          "text": [
            "Chronos Prediction: 100%|██████████| 391/391 [02:59<00:00,  2.18it/s]\n"
          ]
        },
        {
          "name": "stdout",
          "output_type": "stream",
          "text": [
            "  Processing year: 2020\n",
            "Running Chronos prediction on 11699 samples with batch size 32\n"
          ]
        },
        {
          "name": "stderr",
          "output_type": "stream",
          "text": [
            "Chronos Prediction: 100%|██████████| 366/366 [02:48<00:00,  2.17it/s]\n"
          ]
        },
        {
          "name": "stdout",
          "output_type": "stream",
          "text": [
            "  Processing year: 2021\n",
            "Running Chronos prediction on 12447 samples with batch size 32\n"
          ]
        },
        {
          "name": "stderr",
          "output_type": "stream",
          "text": [
            "Chronos Prediction: 100%|██████████| 389/389 [02:59<00:00,  2.17it/s]\n"
          ]
        },
        {
          "name": "stdout",
          "output_type": "stream",
          "text": [
            "  Processing year: 2022\n",
            "Running Chronos prediction on 12220 samples with batch size 32\n"
          ]
        },
        {
          "name": "stderr",
          "output_type": "stream",
          "text": [
            "Chronos Prediction: 100%|██████████| 382/382 [02:56<00:00,  2.17it/s]\n"
          ]
        },
        {
          "name": "stdout",
          "output_type": "stream",
          "text": [
            "  Processing year: 2023\n",
            "Running Chronos prediction on 12367 samples with batch size 32\n"
          ]
        },
        {
          "name": "stderr",
          "output_type": "stream",
          "text": [
            "Chronos Prediction: 100%|██████████| 387/387 [02:58<00:00,  2.17it/s]\n"
          ]
        },
        {
          "name": "stdout",
          "output_type": "stream",
          "text": [
            "  Processing year: 2024\n",
            "Running Chronos prediction on 12394 samples with batch size 32\n"
          ]
        },
        {
          "name": "stderr",
          "output_type": "stream",
          "text": [
            "Chronos Prediction: 100%|██████████| 388/388 [02:58<00:00,  2.18it/s]\n",
            "/tmp/ipython-input-486884232.py:54: DeprecationWarning: DataFrameGroupBy.apply operated on the grouping columns. This behavior is deprecated, and in a future version of pandas the grouping columns will be excluded from the operation. Either pass `include_groups=False` to exclude the groupings or explicitly select the grouping columns after groupby to silence this warning.\n",
            "  .apply(lambda g: g['y_pred'].corr(g['y_true'], method=method))\n"
          ]
        },
        {
          "name": "stdout",
          "output_type": "stream",
          "text": [
            "Metrics saved for chronos base_w252 to /content/drive/MyDrive/chronos_t5_base_project_portfolio/chronos_results/portfolio_metrics.csv\n",
            "  Model: chronos base, Scheme: EW\n",
            "  Processing year: 2016\n",
            "Running Chronos prediction on 12475 samples with batch size 32\n"
          ]
        },
        {
          "name": "stderr",
          "output_type": "stream",
          "text": [
            "Chronos Prediction: 100%|██████████| 390/390 [02:59<00:00,  2.17it/s]\n"
          ]
        },
        {
          "name": "stdout",
          "output_type": "stream",
          "text": [
            "  Processing year: 2017\n",
            "Running Chronos prediction on 12434 samples with batch size 32\n"
          ]
        },
        {
          "name": "stderr",
          "output_type": "stream",
          "text": [
            "Chronos Prediction: 100%|██████████| 389/389 [02:59<00:00,  2.17it/s]\n"
          ]
        },
        {
          "name": "stdout",
          "output_type": "stream",
          "text": [
            "  Processing year: 2018\n",
            "Running Chronos prediction on 12326 samples with batch size 32\n"
          ]
        },
        {
          "name": "stderr",
          "output_type": "stream",
          "text": [
            "Chronos Prediction: 100%|██████████| 386/386 [02:57<00:00,  2.17it/s]\n"
          ]
        },
        {
          "name": "stdout",
          "output_type": "stream",
          "text": [
            "  Processing year: 2019\n",
            "Running Chronos prediction on 12488 samples with batch size 32\n"
          ]
        },
        {
          "name": "stderr",
          "output_type": "stream",
          "text": [
            "Chronos Prediction: 100%|██████████| 391/391 [03:00<00:00,  2.17it/s]\n"
          ]
        },
        {
          "name": "stdout",
          "output_type": "stream",
          "text": [
            "  Processing year: 2020\n",
            "Running Chronos prediction on 11699 samples with batch size 32\n"
          ]
        },
        {
          "name": "stderr",
          "output_type": "stream",
          "text": [
            "Chronos Prediction: 100%|██████████| 366/366 [02:48<00:00,  2.17it/s]\n"
          ]
        },
        {
          "name": "stdout",
          "output_type": "stream",
          "text": [
            "  Processing year: 2021\n",
            "Running Chronos prediction on 12447 samples with batch size 32\n"
          ]
        },
        {
          "name": "stderr",
          "output_type": "stream",
          "text": [
            "Chronos Prediction: 100%|██████████| 389/389 [02:59<00:00,  2.17it/s]\n"
          ]
        },
        {
          "name": "stdout",
          "output_type": "stream",
          "text": [
            "  Processing year: 2022\n",
            "Running Chronos prediction on 12220 samples with batch size 32\n"
          ]
        },
        {
          "name": "stderr",
          "output_type": "stream",
          "text": [
            "Chronos Prediction: 100%|██████████| 382/382 [02:56<00:00,  2.17it/s]\n"
          ]
        },
        {
          "name": "stdout",
          "output_type": "stream",
          "text": [
            "  Processing year: 2023\n",
            "Running Chronos prediction on 12367 samples with batch size 32\n"
          ]
        },
        {
          "name": "stderr",
          "output_type": "stream",
          "text": [
            "Chronos Prediction: 100%|██████████| 387/387 [02:57<00:00,  2.18it/s]\n"
          ]
        },
        {
          "name": "stdout",
          "output_type": "stream",
          "text": [
            "  Processing year: 2024\n",
            "Running Chronos prediction on 12394 samples with batch size 32\n"
          ]
        },
        {
          "name": "stderr",
          "output_type": "stream",
          "text": [
            "Chronos Prediction: 100%|██████████| 388/388 [02:58<00:00,  2.17it/s]\n"
          ]
        },
        {
          "name": "stdout",
          "output_type": "stream",
          "text": [
            "Processing window size: 512\n",
            "  Model: chronos base, Scheme: VW\n",
            "  Processing year: 2016\n",
            "Running Chronos prediction on 12475 samples with batch size 16\n"
          ]
        },
        {
          "name": "stderr",
          "output_type": "stream",
          "text": [
            "Chronos Prediction: 100%|██████████| 780/780 [07:21<00:00,  1.76it/s]\n"
          ]
        },
        {
          "name": "stdout",
          "output_type": "stream",
          "text": [
            "  Processing year: 2017\n",
            "Running Chronos prediction on 12434 samples with batch size 16\n"
          ]
        },
        {
          "name": "stderr",
          "output_type": "stream",
          "text": [
            "Chronos Prediction: 100%|██████████| 778/778 [07:20<00:00,  1.77it/s]\n"
          ]
        },
        {
          "name": "stdout",
          "output_type": "stream",
          "text": [
            "  Processing year: 2018\n",
            "Running Chronos prediction on 12326 samples with batch size 16\n"
          ]
        },
        {
          "name": "stderr",
          "output_type": "stream",
          "text": [
            "Chronos Prediction: 100%|██████████| 771/771 [07:16<00:00,  1.77it/s]\n"
          ]
        },
        {
          "name": "stdout",
          "output_type": "stream",
          "text": [
            "  Processing year: 2019\n",
            "Running Chronos prediction on 12488 samples with batch size 16\n"
          ]
        },
        {
          "name": "stderr",
          "output_type": "stream",
          "text": [
            "Chronos Prediction: 100%|██████████| 781/781 [07:22<00:00,  1.77it/s]\n"
          ]
        },
        {
          "name": "stdout",
          "output_type": "stream",
          "text": [
            "  Processing year: 2020\n",
            "Running Chronos prediction on 11699 samples with batch size 16\n"
          ]
        },
        {
          "name": "stderr",
          "output_type": "stream",
          "text": [
            "Chronos Prediction: 100%|██████████| 732/732 [06:54<00:00,  1.77it/s]\n"
          ]
        },
        {
          "name": "stdout",
          "output_type": "stream",
          "text": [
            "  Processing year: 2021\n",
            "Running Chronos prediction on 12447 samples with batch size 16\n"
          ]
        },
        {
          "name": "stderr",
          "output_type": "stream",
          "text": [
            "Chronos Prediction: 100%|██████████| 778/778 [07:20<00:00,  1.77it/s]\n"
          ]
        },
        {
          "name": "stdout",
          "output_type": "stream",
          "text": [
            "  Processing year: 2022\n",
            "Running Chronos prediction on 12220 samples with batch size 16\n"
          ]
        },
        {
          "name": "stderr",
          "output_type": "stream",
          "text": [
            "Chronos Prediction: 100%|██████████| 764/764 [07:12<00:00,  1.77it/s]\n"
          ]
        },
        {
          "name": "stdout",
          "output_type": "stream",
          "text": [
            "  Processing year: 2023\n",
            "Running Chronos prediction on 12367 samples with batch size 16\n"
          ]
        },
        {
          "name": "stderr",
          "output_type": "stream",
          "text": [
            "Chronos Prediction: 100%|██████████| 773/773 [07:17<00:00,  1.77it/s]\n"
          ]
        },
        {
          "name": "stdout",
          "output_type": "stream",
          "text": [
            "  Processing year: 2024\n",
            "Running Chronos prediction on 12394 samples with batch size 16\n"
          ]
        },
        {
          "name": "stderr",
          "output_type": "stream",
          "text": [
            "Chronos Prediction: 100%|██████████| 775/775 [07:18<00:00,  1.77it/s]\n",
            "/tmp/ipython-input-486884232.py:54: DeprecationWarning: DataFrameGroupBy.apply operated on the grouping columns. This behavior is deprecated, and in a future version of pandas the grouping columns will be excluded from the operation. Either pass `include_groups=False` to exclude the groupings or explicitly select the grouping columns after groupby to silence this warning.\n",
            "  .apply(lambda g: g['y_pred'].corr(g['y_true'], method=method))\n"
          ]
        },
        {
          "name": "stdout",
          "output_type": "stream",
          "text": [
            "Metrics saved for chronos base_w512 to /content/drive/MyDrive/chronos_t5_base_project_portfolio/chronos_results/portfolio_metrics.csv\n",
            "  Model: chronos base, Scheme: EW\n",
            "  Processing year: 2016\n",
            "Running Chronos prediction on 12475 samples with batch size 16\n"
          ]
        },
        {
          "name": "stderr",
          "output_type": "stream",
          "text": [
            "Chronos Prediction: 100%|██████████| 780/780 [07:22<00:00,  1.76it/s]\n"
          ]
        },
        {
          "name": "stdout",
          "output_type": "stream",
          "text": [
            "  Processing year: 2017\n",
            "Running Chronos prediction on 12434 samples with batch size 16\n"
          ]
        },
        {
          "name": "stderr",
          "output_type": "stream",
          "text": [
            "Chronos Prediction: 100%|██████████| 778/778 [07:20<00:00,  1.77it/s]\n"
          ]
        },
        {
          "name": "stdout",
          "output_type": "stream",
          "text": [
            "  Processing year: 2018\n",
            "Running Chronos prediction on 12326 samples with batch size 16\n"
          ]
        },
        {
          "name": "stderr",
          "output_type": "stream",
          "text": [
            "Chronos Prediction: 100%|██████████| 771/771 [07:16<00:00,  1.77it/s]\n"
          ]
        },
        {
          "name": "stdout",
          "output_type": "stream",
          "text": [
            "  Processing year: 2019\n",
            "Running Chronos prediction on 12488 samples with batch size 16\n"
          ]
        },
        {
          "name": "stderr",
          "output_type": "stream",
          "text": [
            "Chronos Prediction: 100%|██████████| 781/781 [07:22<00:00,  1.77it/s]\n"
          ]
        },
        {
          "name": "stdout",
          "output_type": "stream",
          "text": [
            "  Processing year: 2020\n",
            "Running Chronos prediction on 11699 samples with batch size 16\n"
          ]
        },
        {
          "name": "stderr",
          "output_type": "stream",
          "text": [
            "Chronos Prediction: 100%|██████████| 732/732 [06:54<00:00,  1.77it/s]\n"
          ]
        },
        {
          "name": "stdout",
          "output_type": "stream",
          "text": [
            "  Processing year: 2021\n",
            "Running Chronos prediction on 12447 samples with batch size 16\n"
          ]
        },
        {
          "name": "stderr",
          "output_type": "stream",
          "text": [
            "Chronos Prediction: 100%|██████████| 778/778 [07:20<00:00,  1.77it/s]\n"
          ]
        },
        {
          "name": "stdout",
          "output_type": "stream",
          "text": [
            "  Processing year: 2022\n",
            "Running Chronos prediction on 12220 samples with batch size 16\n"
          ]
        },
        {
          "name": "stderr",
          "output_type": "stream",
          "text": [
            "Chronos Prediction: 100%|██████████| 764/764 [07:12<00:00,  1.77it/s]\n"
          ]
        },
        {
          "name": "stdout",
          "output_type": "stream",
          "text": [
            "  Processing year: 2023\n",
            "Running Chronos prediction on 12367 samples with batch size 16\n"
          ]
        },
        {
          "name": "stderr",
          "output_type": "stream",
          "text": [
            "Chronos Prediction: 100%|██████████| 773/773 [07:17<00:00,  1.77it/s]\n"
          ]
        },
        {
          "name": "stdout",
          "output_type": "stream",
          "text": [
            "  Processing year: 2024\n",
            "Running Chronos prediction on 12394 samples with batch size 16\n"
          ]
        },
        {
          "name": "stderr",
          "output_type": "stream",
          "text": [
            "Chronos Prediction: 100%|██████████| 775/775 [07:18<00:00,  1.77it/s]\n"
          ]
        },
        {
          "name": "stdout",
          "output_type": "stream",
          "text": [
            "VW results saved to /content/drive/MyDrive/chronos_t5_base_project_portfolio/chronos_results/portfolio_results_daily_rebalance_VW.csv\n",
            "EW results saved to /content/drive/MyDrive/chronos_t5_base_project_portfolio/chronos_results/portfolio_results_daily_rebalance_EW.csv\n",
            "VW results saved to /content/drive/MyDrive/chronos_t5_base_project_portfolio/chronos_results/portfolio_daily_series_VW.csv\n",
            "EW results saved to /content/drive/MyDrive/chronos_t5_base_project_portfolio/chronos_results/portfolio_daily_series_EW.csv\n",
            "Saved 443400 prediction rows to predictions_daily.csv\n",
            "Generated 24 portfolio summary records\n",
            "Generated 52272 daily series records\n",
            "\\n============================================================\n",
            "CHRONOS T5-BASE PORTFOLIO BACKTESTING RESULTS\n",
            "============================================================\n",
            "\\nSummary Results:\n",
            "   scheme         model  window portfolio_type  annual_return  annual_vol  \\\n",
            "0      VW  chronos base       5      long_only         0.1252      0.1982   \n",
            "1      VW  chronos base       5     short_only        -0.1585      0.2050   \n",
            "2      VW  chronos base       5     long_short        -0.0333      0.2116   \n",
            "3      EW  chronos base       5      long_only         0.1285      0.2059   \n",
            "4      EW  chronos base       5     short_only        -0.1817      0.2115   \n",
            "5      EW  chronos base       5     long_short        -0.0533      0.2040   \n",
            "6      VW  chronos base      21      long_only         0.0920      0.1946   \n",
            "7      VW  chronos base      21     short_only        -0.1602      0.2088   \n",
            "8      VW  chronos base      21     long_short        -0.0682      0.2126   \n",
            "9      EW  chronos base      21      long_only         0.1627      0.2045   \n",
            "10     EW  chronos base      21     short_only        -0.1507      0.2165   \n",
            "11     EW  chronos base      21     long_short         0.0120      0.2007   \n",
            "12     VW  chronos base     252      long_only         0.1507      0.1965   \n",
            "13     VW  chronos base     252     short_only        -0.2243      0.2164   \n",
            "14     VW  chronos base     252     long_short        -0.0737      0.2037   \n",
            "15     EW  chronos base     252      long_only         0.1133      0.1910   \n",
            "16     EW  chronos base     252     short_only        -0.1384      0.2349   \n",
            "17     EW  chronos base     252     long_short        -0.0251      0.1910   \n",
            "18     VW  chronos base     512      long_only         0.1519      0.1889   \n",
            "19     VW  chronos base     512     short_only        -0.1118      0.2180   \n",
            "20     VW  chronos base     512     long_short         0.0402      0.2009   \n",
            "21     EW  chronos base     512      long_only         0.1395      0.1798   \n",
            "22     EW  chronos base     512     short_only        -0.1369      0.2427   \n",
            "23     EW  chronos base     512     long_short         0.0026      0.1937   \n",
            "\n",
            "    sharpe  max_drawdown  max_1d_loss  avg_turnover  ...  tc20_sharpe  \\\n",
            "0   0.6317        0.3423      -0.0465        1.7476  ...      -3.8051   \n",
            "1  -0.7734        0.8238      -0.0534        1.7272  ...      -5.0058   \n",
            "2  -0.1573        0.6163      -0.0549        3.4748  ...      -8.3983   \n",
            "3   0.6242        0.3053      -0.0619        1.5831  ...      -3.2513   \n",
            "4  -0.8594        0.8478      -0.0540        1.5896  ...      -4.6449   \n",
            "5  -0.2610        0.5551      -0.0631        3.1733  ...      -8.0948   \n",
            "6   0.4727        0.3956      -0.0638        1.6439  ...      -3.7870   \n",
            "7  -0.7673        0.8111      -0.0734        1.6274  ...      -4.6791   \n",
            "8  -0.3207        0.6711      -0.0720        3.2713  ...      -8.0325   \n",
            "9   0.7957        0.2857      -0.0534        1.4789  ...      -2.8481   \n",
            "10 -0.6958        0.8112      -0.0613        1.4498  ...      -4.0667   \n",
            "11  0.0600        0.6279      -0.0626        2.9287  ...      -7.2890   \n",
            "12  0.7669        0.3612      -0.0533        1.6305  ...      -3.4114   \n",
            "13 -1.0366        0.8972      -0.0507        1.6815  ...      -4.9424   \n",
            "14 -0.3616        0.6678      -0.0720        3.3120  ...      -8.5225   \n",
            "15  0.5931        0.3101      -0.0437        1.5370  ...      -3.4528   \n",
            "16 -0.5892        0.7967      -0.0557        1.4599  ...      -3.7223   \n",
            "17 -0.1316        0.5276      -0.0720        2.9970  ...      -8.0259   \n",
            "18  0.8040        0.2487      -0.0457        1.6685  ...      -3.6475   \n",
            "19 -0.5126        0.7585      -0.0734        1.7027  ...      -4.4393   \n",
            "20  0.1998        0.5653      -0.0760        3.3710  ...      -8.2349   \n",
            "21  0.7756        0.3294      -0.0404        1.5860  ...      -3.6607   \n",
            "22 -0.5640        0.7774      -0.0728        1.4529  ...      -3.5756   \n",
            "23  0.0134        0.5545      -0.0720        3.0391  ...      -7.8798   \n",
            "\n",
            "    tc20_max_drawdown  tc30_annual_return  tc30_annual_vol  tc30_sharpe  \\\n",
            "0             -0.9988             -1.1959           0.1990      -6.0088   \n",
            "1             -0.9999             -1.4643           0.2062      -7.1021   \n",
            "2             -1.0000             -2.6602           0.2135     -12.4578   \n",
            "3             -0.9975             -1.0683           0.2061      -5.1829   \n",
            "4             -0.9998             -1.3835           0.2119      -6.5286   \n",
            "5             -1.0000             -2.4523           0.2048     -11.9763   \n",
            "6             -0.9986             -1.1508           0.1949      -5.9050   \n",
            "7             -0.9998             -1.3905           0.2103      -6.6117   \n",
            "8             -1.0000             -2.5413           0.2151     -11.8129   \n",
            "9             -0.9946             -0.9553           0.2049      -4.6629   \n",
            "10            -0.9996             -1.2467           0.2171      -5.7427   \n",
            "11            -1.0000             -2.2020           0.2015     -10.9279   \n",
            "12            -0.9975             -1.0820           0.1974      -5.4823   \n",
            "13            -0.9999             -1.4955           0.2174      -6.8791   \n",
            "14            -1.0000             -2.5776           0.2058     -12.5258   \n",
            "15            -0.9972             -1.0487           0.1920      -5.4607   \n",
            "16            -0.9996             -1.2421           0.2350      -5.2847   \n",
            "17            -1.0000             -2.2909           0.1920     -11.9312   \n",
            "18            -0.9978             -1.1094           0.1893      -5.8608   \n",
            "19            -0.9998             -1.3990           0.2190      -6.3885   \n",
            "20            -1.0000             -2.5083           0.2024     -12.3942   \n",
            "21            -0.9971             -1.0596           0.1807      -5.8633   \n",
            "22            -0.9996             -1.2353           0.2435      -5.0734   \n",
            "23            -1.0000             -2.2950           0.1948     -11.7828   \n",
            "\n",
            "    tc30_max_drawdown  tc40_annual_return  tc40_annual_vol  tc40_sharpe  \\\n",
            "0             -1.0000             -1.6363           0.1997      -8.1936   \n",
            "1             -1.0000             -1.8995           0.2070      -9.1771   \n",
            "2             -1.0000             -3.5359           0.2150     -16.4470   \n",
            "3             -0.9999             -1.4673           0.2065      -7.1048   \n",
            "4             -1.0000             -1.7841           0.2124      -8.4006   \n",
            "5             -1.0000             -3.2519           0.2057     -15.8077   \n",
            "6             -1.0000             -1.5651           0.1956      -8.0024   \n",
            "7             -1.0000             -1.8006           0.2114      -8.5192   \n",
            "8             -1.0000             -3.3656           0.2171     -15.5060   \n",
            "9             -0.9998             -1.3280           0.2053      -6.4670   \n",
            "10            -1.0000             -1.6121           0.2176      -7.4071   \n",
            "11            -1.0000             -2.9401           0.2026     -14.5152   \n",
            "12            -0.9999             -1.4929           0.1983      -7.5272   \n",
            "13            -1.0000             -1.9192           0.2181      -8.7978   \n",
            "14            -1.0000             -3.4122           0.2076     -16.4346   \n",
            "15            -0.9999             -1.4360           0.1927      -7.4519   \n",
            "16            -1.0000             -1.6100           0.2354      -6.8406   \n",
            "17            -1.0000             -3.0462           0.1930     -15.7812   \n",
            "18            -0.9999             -1.5299           0.1900      -8.0528   \n",
            "19            -1.0000             -1.8281           0.2197      -8.3219   \n",
            "20            -1.0000             -3.3578           0.2038     -16.4780   \n",
            "21            -0.9999             -1.4592           0.1813      -8.0481   \n",
            "22            -1.0000             -1.6015           0.2440      -6.5623   \n",
            "23            -1.0000             -3.0608           0.1958     -15.6291   \n",
            "\n",
            "    tc40_max_drawdown  \n",
            "0                -1.0  \n",
            "1                -1.0  \n",
            "2                -1.0  \n",
            "3                -1.0  \n",
            "4                -1.0  \n",
            "5                -1.0  \n",
            "6                -1.0  \n",
            "7                -1.0  \n",
            "8                -1.0  \n",
            "9                -1.0  \n",
            "10               -1.0  \n",
            "11               -1.0  \n",
            "12               -1.0  \n",
            "13               -1.0  \n",
            "14               -1.0  \n",
            "15               -1.0  \n",
            "16               -1.0  \n",
            "17               -1.0  \n",
            "18               -1.0  \n",
            "19               -1.0  \n",
            "20               -1.0  \n",
            "21               -1.0  \n",
            "22               -1.0  \n",
            "23               -1.0  \n",
            "\n",
            "[24 rows x 32 columns]\n"
          ]
        }
      ],
      "source": [
        "# ========== Run Backtest ==========\n",
        "\n",
        "print(\"Starting Chronos T5-Base Portfolio Backtesting...\")\n",
        "\n",
        "summary_results, daily_series, backtester = run_chronos_portfolio_backtest(\n",
        "    start_year=START_YEAR,\n",
        "    end_year=END_YEAR,\n",
        "    window_sizes=WINDOW_SIZES\n",
        ")\n",
        "\n",
        "print(\"\\n\" + \"=\"*60)\n",
        "print(\"CHRONOS T5-BASE PORTFOLIO BACKTESTING RESULTS\")\n",
        "print(\"=\"*60)\n",
        "\n",
        "print(\"\\nSummary Results:\")\n",
        "print(summary_results.round(4))\n"
      ]
    },
    {
      "cell_type": "code",
      "execution_count": 19,
      "metadata": {
        "colab": {
          "base_uri": "https://localhost:8080/"
        },
        "id": "cGyZHPvAY9Ma",
        "outputId": "f74a47b1-aac1-498b-a67b-4d2aad20cbd7"
      },
      "outputs": [
        {
          "name": "stdout",
          "output_type": "stream",
          "text": [
            "[Saved] 5_factor_analysis_VW_gross.csv \n",
            "[Saved] 5_factor_analysis_VW_net.csv \n",
            "[Saved] 5_factor_analysis_EW_gross.csv \n",
            "[Saved] 5_factor_analysis_EW_net.csv \n"
          ]
        }
      ],
      "source": [
        "# ---------- Main function for 5-factor regression -----------\n",
        "def run_factor_regression(port_ret, factors, use_excess=True):\n",
        "    df = pd.concat([port_ret, factors], axis=1, join='inner').dropna()\n",
        "    df.columns = ['ret'] + list(factors.columns)\n",
        "\n",
        "    if use_excess:\n",
        "        y = df['ret'].values\n",
        "    else:\n",
        "        y = df['ret'].values - df['rf'].values\n",
        "\n",
        "    X = df[['mktrf','smb','hml','rmw','cma','umd']].values\n",
        "    X = sm.add_constant(X)\n",
        "\n",
        "    model = sm.OLS(y, X)\n",
        "    res = model.fit()\n",
        "    alpha = res.params[0]          \n",
        "    resid_std = res.resid.std(ddof=1)\n",
        "\n",
        "    ir_daily = alpha / resid_std          \n",
        "    ir_annual = ir_daily * np.sqrt(252)   \n",
        "\n",
        "    y_hat = np.asarray(res.fittedvalues)  \n",
        "\n",
        "    out = {\n",
        "        'N_obs'            : len(y),\n",
        "        'alpha_daily'      : alpha,\n",
        "        'alpha_annual'     : alpha*252,\n",
        "        't_alpha'          : res.tvalues[0],\n",
        "        'IR_daily'         : ir_daily,\n",
        "        'IR_annual'        : ir_annual,\n",
        "        'R2_zero'          : r2_zero(y, y_hat),\n",
        "    }\n",
        "\n",
        "    factor_names = ['MKT','SMB','HML','RMW','CMA','UMD']\n",
        "    for i, fac in enumerate(factor_names, start=1):\n",
        "        out[f'beta_{fac}'] = res.params[i]\n",
        "        out[f't_{fac}']    = res.tvalues[i]\n",
        "\n",
        "    return out\n",
        "\n",
        "# ---------- Batch run (EW/VW, three portfolio types) ----------\n",
        "def batch_factor_analysis(\n",
        "    daily_df: pd.DataFrame,\n",
        "    factors_path: str,\n",
        "    scheme: str,\n",
        "    tc_levels=(0, 5, 10, 20, 40),\n",
        "    portfolio_types=('long_only','short_only','long_short'),\n",
        "    model_filter=None,\n",
        "    window_filter=None,\n",
        "    gross_only=False,            \n",
        "    out_dir='/content/drive/MyDrive/chronos_t5_base_project_portfolio/chronos_results/factor_IR_results',\n",
        "):\n",
        "    \"\"\"\n",
        "    Generate a CSV containing IR results.\n",
        "    gross_only=True  → only tc=0; False → all tc_levels.\n",
        "    \"\"\"\n",
        "    import os\n",
        "    os.makedirs(out_dir, exist_ok=True)\n",
        "\n",
        "    fac = (pd.read_csv(factors_path, parse_dates=['date'])\n",
        "             .set_index('date')\n",
        "             .sort_index())\n",
        "\n",
        "    sub = daily_df[daily_df['scheme'] == scheme].copy()\n",
        "    if model_filter is not None:\n",
        "        sub = sub[sub['model'].isin(model_filter)]\n",
        "    if window_filter is not None:\n",
        "        sub = sub[sub['window'].isin(window_filter)]\n",
        "\n",
        "    tc_iter = (0,) if gross_only else tc_levels\n",
        "    results = []\n",
        "\n",
        "    for (model, win, ptype), g in sub.groupby(['model','window','portfolio_type']):\n",
        "        g = g.sort_values('date').set_index(pd.to_datetime(g['date']))\n",
        "\n",
        "        for tc in tc_iter:\n",
        "            col = 'return' if tc == 0 else f'tc{tc}_return'\n",
        "            if col not in g.columns:\n",
        "                continue  \n",
        "            port_ret = g[col]\n",
        "            stats = run_factor_regression(port_ret, fac, use_excess=True)\n",
        "            stats.update({\n",
        "                'scheme'        : scheme,\n",
        "                'model'         : model,\n",
        "                'window'        : win,\n",
        "                'portfolio_type': ptype,\n",
        "                'tc_bps'        : tc,\n",
        "            })\n",
        "            results.append(stats)\n",
        "\n",
        "    df_out = pd.DataFrame(results)[[\n",
        "        'scheme','model','window','portfolio_type','tc_bps','N_obs',\n",
        "        'alpha_daily','alpha_annual','t_alpha',\n",
        "        'IR_daily','IR_annual','R2_zero',\n",
        "        'beta_MKT','t_MKT','beta_SMB','t_SMB',\n",
        "        'beta_HML','t_HML','beta_RMW','t_RMW',\n",
        "        'beta_CMA','t_CMA','beta_UMD','t_UMD'\n",
        "    ]]\n",
        "\n",
        "    tag = 'gross' if gross_only else 'net'\n",
        "    fname = f'5_factor_analysis_{scheme}_{tag}.csv'\n",
        "    df_out.to_csv(os.path.join(out_dir, fname), index=False)\n",
        "    print(f'[Saved] {fname} ')\n",
        "    return df_out\n",
        "\n",
        "\n",
        "\n",
        "def run_all_factor_tests(vw_csv=\"/content/drive/MyDrive/chronos_t5_base_project_portfolio/chronos_results/portfolio_daily_series_VW.csv\",\n",
        "                         ew_csv=\"/content/drive/MyDrive/chronos_t5_base_project_portfolio/chronos_results/portfolio_daily_series_EW.csv\",\n",
        "                         factor_csv=\"/content/drive/MyDrive/ERP Data/5_Factors_Plus_Momentum.csv\",\n",
        "                         save_dir=\"/content/drive/MyDrive/chronos_t5_base_project_portfolio/chronos_results\",\n",
        "                         y_is_excess=True,\n",
        "                         hac_lags=5,\n",
        "                         save_txt=True):\n",
        "    vw_df = pd.read_csv(vw_csv)\n",
        "    ew_df = pd.read_csv(ew_csv)\n",
        "\n",
        "    vw_gross = batch_factor_analysis(\n",
        "        vw_df, factor_csv, scheme='VW', gross_only=True)    \n",
        "    vw_net   = batch_factor_analysis(\n",
        "        vw_df, factor_csv, scheme='VW', gross_only=False)   \n",
        "\n",
        "    ew_gross = batch_factor_analysis(\n",
        "        ew_df, factor_csv, scheme='EW', gross_only=True)\n",
        "    ew_net   = batch_factor_analysis(\n",
        "        ew_df, factor_csv, scheme='EW', gross_only=False)\n",
        "\n",
        "    return vw_gross, vw_net, ew_gross, ew_net\n",
        "\n",
        "\n",
        "vw_gross, vw_net, ew_gross, ew_net = run_all_factor_tests()"
      ]
    },
    {
      "cell_type": "code",
      "execution_count": 20,
      "metadata": {
        "colab": {
          "base_uri": "https://localhost:8080/"
        },
        "id": "hI8RXVQL-BrO",
        "outputId": "07fece06-a8e5-403b-c426-7f66f3ee1eab"
      },
      "outputs": [
        {
          "name": "stderr",
          "output_type": "stream",
          "text": [
            "/tmp/ipython-input-3268058695.py:27: FutureWarning: The default of observed=False is deprecated and will be changed to True in a future version of pandas. Pass observed=False to retain current behavior or observed=True to adopt the future default and silence this warning.\n",
            "  for _, group in df.groupby([\"scheme\", \"model\", \"window\", \"portfolio_type\"], sort=False):\n"
          ]
        },
        {
          "name": "stdout",
          "output_type": "stream",
          "text": [
            "Finish: /content/drive/MyDrive/chronos_t5_base_project_portfolio/chronos_results/portfolio_daily_series_VW_with_rf.csv\n"
          ]
        },
        {
          "name": "stderr",
          "output_type": "stream",
          "text": [
            "/tmp/ipython-input-3268058695.py:27: FutureWarning: The default of observed=False is deprecated and will be changed to True in a future version of pandas. Pass observed=False to retain current behavior or observed=True to adopt the future default and silence this warning.\n",
            "  for _, group in df.groupby([\"scheme\", \"model\", \"window\", \"portfolio_type\"], sort=False):\n"
          ]
        },
        {
          "name": "stdout",
          "output_type": "stream",
          "text": [
            "Finish: /content/drive/MyDrive/chronos_t5_base_project_portfolio/chronos_results/portfolio_daily_series_EW_with_rf.csv\n"
          ]
        }
      ],
      "source": [
        "# === File paths ===\n",
        "rf_file = \"/content/drive/MyDrive/ERP Data/CRSP_2016_2024_top50_with_exret.csv\"\n",
        "vw_file = \"/content/drive/MyDrive/chronos_t5_base_project_portfolio/chronos_results/portfolio_daily_series_VW.csv\"\n",
        "ew_file = \"/content/drive/MyDrive/chronos_t5_base_project_portfolio/chronos_results/portfolio_daily_series_EW.csv\"\n",
        "\n",
        "# === Load risk-free rate (rf) data ===\n",
        "\n",
        "rf_df = pd.read_csv(rf_file, usecols=[\"date\", \"rf\"])\n",
        "rf_df[\"date\"] = pd.to_datetime(rf_df[\"date\"])\n",
        "rf_dict = dict(zip(rf_df[\"date\"], rf_df[\"rf\"]))\n",
        "\n",
        "\n",
        "def adjust_returns_with_rf_grouped(file_path, output_path):\n",
        "    df = pd.read_csv(file_path)\n",
        "    # Parse date with flexible format\n",
        "    df[\"date\"] = pd.to_datetime(df[\"date\"], format='mixed', dayfirst=True)\n",
        "\n",
        "    # Find all return columns (exclude cumulative)\n",
        "    return_cols = [col for col in df.columns if \"return\" in col and \"cumul\" not in col]\n",
        "\n",
        "    # Set portfolio_type order to avoid groupby sorting issues\n",
        "    order = [\"long_only\", \"short_only\", \"long_short\"]\n",
        "    df[\"portfolio_type\"] = pd.Categorical(df[\"portfolio_type\"], categories=order, ordered=True)\n",
        "\n",
        "    df_list = []\n",
        "    for _, group in df.groupby([\"scheme\", \"model\", \"window\", \"portfolio_type\"], sort=False):\n",
        "        group = group.sort_values(\"date\").copy()\n",
        "        for col in return_cols:\n",
        "            group[col] = group.apply(lambda row: row[col] + rf_dict.get(row[\"date\"], 0), axis=1)\n",
        "            cum_col = col.replace(\"return\", \"cumulative\")\n",
        "            group[cum_col] = np.log1p(group[col]).cumsum()\n",
        "        df_list.append(group)\n",
        "\n",
        "    df_new = pd.concat(df_list).sort_values([\"scheme\", \"model\", \"window\", \"portfolio_type\", \"date\"])\n",
        "    df_new.to_csv(output_path, index=False)\n",
        "    print(f\"Finished: {output_path}\")\n",
        "\n",
        "adjust_returns_with_rf_grouped(vw_file, \"/content/drive/MyDrive/chronos_t5_base_project_portfolio/chronos_results/portfolio_daily_series_VW_with_rf.csv\")\n",
        "adjust_returns_with_rf_grouped(ew_file, \"/content/drive/MyDrive/chronos_t5_base_project_portfolio/chronos_results/portfolio_daily_series_EW_with_rf.csv\")\n"
      ]
    },
    {
      "cell_type": "code",
      "execution_count": 21,
      "metadata": {
        "colab": {
          "base_uri": "https://localhost:8080/"
        },
        "id": "Qc1BDMeX-BrO",
        "outputId": "d947b2aa-c2a8-47ba-d606-3fedab3ad836"
      },
      "outputs": [
        {
          "name": "stderr",
          "output_type": "stream",
          "text": [
            "/tmp/ipython-input-917073965.py:2: FutureWarning: YF.download() has changed argument auto_adjust default to True\n",
            "  sp500 = yf.download(\"^GSPC\", start=\"2016-01-01\", end=\"2024-12-31\")\n",
            "\r[*********************100%***********************]  1 of 1 completed\n"
          ]
        },
        {
          "name": "stdout",
          "output_type": "stream",
          "text": [
            "All figures have been generated and saved to: /content/drive/MyDrive/chronos_t5_base_project_portfolio/chronos_figures/\n"
          ]
        }
      ],
      "source": [
        "# Download S&P500 (2016-2024)\n",
        "sp500 = yf.download(\"^GSPC\", start=\"2016-01-01\", end=\"2024-12-31\")\n",
        "price_col = \"Adj Close\" if \"Adj Close\" in sp500.columns else \"Close\"\n",
        "sp500[\"daily_return\"] = sp500[price_col].pct_change().fillna(0)\n",
        "# Cumulative log return\n",
        "sp500[\"cum_return\"] = np.cumsum(np.log1p(sp500[\"daily_return\"]))\n",
        "sp500 = sp500[[\"cum_return\"]]\n",
        "sp500.index = pd.to_datetime(sp500.index)\n",
        "\n",
        "# Configuration\n",
        "files = [\n",
        "    (\"VW\", \"/content/drive/MyDrive/chronos_t5_base_project_portfolio/chronos_results/portfolio_daily_series_VW_with_rf.csv\"),\n",
        "    (\"EW\", \"/content/drive/MyDrive/chronos_t5_base_project_portfolio/chronos_results/portfolio_daily_series_EW_with_rf.csv\")\n",
        "]\n",
        "tc_levels = [0, 5, 10, 20, 40]      # Transaction cost (bps)\n",
        "windows = [5, 21, 252, 512]         # Window sizes\n",
        "strategies = [\"long_only\", \"short_only\", \"long_short\"]\n",
        "\n",
        "output_dir = \"/content/drive/MyDrive/chronos_t5_base_project_portfolio/chronos_figures\"\n",
        "os.makedirs(output_dir, exist_ok=True)\n",
        "\n",
        "# Economic event periods (for gray shading)\n",
        "crisis_periods = [\n",
        "    (datetime(2018, 6, 1), datetime(2019, 1, 1), \"US-China Trade War\"),\n",
        "    (datetime(2020, 2, 1), datetime(2020, 7, 1), \"COVID-19\"),\n",
        "    (datetime(2022, 2, 1), datetime(2022, 6, 1), \"Russia-Ukraine War\"),\n",
        "    (datetime(2023, 1, 1), datetime(2023, 4, 1), \"US Bank Crisis\"),\n",
        "]\n",
        "\n",
        "def plot_comparison_styled(df, scheme, tc, window):\n",
        "    plt.figure(figsize=(15, 12))\n",
        "    model_names = df[\"model\"].unique()\n",
        "    colors = plt.cm.tab10(np.linspace(0, 1, len(model_names)))\n",
        "\n",
        "    offset_step = 0.02\n",
        "\n",
        "    for i, strat in enumerate(strategies, 1):\n",
        "        ax = plt.subplot(3, 1, i)\n",
        "\n",
        "        # Plot S&P500 baseline\n",
        "        plt.plot(sp500.index, sp500[\"cum_return\"],\n",
        "                 color=\"black\", lw=2.5, label=\"S&P500 (Total Return)\", zorder=10)\n",
        "\n",
        "        for idx, model_name in enumerate(model_names):\n",
        "            sub = df[(df[\"window\"] == window) &\n",
        "                     (df[\"portfolio_type\"] == strat) &\n",
        "                     (df[\"model\"] == model_name)].sort_values(\"date\")\n",
        "            if sub.empty:\n",
        "                continue\n",
        "\n",
        "            if tc == 0:\n",
        "                ret_col = \"return\"\n",
        "            else:\n",
        "                ret_col = f\"tc{tc}_return\"\n",
        "\n",
        "            if ret_col not in sub.columns:\n",
        "                continue\n",
        "\n",
        "            log_cum = np.cumsum(np.log1p(sub[ret_col].values))\n",
        "\n",
        "            y_shift = idx * offset_step\n",
        "            plt.plot(sub[\"date\"], log_cum + y_shift,\n",
        "                     label=f\"{model_name} ({strat.replace('_',' ').title()})\",\n",
        "                     lw=2, color=colors[idx], alpha=0.9)\n",
        "\n",
        "        for start, end, label in crisis_periods:\n",
        "            ax.axvspan(start, end, color='grey', alpha=0.3)\n",
        "            ax.text(start + pd.Timedelta(days=10),\n",
        "                    ax.get_ylim()[1]*0.92, label, fontsize=8, color='grey')\n",
        "        ax.xaxis.set_major_locator(mdates.YearLocator())\n",
        "        ax.xaxis.set_major_formatter(mdates.DateFormatter('%Y'))\n",
        "        ax.set_ylabel(\"Cumulative log return (start = 0)\")\n",
        "        ax.set_title(f\"{scheme} | Window={window} | Strategy={strat} | TC={tc} bps\")\n",
        "        ax.grid(alpha=0.3)\n",
        "        plt.xticks(rotation=30)\n",
        "        plt.legend(bbox_to_anchor=(1.04, 1), loc='upper left', fontsize=8)\n",
        "\n",
        "    plt.tight_layout()\n",
        "    fname = f\"{scheme}_window{window}_TC{tc}.png\"\n",
        "    plt.savefig(os.path.join(output_dir, fname), dpi=300, bbox_inches='tight')\n",
        "    plt.close()\n",
        "\n",
        "# Main loop to generate all figures\n",
        "for scheme, file_path in files:\n",
        "    df = pd.read_csv(file_path)\n",
        "    df[\"date\"] = pd.to_datetime(df[\"date\"])\n",
        "    for tc in tc_levels:\n",
        "        for window in windows:\n",
        "            plot_comparison_styled(df, scheme, tc, window)\n",
        "\n",
        "print(f\"All figures have been generated and saved to: {output_dir}/\")\n"
      ]
    },
    {
      "cell_type": "code",
      "execution_count": 22,
      "metadata": {
        "colab": {
          "base_uri": "https://localhost:8080/"
        },
        "id": "LiZUWpb3-BrO",
        "outputId": "bfaf678c-1519-4a3e-e117-1e065a5dccfa"
      },
      "outputs": [
        {
          "name": "stdout",
          "output_type": "stream",
          "text": [
            "[Update] ΔSharpe has been written to /content/drive/MyDrive/chronos_t5_base_project_portfolio/chronos_results/portfolio_results_daily_rebalance_VW.csv\n",
            "[Update] ΔSharpe has been written to /content/drive/MyDrive/chronos_t5_base_project_portfolio/chronos_results/portfolio_results_daily_rebalance_EW.csv\n"
          ]
        }
      ],
      "source": [
        "\n",
        "# Load R²_zero from portfolio_metrics.csv\n",
        "metrics_df = pd.read_csv(\"/content/drive/MyDrive/chronos_t5_base_project_portfolio/chronos_results/portfolio_metrics.csv\")[[\"Model\", \"Window\", \"R²_zero\"]]\n",
        "metrics_df.rename(columns={\"Model\": \"model\", \"Window\": \"window\"}, inplace=True)\n",
        "\n",
        "# Process VW/EW files\n",
        "for fname in [\"/content/drive/MyDrive/chronos_t5_base_project_portfolio/chronos_results/portfolio_results_daily_rebalance_VW.csv\", \"/content/drive/MyDrive/chronos_t5_base_project_portfolio/chronos_results/portfolio_results_daily_rebalance_EW.csv\"]:\n",
        "    df = pd.read_csv(fname)\n",
        "\n",
        "    # Merge R²_zero by model and window\n",
        "    df = df.merge(metrics_df, on=[\"model\", \"window\"], how=\"left\")\n",
        "\n",
        "    rows = []\n",
        "    for _, row in df.iterrows():\n",
        "        r2 = float(row[\"R²_zero\"]) if not pd.isna(row[\"R²_zero\"]) else 0.0\n",
        "        if row[\"portfolio_type\"] == \"long_only\":\n",
        "            d_sr, sr_star = delta_sharpe(r2, SR_MKT_EX)\n",
        "            row[\"ΔSharpe\"]  = d_sr\n",
        "            row[\"Sharpe*\"]  = sr_star\n",
        "            row[\"baseline\"] = f\"SPX_excess ({SR_MKT_EX:.2f})\"\n",
        "        else:\n",
        "            d_sr, sr_star = delta_sharpe(r2, 0)\n",
        "            row[\"ΔSharpe\"]  = d_sr\n",
        "            row[\"Sharpe*\"]  = sr_star\n",
        "            row[\"baseline\"] = \"cash (0)\"\n",
        "        rows.append(row)\n",
        "\n",
        "    pd.DataFrame(rows).to_csv(fname, index=False)\n",
        "    print(f\"[Update] ΔSharpe has been written to {fname}\")"
      ]
    }
  ],
  "metadata": {
    "accelerator": "GPU",
    "colab": {
      "gpuType": "T4",
      "provenance": []
    },
    "kernelspec": {
      "display_name": "Python (Chronos)",
      "language": "python",
      "name": "chronos"
    }
  },
  "nbformat": 4,
  "nbformat_minor": 0
}
