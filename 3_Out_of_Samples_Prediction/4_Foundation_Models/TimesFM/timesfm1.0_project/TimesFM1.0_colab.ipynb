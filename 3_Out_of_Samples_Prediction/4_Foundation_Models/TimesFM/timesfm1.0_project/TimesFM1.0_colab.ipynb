{
  "cells": [
    {
      "cell_type": "code",
      "execution_count": null,
      "metadata": {
        "colab": {
          "base_uri": "https://localhost:8080/"
        },
        "id": "EJ4GbyGIj4nb",
        "outputId": "81a0d247-4c9e-4734-b969-4f41cdff0fa0"
      },
      "outputs": [
        {
          "name": "stdout",
          "output_type": "stream",
          "text": [
            "Mounted at /content/drive\n",
            "/content/drive/MyDrive/timesfm1.0_project\n",
            "Cloning into 'timesfm'...\n",
            "remote: Enumerating objects: 933, done.\u001b[K\n",
            "remote: Counting objects: 100% (437/437), done.\u001b[K\n",
            "remote: Compressing objects: 100% (175/175), done.\u001b[K\n",
            "remote: Total 933 (delta 334), reused 262 (delta 262), pack-reused 496 (from 2)\u001b[K\n",
            "Receiving objects: 100% (933/933), 2.25 MiB | 11.79 MiB/s, done.\n",
            "Resolving deltas: 100% (496/496), done.\n",
            "/content/drive/MyDrive/timesfm1.0_project/timesfm\n",
            "Collecting timesfm\n",
            "  Downloading timesfm-1.3.0-py3-none-any.whl.metadata (15 kB)\n",
            "Requirement already satisfied: absl-py>=1.4.0 in /usr/local/lib/python3.11/dist-packages (from timesfm) (1.4.0)\n",
            "Collecting einshape>=1.0.0 (from timesfm)\n",
            "  Downloading einshape-1.0-py3-none-any.whl.metadata (706 bytes)\n",
            "Requirement already satisfied: huggingface_hub>=0.23.0 in /usr/local/lib/python3.11/dist-packages (from huggingface_hub[cli]>=0.23.0->timesfm) (0.34.1)\n",
            "Requirement already satisfied: numpy>=1.26.4 in /usr/local/lib/python3.11/dist-packages (from timesfm) (2.0.2)\n",
            "Requirement already satisfied: pandas>=2.0.0 in /usr/local/lib/python3.11/dist-packages (from timesfm) (2.2.2)\n",
            "Requirement already satisfied: scikit-learn>=1.2.2 in /usr/local/lib/python3.11/dist-packages (from timesfm) (1.6.1)\n",
            "Requirement already satisfied: typer>=0.12.3 in /usr/local/lib/python3.11/dist-packages (from timesfm) (0.16.0)\n",
            "Collecting utilsforecast>=0.1.10 (from timesfm)\n",
            "  Downloading utilsforecast-0.2.12-py3-none-any.whl.metadata (7.6 kB)\n",
            "Requirement already satisfied: wandb>=0.17.5 in /usr/local/lib/python3.11/dist-packages (from timesfm) (0.21.0)\n",
            "Requirement already satisfied: filelock in /usr/local/lib/python3.11/dist-packages (from huggingface_hub>=0.23.0->huggingface_hub[cli]>=0.23.0->timesfm) (3.18.0)\n",
            "Requirement already satisfied: fsspec>=2023.5.0 in /usr/local/lib/python3.11/dist-packages (from huggingface_hub>=0.23.0->huggingface_hub[cli]>=0.23.0->timesfm) (2025.3.0)\n",
            "Requirement already satisfied: packaging>=20.9 in /usr/local/lib/python3.11/dist-packages (from huggingface_hub>=0.23.0->huggingface_hub[cli]>=0.23.0->timesfm) (25.0)\n",
            "Requirement already satisfied: pyyaml>=5.1 in /usr/local/lib/python3.11/dist-packages (from huggingface_hub>=0.23.0->huggingface_hub[cli]>=0.23.0->timesfm) (6.0.2)\n",
            "Requirement already satisfied: requests in /usr/local/lib/python3.11/dist-packages (from huggingface_hub>=0.23.0->huggingface_hub[cli]>=0.23.0->timesfm) (2.32.3)\n",
            "Requirement already satisfied: tqdm>=4.42.1 in /usr/local/lib/python3.11/dist-packages (from huggingface_hub>=0.23.0->huggingface_hub[cli]>=0.23.0->timesfm) (4.67.1)\n",
            "Requirement already satisfied: typing-extensions>=3.7.4.3 in /usr/local/lib/python3.11/dist-packages (from huggingface_hub>=0.23.0->huggingface_hub[cli]>=0.23.0->timesfm) (4.14.1)\n",
            "Requirement already satisfied: hf-xet<2.0.0,>=1.1.3 in /usr/local/lib/python3.11/dist-packages (from huggingface_hub>=0.23.0->huggingface_hub[cli]>=0.23.0->timesfm) (1.1.5)\n",
            "Collecting InquirerPy==0.3.4 (from huggingface_hub[cli]>=0.23.0->timesfm)\n",
            "  Downloading InquirerPy-0.3.4-py3-none-any.whl.metadata (8.1 kB)\n",
            "Collecting pfzy<0.4.0,>=0.3.1 (from InquirerPy==0.3.4->huggingface_hub[cli]>=0.23.0->timesfm)\n",
            "  Downloading pfzy-0.3.4-py3-none-any.whl.metadata (4.9 kB)\n",
            "Requirement already satisfied: prompt-toolkit<4.0.0,>=3.0.1 in /usr/local/lib/python3.11/dist-packages (from InquirerPy==0.3.4->huggingface_hub[cli]>=0.23.0->timesfm) (3.0.51)\n",
            "Requirement already satisfied: python-dateutil>=2.8.2 in /usr/local/lib/python3.11/dist-packages (from pandas>=2.0.0->timesfm) (2.9.0.post0)\n",
            "Requirement already satisfied: pytz>=2020.1 in /usr/local/lib/python3.11/dist-packages (from pandas>=2.0.0->timesfm) (2025.2)\n",
            "Requirement already satisfied: tzdata>=2022.7 in /usr/local/lib/python3.11/dist-packages (from pandas>=2.0.0->timesfm) (2025.2)\n",
            "Requirement already satisfied: scipy>=1.6.0 in /usr/local/lib/python3.11/dist-packages (from scikit-learn>=1.2.2->timesfm) (1.16.0)\n",
            "Requirement already satisfied: joblib>=1.2.0 in /usr/local/lib/python3.11/dist-packages (from scikit-learn>=1.2.2->timesfm) (1.5.1)\n",
            "Requirement already satisfied: threadpoolctl>=3.1.0 in /usr/local/lib/python3.11/dist-packages (from scikit-learn>=1.2.2->timesfm) (3.6.0)\n",
            "Requirement already satisfied: click>=8.0.0 in /usr/local/lib/python3.11/dist-packages (from typer>=0.12.3->timesfm) (8.2.1)\n",
            "Requirement already satisfied: shellingham>=1.3.0 in /usr/local/lib/python3.11/dist-packages (from typer>=0.12.3->timesfm) (1.5.4)\n",
            "Requirement already satisfied: rich>=10.11.0 in /usr/local/lib/python3.11/dist-packages (from typer>=0.12.3->timesfm) (13.9.4)\n",
            "Requirement already satisfied: gitpython!=3.1.29,>=1.0.0 in /usr/local/lib/python3.11/dist-packages (from wandb>=0.17.5->timesfm) (3.1.45)\n",
            "Requirement already satisfied: platformdirs in /usr/local/lib/python3.11/dist-packages (from wandb>=0.17.5->timesfm) (4.3.8)\n",
            "Requirement already satisfied: protobuf!=4.21.0,!=5.28.0,<7,>=3.19.0 in /usr/local/lib/python3.11/dist-packages (from wandb>=0.17.5->timesfm) (5.29.5)\n",
            "Requirement already satisfied: pydantic<3 in /usr/local/lib/python3.11/dist-packages (from wandb>=0.17.5->timesfm) (2.11.7)\n",
            "Requirement already satisfied: sentry-sdk>=2.0.0 in /usr/local/lib/python3.11/dist-packages (from wandb>=0.17.5->timesfm) (2.33.2)\n",
            "Requirement already satisfied: gitdb<5,>=4.0.1 in /usr/local/lib/python3.11/dist-packages (from gitpython!=3.1.29,>=1.0.0->wandb>=0.17.5->timesfm) (4.0.12)\n",
            "Requirement already satisfied: annotated-types>=0.6.0 in /usr/local/lib/python3.11/dist-packages (from pydantic<3->wandb>=0.17.5->timesfm) (0.7.0)\n",
            "Requirement already satisfied: pydantic-core==2.33.2 in /usr/local/lib/python3.11/dist-packages (from pydantic<3->wandb>=0.17.5->timesfm) (2.33.2)\n",
            "Requirement already satisfied: typing-inspection>=0.4.0 in /usr/local/lib/python3.11/dist-packages (from pydantic<3->wandb>=0.17.5->timesfm) (0.4.1)\n",
            "Requirement already satisfied: six>=1.5 in /usr/local/lib/python3.11/dist-packages (from python-dateutil>=2.8.2->pandas>=2.0.0->timesfm) (1.17.0)\n",
            "Requirement already satisfied: charset-normalizer<4,>=2 in /usr/local/lib/python3.11/dist-packages (from requests->huggingface_hub>=0.23.0->huggingface_hub[cli]>=0.23.0->timesfm) (3.4.2)\n",
            "Requirement already satisfied: idna<4,>=2.5 in /usr/local/lib/python3.11/dist-packages (from requests->huggingface_hub>=0.23.0->huggingface_hub[cli]>=0.23.0->timesfm) (3.10)\n",
            "Requirement already satisfied: urllib3<3,>=1.21.1 in /usr/local/lib/python3.11/dist-packages (from requests->huggingface_hub>=0.23.0->huggingface_hub[cli]>=0.23.0->timesfm) (2.5.0)\n",
            "Requirement already satisfied: certifi>=2017.4.17 in /usr/local/lib/python3.11/dist-packages (from requests->huggingface_hub>=0.23.0->huggingface_hub[cli]>=0.23.0->timesfm) (2025.7.14)\n",
            "Requirement already satisfied: markdown-it-py>=2.2.0 in /usr/local/lib/python3.11/dist-packages (from rich>=10.11.0->typer>=0.12.3->timesfm) (3.0.0)\n",
            "Requirement already satisfied: pygments<3.0.0,>=2.13.0 in /usr/local/lib/python3.11/dist-packages (from rich>=10.11.0->typer>=0.12.3->timesfm) (2.19.2)\n",
            "Requirement already satisfied: smmap<6,>=3.0.1 in /usr/local/lib/python3.11/dist-packages (from gitdb<5,>=4.0.1->gitpython!=3.1.29,>=1.0.0->wandb>=0.17.5->timesfm) (5.0.2)\n",
            "Requirement already satisfied: mdurl~=0.1 in /usr/local/lib/python3.11/dist-packages (from markdown-it-py>=2.2.0->rich>=10.11.0->typer>=0.12.3->timesfm) (0.1.2)\n",
            "Requirement already satisfied: wcwidth in /usr/local/lib/python3.11/dist-packages (from prompt-toolkit<4.0.0,>=3.0.1->InquirerPy==0.3.4->huggingface_hub[cli]>=0.23.0->timesfm) (0.2.13)\n",
            "Downloading timesfm-1.3.0-py3-none-any.whl (55 kB)\n",
            "\u001b[2K   \u001b[90m━━━━━━━━━━━━━━━━━━━━━━━━━━━━━━━━━━━━━━━━\u001b[0m \u001b[32m55.0/55.0 kB\u001b[0m \u001b[31m5.7 MB/s\u001b[0m eta \u001b[36m0:00:00\u001b[0m\n",
            "\u001b[?25hDownloading einshape-1.0-py3-none-any.whl (21 kB)\n",
            "Downloading InquirerPy-0.3.4-py3-none-any.whl (67 kB)\n",
            "\u001b[2K   \u001b[90m━━━━━━━━━━━━━━━━━━━━━━━━━━━━━━━━━━━━━━━━\u001b[0m \u001b[32m67.7/67.7 kB\u001b[0m \u001b[31m6.3 MB/s\u001b[0m eta \u001b[36m0:00:00\u001b[0m\n",
            "\u001b[?25hDownloading utilsforecast-0.2.12-py3-none-any.whl (42 kB)\n",
            "\u001b[2K   \u001b[90m━━━━━━━━━━━━━━━━━━━━━━━━━━━━━━━━━━━━━━━━\u001b[0m \u001b[32m42.2/42.2 kB\u001b[0m \u001b[31m4.4 MB/s\u001b[0m eta \u001b[36m0:00:00\u001b[0m\n",
            "\u001b[?25hDownloading pfzy-0.3.4-py3-none-any.whl (8.5 kB)\n",
            "Installing collected packages: pfzy, einshape, InquirerPy, utilsforecast, timesfm\n",
            "Successfully installed InquirerPy-0.3.4 einshape-1.0 pfzy-0.3.4 timesfm-1.3.0 utilsforecast-0.2.12\n",
            "Requirement already satisfied: scikit-learn in /usr/local/lib/python3.11/dist-packages (1.6.1)\n",
            "Requirement already satisfied: numpy>=1.19.5 in /usr/local/lib/python3.11/dist-packages (from scikit-learn) (2.0.2)\n",
            "Requirement already satisfied: scipy>=1.6.0 in /usr/local/lib/python3.11/dist-packages (from scikit-learn) (1.16.0)\n",
            "Requirement already satisfied: joblib>=1.2.0 in /usr/local/lib/python3.11/dist-packages (from scikit-learn) (1.5.1)\n",
            "Requirement already satisfied: threadpoolctl>=3.1.0 in /usr/local/lib/python3.11/dist-packages (from scikit-learn) (3.6.0)\n",
            "Requirement already satisfied: pandas in /usr/local/lib/python3.11/dist-packages (2.2.2)\n",
            "Requirement already satisfied: numpy>=1.23.2 in /usr/local/lib/python3.11/dist-packages (from pandas) (2.0.2)\n",
            "Requirement already satisfied: python-dateutil>=2.8.2 in /usr/local/lib/python3.11/dist-packages (from pandas) (2.9.0.post0)\n",
            "Requirement already satisfied: pytz>=2020.1 in /usr/local/lib/python3.11/dist-packages (from pandas) (2025.2)\n",
            "Requirement already satisfied: tzdata>=2022.7 in /usr/local/lib/python3.11/dist-packages (from pandas) (2025.2)\n",
            "Requirement already satisfied: six>=1.5 in /usr/local/lib/python3.11/dist-packages (from python-dateutil>=2.8.2->pandas) (1.17.0)\n",
            "Requirement already satisfied: numpy in /usr/local/lib/python3.11/dist-packages (2.0.2)\n",
            "Requirement already satisfied: matplotlib in /usr/local/lib/python3.11/dist-packages (3.10.0)\n",
            "Requirement already satisfied: contourpy>=1.0.1 in /usr/local/lib/python3.11/dist-packages (from matplotlib) (1.3.2)\n",
            "Requirement already satisfied: cycler>=0.10 in /usr/local/lib/python3.11/dist-packages (from matplotlib) (0.12.1)\n",
            "Requirement already satisfied: fonttools>=4.22.0 in /usr/local/lib/python3.11/dist-packages (from matplotlib) (4.59.0)\n",
            "Requirement already satisfied: kiwisolver>=1.3.1 in /usr/local/lib/python3.11/dist-packages (from matplotlib) (1.4.8)\n",
            "Requirement already satisfied: numpy>=1.23 in /usr/local/lib/python3.11/dist-packages (from matplotlib) (2.0.2)\n",
            "Requirement already satisfied: packaging>=20.0 in /usr/local/lib/python3.11/dist-packages (from matplotlib) (25.0)\n",
            "Requirement already satisfied: pillow>=8 in /usr/local/lib/python3.11/dist-packages (from matplotlib) (11.3.0)\n",
            "Requirement already satisfied: pyparsing>=2.3.1 in /usr/local/lib/python3.11/dist-packages (from matplotlib) (3.2.3)\n",
            "Requirement already satisfied: python-dateutil>=2.7 in /usr/local/lib/python3.11/dist-packages (from matplotlib) (2.9.0.post0)\n",
            "Requirement already satisfied: six>=1.5 in /usr/local/lib/python3.11/dist-packages (from python-dateutil>=2.7->matplotlib) (1.17.0)\n",
            "Requirement already satisfied: tqdm in /usr/local/lib/python3.11/dist-packages (4.67.1)\n",
            "Requirement already satisfied: joblib in /usr/local/lib/python3.11/dist-packages (1.5.1)\n",
            "CUDA is available: True\n",
            "Current CUDA device: 0\n",
            "Device name: Tesla T4\n"
          ]
        }
      ],
      "source": [
        "# Mount Google Drive\n",
        "from google.colab import drive\n",
        "drive.mount('/content/drive')\n",
        "\n",
        "# Create project directory\n",
        "!mkdir -p /content/drive/MyDrive/timesfm1.0_project\n",
        "\n",
        "# Change to project directory\n",
        "%cd /content/drive/MyDrive/timesfm1.0_project\n",
        "!git clone https://github.com/google-research/timesfm\n",
        "%cd timesfm\n",
        "\n",
        "# Install required dependencies\n",
        "%pip install timesfm\n",
        "%pip install scikit-learn\n",
        "%pip install pandas\n",
        "%pip install numpy\n",
        "%pip install matplotlib\n",
        "%pip install tqdm\n",
        "%pip install joblib\n",
        "\n",
        "# Check if CUDA is available\n",
        "import torch\n",
        "print(\"CUDA is available:\", torch.cuda.is_available())\n",
        "if torch.cuda.is_available():\n",
        "    print(\"Current CUDA device:\", torch.cuda.current_device())\n",
        "    print(\"Device name:\", torch.cuda.get_device_name(0))\n",
        "else:\n",
        "    print(\"Using CPU for computations\")\n"
      ]
    },
    {
      "cell_type": "code",
      "execution_count": null,
      "metadata": {
        "colab": {
          "base_uri": "https://localhost:8080/",
          "height": 388,
          "referenced_widgets": [
            "b9d8a12e00974d6c8a95877662d74d3b",
            "1f9b43c1cef64c589ba7ad851cd7f178",
            "2a6232dd51ab47ad8c68959e3bc61d91",
            "96680885a91040d1909fbd50054cb655",
            "ce8260b04dd24b01bea9e483986d9034",
            "d8693f944327429e800676a630e90dfa",
            "646c9d2fb5c9491bbd4bbeda59a5ef86",
            "8ef9ae60b36e42328f9d9bcf10c88aa9",
            "25127e89dc294e108ecae67b8b6324fe",
            "ca9d1cf7a33444e9b716686664f63759",
            "9d9274d19eb9442ca790c42db88474ed",
            "7abb021aaf354bcabe8b7a1b64b11464",
            "4a372f4b89a24b2694bf01fc6e809ce6",
            "4ea22f908970482984d330ed4eab15b9",
            "4078e73ccfe34fd2aadb8acbe8131654",
            "adb6ddc63e42418f992f0bc0f3f7be7b",
            "50f2e4d276d14ec2b2550bbeecba1857",
            "4e9bc2de1c3d44dabecf09b52e7f4d40",
            "cd44476589cf44ebbda386f2048a07ee",
            "1d2a2d0b6b8c4063b8a7b7991b1885a7",
            "b1df6962c20a46d4b307940aee2925a6",
            "3222a34d7a64448ea6ab70a2b0ec9aa6",
            "126914849f2d47cdb6c928790d71e971",
            "d99a57acd85e407d9520c07c493a7ee0",
            "9acff7696a614dc893ba10dba80fec1c",
            "623b5c60c604463882009456fc7771da",
            "99f0aaba9b254839bdfbb4909cfc6986",
            "e95ba44c21264447aaf75133e00fa312",
            "9fb3ed85dbfe4b65a953c62566abc43b",
            "157759cbde314734a3997b37b28e4bb2",
            "495956a6d7174212ab0e130176b4c505",
            "011dd35402b945f3851955bb07dae003",
            "64a6295ec2cc4192bd2ab7ad882e18dd",
            "a924663b4ca54942a77becff21b426b8",
            "2f1bc9521df0404197e6a4c5a04a9d32",
            "103f80fec878495c8a35280a4d500328",
            "aae5520536af4ebbb0016529465ceb1e",
            "954aa66d68ad4fbb9cb1cb31165f4255",
            "ee84c286f81b4a168bc2428215407cde",
            "e1bc2189eb654800b1980144dc828d21",
            "cdcefbda87994650865a057cbc48f019",
            "40c7bdc7c8c246d3b95ef9e967463ed4",
            "6b9a9e4789404cf78e0be1702b7dfc70",
            "42658b3cfa8d44fd95b5397bbe91891e"
          ]
        },
        "id": "yJjlRBQlj4nd",
        "outputId": "bdc6b45c-a367-4317-fee4-0baceee18c52"
      },
      "outputs": [
        {
          "name": "stdout",
          "output_type": "stream",
          "text": [
            " See https://github.com/google-research/timesfm/blob/master/README.md for updated APIs.\n",
            "Loaded PyTorch TimesFM, likely because python version is 3.11.13 (main, Jun  4 2025, 08:57:29) [GCC 11.4.0].\n",
            "PyTorch version: 2.6.0+cu124\n",
            "CUDA available: True\n",
            "Using device: cuda\n"
          ]
        },
        {
          "name": "stderr",
          "output_type": "stream",
          "text": [
            "/usr/local/lib/python3.11/dist-packages/huggingface_hub/utils/_auth.py:94: UserWarning: \n",
            "The secret `HF_TOKEN` does not exist in your Colab secrets.\n",
            "To authenticate with the Hugging Face Hub, create a token in your settings tab (https://huggingface.co/settings/tokens), set it as secret in your Google Colab and restart your session.\n",
            "You will be able to reuse this secret in all of your notebooks.\n",
            "Please note that authentication is recommended but still optional to access public models or datasets.\n",
            "  warnings.warn(\n"
          ]
        },
        {
          "data": {
            "application/vnd.jupyter.widget-view+json": {
              "model_id": "b9d8a12e00974d6c8a95877662d74d3b",
              "version_major": 2,
              "version_minor": 0
            },
            "text/plain": [
              "Fetching 3 files:   0%|          | 0/3 [00:00<?, ?it/s]"
            ]
          },
          "metadata": {},
          "output_type": "display_data"
        },
        {
          "data": {
            "application/vnd.jupyter.widget-view+json": {
              "model_id": "7abb021aaf354bcabe8b7a1b64b11464",
              "version_major": 2,
              "version_minor": 0
            },
            "text/plain": [
              ".gitattributes: 0.00B [00:00, ?B/s]"
            ]
          },
          "metadata": {},
          "output_type": "display_data"
        },
        {
          "data": {
            "application/vnd.jupyter.widget-view+json": {
              "model_id": "126914849f2d47cdb6c928790d71e971",
              "version_major": 2,
              "version_minor": 0
            },
            "text/plain": [
              "README.md: 0.00B [00:00, ?B/s]"
            ]
          },
          "metadata": {},
          "output_type": "display_data"
        },
        {
          "data": {
            "application/vnd.jupyter.widget-view+json": {
              "model_id": "a924663b4ca54942a77becff21b426b8",
              "version_major": 2,
              "version_minor": 0
            },
            "text/plain": [
              "torch_model.ckpt:   0%|          | 0.00/814M [00:00<?, ?B/s]"
            ]
          },
          "metadata": {},
          "output_type": "display_data"
        },
        {
          "name": "stdout",
          "output_type": "stream",
          "text": [
            "Successfully initialized TimesFM model using gpu\n",
            "TimesFM model loaded successfully!\n",
            "Data loaded successfully!\n"
          ]
        }
      ],
      "source": [
        "import sys\n",
        "import torch\n",
        "import numpy as np\n",
        "import pandas as pd\n",
        "import matplotlib.pyplot as plt\n",
        "from tqdm import tqdm\n",
        "import timesfm\n",
        "import os\n",
        "import joblib\n",
        "import random\n",
        "\n",
        "# Set random seeds for reproducibility\n",
        "np.random.seed(42)\n",
        "torch.manual_seed(42)\n",
        "random.seed(42)\n",
        "if torch.cuda.is_available():\n",
        "    torch.cuda.manual_seed(42)\n",
        "    torch.cuda.manual_seed_all(42)\n",
        "\n",
        "print(f\"PyTorch version: {torch.__version__}\")\n",
        "print(f\"CUDA available: {torch.cuda.is_available()}\")\n",
        "device = \"cuda\" if torch.cuda.is_available() else \"cpu\"\n",
        "print(f\"Using device: {device}\")\n",
        "\n",
        "try:\n",
        "    backend_type = \"gpu\" if torch.cuda.is_available() else \"cpu\"\n",
        "    tfm = timesfm.TimesFm(\n",
        "        hparams=timesfm.TimesFmHparams(\n",
        "            backend=backend_type,\n",
        "            per_core_batch_size=512,\n",
        "            horizon_len=1,\n",
        "        ),\n",
        "        checkpoint=timesfm.TimesFmCheckpoint(\n",
        "            huggingface_repo_id=\"google/timesfm-1.0-200m-pytorch\"\n",
        "        )\n",
        "    )\n",
        "    print(f\"Successfully initialized TimesFM model using {backend_type}\")\n",
        "except Exception as e:\n",
        "    print(f\"GPU initialization failed, error: {str(e)}\")\n",
        "    print(\"Trying CPU initialization...\")\n",
        "    tfm = timesfm.TimesFm(\n",
        "        hparams=timesfm.TimesFmHparams(\n",
        "            backend=\"cpu\",\n",
        "            per_core_batch_size=256,\n",
        "            horizon_len=1,\n",
        "        ),\n",
        "        checkpoint=timesfm.TimesFmCheckpoint(\n",
        "            huggingface_repo_id=\"google/timesfm-1.0-200m-pytorch\"\n",
        "        )\n",
        "    )\n",
        "    print(\"CPU initialization successful\")\n",
        "\n",
        "print(\"TimesFM model loaded successfully!\")\n",
        "\n",
        "data_path = \"/content/drive/MyDrive/ERP Data/all_window_datasets_unscaled.npz\"\n",
        "if os.path.exists(data_path):\n",
        "    data = np.load(data_path, allow_pickle=True)\n",
        "    print(\"Data loaded successfully!\")\n",
        "else:\n",
        "    print(f\"Data file not found: {data_path}\")\n",
        "    print(\"Please ensure all_window_datasets.npz is uploaded to Google Drive 'ERP Data' folder\")\n",
        "\n",
        "window_sizes = [5, 21, 252, 512]\n",
        "results = {}\n"
      ]
    },
    {
      "cell_type": "code",
      "execution_count": null,
      "metadata": {
        "id": "UMnhjxTYj4nd"
      },
      "outputs": [],
      "source": [
        "# Evaluation functions (consistent with Linear Models)\n",
        "def r2_zero(y_true, y_pred):\n",
        "    \"\"\"\n",
        "    Compute zero-based R² (baseline is 0)\n",
        "    y_true: array of true values (N,)\n",
        "    y_pred: array of predicted values (N,)\n",
        "    \"\"\"\n",
        "    rss = np.sum((y_true - y_pred)**2)\n",
        "    tss = np.sum(y_true**2)\n",
        "    return 1 - rss / tss\n",
        "\n",
        "def calc_directional_metrics(y_true, y_pred, permnos=None):\n",
        "    \"\"\"\n",
        "    Compute directional accuracy metrics (consistent with Linear Models)\n",
        "    - Sign prediction at sample level\n",
        "    - If grouped by stock, compute Overall, Up, Down for each stock and then average\n",
        "    \"\"\"\n",
        "    y_true = np.asarray(y_true)\n",
        "    y_pred = np.asarray(y_pred)\n",
        "\n",
        "    if permnos is None:\n",
        "        s_true = np.sign(y_true)\n",
        "        s_pred = np.sign(y_pred)\n",
        "        mask = s_true != 0\n",
        "        s_true = s_true[mask]\n",
        "        s_pred = s_pred[mask]\n",
        "\n",
        "        overall_acc = np.mean(s_true == s_pred)\n",
        "\n",
        "        up_mask = s_true > 0\n",
        "        down_mask = s_true < 0\n",
        "        up_acc = np.mean(s_true[up_mask] == s_pred[up_mask]) if np.any(up_mask) else 0\n",
        "        down_acc = np.mean(s_true[down_mask] == s_pred[down_mask]) if np.any(down_mask) else 0\n",
        "\n",
        "    else:\n",
        "        df = pd.DataFrame({\"permno\": permnos, \"yt\": y_true, \"yp\": y_pred})\n",
        "        overall_accs = []\n",
        "        up_accs = []\n",
        "        down_accs = []\n",
        "\n",
        "        for _, g in df.groupby(\"permno\"):\n",
        "            s_true = np.sign(g[\"yt\"].values)\n",
        "            s_pred = np.sign(g[\"yp\"].values)\n",
        "            mask = s_true != 0\n",
        "            s_true = s_true[mask]\n",
        "            s_pred = s_pred[mask]\n",
        "            if len(s_true) == 0:\n",
        "                continue\n",
        "            overall_accs.append(np.mean(s_true == s_pred))\n",
        "\n",
        "            up_mask = s_true > 0\n",
        "            down_mask = s_true < 0\n",
        "            up_accs.append(np.mean(s_true[up_mask] == s_pred[up_mask]) if np.any(up_mask) else np.nan)\n",
        "            down_accs.append(np.mean(s_true[down_mask] == s_pred[down_mask]) if np.any(down_mask) else np.nan)\n",
        "\n",
        "        overall_acc = np.nanmean(overall_accs)\n",
        "        up_acc = np.nanmean(up_accs)\n",
        "        down_acc = np.nanmean(down_accs)\n",
        "\n",
        "    return overall_acc, up_acc, down_acc\n",
        "\n",
        "def calculate_metrics(y_true, y_pred, permnos=None, meta=None):\n",
        "    \"\"\"Compute evaluation metrics (consistent with Linear Models)\"\"\"\n",
        "    from sklearn.metrics import mean_squared_error, mean_absolute_error\n",
        "\n",
        "    y_true = np.asarray(y_true)\n",
        "    y_pred = np.asarray(y_pred)\n",
        "    n = len(y_true)\n",
        "    k = y_pred.shape[-1] if len(y_pred.shape) > 1 else 1\n",
        "\n",
        "    r2 = r2_zero(y_true, y_pred)\n",
        "    mae = mean_absolute_error(y_true, y_pred)\n",
        "    mse = mean_squared_error(y_true, y_pred)\n",
        "\n",
        "    dir_acc, up_acc, down_acc = calc_directional_metrics(y_true, y_pred, permnos)\n",
        "\n",
        "    metrics = {\n",
        "        \"R²\": r2,\n",
        "        \"MAE\": mae,\n",
        "        \"MSE\": mse,\n",
        "        \"Directional Accuracy\": dir_acc,\n",
        "        \"Up_Directional_Acc\": up_acc,\n",
        "        \"Down_Directional_Acc\": down_acc\n",
        "    }\n",
        "\n",
        "    # Market cap group metrics\n",
        "    if meta is not None and \"MKTCAP_PERCENTILE\" in meta:\n",
        "        top_mask = meta[\"MKTCAP_PERCENTILE\"] >= 0.75\n",
        "        bottom_mask = meta[\"MKTCAP_PERCENTILE\"] <= 0.25\n",
        "\n",
        "        if np.any(top_mask):\n",
        "            yt_top = y_true[top_mask]\n",
        "            yp_top = y_pred[top_mask]\n",
        "            perm_top = permnos[top_mask] if permnos is not None else None\n",
        "            r2_top = r2_zero(yt_top, yp_top)\n",
        "            mae_top = mean_absolute_error(yt_top, yp_top)\n",
        "            mse_top = mean_squared_error(yt_top, yp_top)\n",
        "            dir_top, up_top, down_top = calc_directional_metrics(yt_top, yp_top, perm_top)\n",
        "            metrics.update({\n",
        "                \"Top25_R2\": r2_top,\n",
        "                \"Top25_MAE\": mae_top,\n",
        "                \"Top25_MSE\": mse_top,\n",
        "                \"Top25_Dir_Acc\": dir_top,\n",
        "                \"Top25_Up_Acc\": up_top,\n",
        "                \"Top25_Down_Acc\": down_top\n",
        "            })\n",
        "\n",
        "        if np.any(bottom_mask):\n",
        "            yt_bot = y_true[bottom_mask]\n",
        "            yp_bot = y_pred[bottom_mask]\n",
        "            perm_bot = permnos[bottom_mask] if permnos is not None else None\n",
        "            r2_bot = r2_zero(yt_bot, yp_bot)\n",
        "            mae_bot = mean_absolute_error(yt_bot, yp_bot)\n",
        "            mse_bot = mean_squared_error(yt_bot, yp_bot)\n",
        "            dir_bot, up_bot, down_bot = calc_directional_metrics(yt_bot, yp_bot, perm_bot)\n",
        "            metrics.update({\n",
        "                \"Bottom25_R2\": r2_bot,\n",
        "                \"Bottom25_MAE\": mae_bot,\n",
        "                \"Bottom25_MSE\": mse_bot,\n",
        "                \"Bottom25_Dir_Acc\": dir_bot,\n",
        "                \"Bottom25_Up_Acc\": up_bot,\n",
        "                \"Bottom25_Down_Acc\": down_bot\n",
        "            })\n",
        "\n",
        "    return metrics\n"
      ]
    },
    {
      "cell_type": "code",
      "execution_count": null,
      "metadata": {
        "colab": {
          "base_uri": "https://localhost:8080/"
        },
        "id": "Nj-M8-lmj4nd",
        "outputId": "717a068e-aac5-4306-f1c0-33ca99b5f6ae"
      },
      "outputs": [
        {
          "name": "stdout",
          "output_type": "stream",
          "text": [
            "Starting prediction...\n",
            "Data file contains keys: ['X_train_5', 'y_train_5', 'meta_train_5', 'market_caps_train_5', 'X_test_5', 'y_test_5', 'meta_test_5', 'market_caps_test_5', 'X_train_21', 'y_train_21', 'meta_train_21', 'market_caps_train_21', 'X_test_21', 'y_test_21', 'meta_test_21', 'market_caps_test_21', 'X_train_252', 'y_train_252', 'meta_train_252', 'market_caps_train_252', 'X_test_252', 'y_test_252', 'meta_test_252', 'market_caps_test_252', 'X_train_512', 'y_train_512', 'meta_train_512', 'market_caps_train_512', 'X_test_512', 'y_test_512', 'meta_test_512', 'market_caps_test_512']\n",
            "\n",
            "=== Processing Window Size: 5 ===\n",
            "Test samples: 110850\n",
            "Input sequence length: 5\n"
          ]
        },
        {
          "name": "stderr",
          "output_type": "stream",
          "text": [
            "Predicting batches:   1%|          | 1/109 [00:03<05:40,  3.16s/it]"
          ]
        },
        {
          "name": "stdout",
          "output_type": "stream",
          "text": [
            "Processed: 1024/110850 samples (0.9%)\n"
          ]
        },
        {
          "name": "stderr",
          "output_type": "stream",
          "text": [
            "Predicting batches:  10%|█         | 11/109 [00:20<02:54,  1.78s/it]"
          ]
        },
        {
          "name": "stdout",
          "output_type": "stream",
          "text": [
            "Processed: 11264/110850 samples (10.2%)\n"
          ]
        },
        {
          "name": "stderr",
          "output_type": "stream",
          "text": [
            "Predicting batches:  19%|█▉        | 21/109 [00:38<02:39,  1.81s/it]"
          ]
        },
        {
          "name": "stdout",
          "output_type": "stream",
          "text": [
            "Processed: 21504/110850 samples (19.4%)\n"
          ]
        },
        {
          "name": "stderr",
          "output_type": "stream",
          "text": [
            "Predicting batches:  28%|██▊       | 31/109 [00:57<02:26,  1.88s/it]"
          ]
        },
        {
          "name": "stdout",
          "output_type": "stream",
          "text": [
            "Processed: 31744/110850 samples (28.6%)\n"
          ]
        },
        {
          "name": "stderr",
          "output_type": "stream",
          "text": [
            "Predicting batches:  38%|███▊      | 41/109 [01:16<02:13,  1.97s/it]"
          ]
        },
        {
          "name": "stdout",
          "output_type": "stream",
          "text": [
            "Processed: 41984/110850 samples (37.9%)\n"
          ]
        },
        {
          "name": "stderr",
          "output_type": "stream",
          "text": [
            "Predicting batches:  47%|████▋     | 51/109 [01:37<01:57,  2.03s/it]"
          ]
        },
        {
          "name": "stdout",
          "output_type": "stream",
          "text": [
            "Processed: 52224/110850 samples (47.1%)\n"
          ]
        },
        {
          "name": "stderr",
          "output_type": "stream",
          "text": [
            "Predicting batches:  56%|█████▌    | 61/109 [01:56<01:33,  1.95s/it]"
          ]
        },
        {
          "name": "stdout",
          "output_type": "stream",
          "text": [
            "Processed: 62464/110850 samples (56.4%)\n"
          ]
        },
        {
          "name": "stderr",
          "output_type": "stream",
          "text": [
            "Predicting batches:  65%|██████▌   | 71/109 [02:16<01:13,  1.92s/it]"
          ]
        },
        {
          "name": "stdout",
          "output_type": "stream",
          "text": [
            "Processed: 72704/110850 samples (65.6%)\n"
          ]
        },
        {
          "name": "stderr",
          "output_type": "stream",
          "text": [
            "Predicting batches:  74%|███████▍  | 81/109 [02:35<00:54,  1.95s/it]"
          ]
        },
        {
          "name": "stdout",
          "output_type": "stream",
          "text": [
            "Processed: 82944/110850 samples (74.8%)\n"
          ]
        },
        {
          "name": "stderr",
          "output_type": "stream",
          "text": [
            "Predicting batches:  83%|████████▎ | 91/109 [02:55<00:35,  1.96s/it]"
          ]
        },
        {
          "name": "stdout",
          "output_type": "stream",
          "text": [
            "Processed: 93184/110850 samples (84.1%)\n"
          ]
        },
        {
          "name": "stderr",
          "output_type": "stream",
          "text": [
            "Predicting batches:  93%|█████████▎| 101/109 [03:14<00:15,  1.96s/it]"
          ]
        },
        {
          "name": "stdout",
          "output_type": "stream",
          "text": [
            "Processed: 103424/110850 samples (93.3%)\n"
          ]
        },
        {
          "name": "stderr",
          "output_type": "stream",
          "text": [
            "Predicting batches: 100%|██████████| 109/109 [03:29<00:00,  1.92s/it]\n"
          ]
        },
        {
          "name": "stdout",
          "output_type": "stream",
          "text": [
            "Predictions completed: 110850 samples\n",
            "\n",
            "=== Directional Sanity Check ===\n",
            "Pos ratio (y_test): 0.5225259359494813\n",
            "Neg ratio (y_test): 0.47667117726657643\n",
            "Pred +1 ratio: 0.4636084799278304\n",
            "Pred -1 ratio: 0.5363915200721696\n",
            "      Pred+  Pred-\n",
            "+1 | [26460 31462]\n",
            "-1 | [24892 27947]\n",
            "\n",
            "Metrics for window 5:\n",
            "R²: -0.3359\n",
            "MAE: 0.0137\n",
            "MSE: 0.0004\n",
            "Directional Accuracy: 0.4912\n",
            "Up_Directional_Acc: 0.4561\n",
            "Down_Directional_Acc: 0.5282\n",
            "Top25_R2: -0.3412\n",
            "Top25_MAE: 0.0119\n",
            "Top25_MSE: 0.0003\n",
            "Top25_Dir_Acc: 0.4942\n",
            "Top25_Up_Acc: 0.4581\n",
            "Top25_Down_Acc: 0.5133\n",
            "Bottom25_R2: -0.3259\n",
            "Bottom25_MAE: 0.0178\n",
            "Bottom25_MSE: 0.0006\n",
            "Bottom25_Dir_Acc: 0.4911\n",
            "Bottom25_Up_Acc: 0.4324\n",
            "Bottom25_Down_Acc: 0.5460\n",
            "Predictions saved to timesfm1.0_w5.csv\n",
            "\n",
            "=== Processing Window Size: 21 ===\n",
            "Test samples: 110850\n",
            "Input sequence length: 21\n"
          ]
        },
        {
          "name": "stderr",
          "output_type": "stream",
          "text": [
            "Predicting batches:   1%|          | 1/109 [00:01<03:31,  1.96s/it]"
          ]
        },
        {
          "name": "stdout",
          "output_type": "stream",
          "text": [
            "Processed: 1024/110850 samples (0.9%)\n"
          ]
        },
        {
          "name": "stderr",
          "output_type": "stream",
          "text": [
            "Predicting batches:  10%|█         | 11/109 [00:21<03:12,  1.96s/it]"
          ]
        },
        {
          "name": "stdout",
          "output_type": "stream",
          "text": [
            "Processed: 11264/110850 samples (10.2%)\n"
          ]
        },
        {
          "name": "stderr",
          "output_type": "stream",
          "text": [
            "Predicting batches:  19%|█▉        | 21/109 [00:41<02:53,  1.97s/it]"
          ]
        },
        {
          "name": "stdout",
          "output_type": "stream",
          "text": [
            "Processed: 21504/110850 samples (19.4%)\n"
          ]
        },
        {
          "name": "stderr",
          "output_type": "stream",
          "text": [
            "Predicting batches:  28%|██▊       | 31/109 [01:00<02:32,  1.95s/it]"
          ]
        },
        {
          "name": "stdout",
          "output_type": "stream",
          "text": [
            "Processed: 31744/110850 samples (28.6%)\n"
          ]
        },
        {
          "name": "stderr",
          "output_type": "stream",
          "text": [
            "Predicting batches:  38%|███▊      | 41/109 [01:20<02:11,  1.94s/it]"
          ]
        },
        {
          "name": "stdout",
          "output_type": "stream",
          "text": [
            "Processed: 41984/110850 samples (37.9%)\n"
          ]
        },
        {
          "name": "stderr",
          "output_type": "stream",
          "text": [
            "Predicting batches:  47%|████▋     | 51/109 [01:39<01:52,  1.94s/it]"
          ]
        },
        {
          "name": "stdout",
          "output_type": "stream",
          "text": [
            "Processed: 52224/110850 samples (47.1%)\n"
          ]
        },
        {
          "name": "stderr",
          "output_type": "stream",
          "text": [
            "Predicting batches:  56%|█████▌    | 61/109 [01:58<01:33,  1.95s/it]"
          ]
        },
        {
          "name": "stdout",
          "output_type": "stream",
          "text": [
            "Processed: 62464/110850 samples (56.4%)\n"
          ]
        },
        {
          "name": "stderr",
          "output_type": "stream",
          "text": [
            "Predicting batches:  65%|██████▌   | 71/109 [02:18<01:14,  1.96s/it]"
          ]
        },
        {
          "name": "stdout",
          "output_type": "stream",
          "text": [
            "Processed: 72704/110850 samples (65.6%)\n"
          ]
        },
        {
          "name": "stderr",
          "output_type": "stream",
          "text": [
            "Predicting batches:  74%|███████▍  | 81/109 [02:38<00:54,  1.95s/it]"
          ]
        },
        {
          "name": "stdout",
          "output_type": "stream",
          "text": [
            "Processed: 82944/110850 samples (74.8%)\n"
          ]
        },
        {
          "name": "stderr",
          "output_type": "stream",
          "text": [
            "Predicting batches:  83%|████████▎ | 91/109 [02:57<00:35,  1.95s/it]"
          ]
        },
        {
          "name": "stdout",
          "output_type": "stream",
          "text": [
            "Processed: 93184/110850 samples (84.1%)\n"
          ]
        },
        {
          "name": "stderr",
          "output_type": "stream",
          "text": [
            "Predicting batches:  93%|█████████▎| 101/109 [03:17<00:15,  1.96s/it]"
          ]
        },
        {
          "name": "stdout",
          "output_type": "stream",
          "text": [
            "Processed: 103424/110850 samples (93.3%)\n"
          ]
        },
        {
          "name": "stderr",
          "output_type": "stream",
          "text": [
            "Predicting batches: 100%|██████████| 109/109 [03:31<00:00,  1.94s/it]\n"
          ]
        },
        {
          "name": "stdout",
          "output_type": "stream",
          "text": [
            "Predictions completed: 110850 samples\n",
            "\n",
            "=== Directional Sanity Check ===\n",
            "Pos ratio (y_test): 0.5225259359494813\n",
            "Neg ratio (y_test): 0.47667117726657643\n",
            "Pred +1 ratio: 0.47686062246278754\n",
            "Pred -1 ratio: 0.5231393775372124\n",
            "      Pred+  Pred-\n",
            "+1 | [27289 30633]\n",
            "-1 | [25529 27310]\n",
            "\n",
            "Metrics for window 21:\n",
            "R²: -0.1422\n",
            "MAE: 0.0127\n",
            "MSE: 0.0003\n",
            "Directional Accuracy: 0.4929\n",
            "Up_Directional_Acc: 0.4702\n",
            "Down_Directional_Acc: 0.5158\n",
            "Top25_R2: -0.1386\n",
            "Top25_MAE: 0.0109\n",
            "Top25_MSE: 0.0002\n",
            "Top25_Dir_Acc: 0.4939\n",
            "Top25_Up_Acc: 0.4334\n",
            "Top25_Down_Acc: 0.5171\n",
            "Bottom25_R2: -0.1401\n",
            "Bottom25_MAE: 0.0165\n",
            "Bottom25_MSE: 0.0005\n",
            "Bottom25_Dir_Acc: 0.4927\n",
            "Bottom25_Up_Acc: 0.4172\n",
            "Bottom25_Down_Acc: 0.5694\n",
            "Predictions saved to timesfm1.0_w21.csv\n",
            "\n",
            "=== Processing Window Size: 252 ===\n",
            "Test samples: 110850\n",
            "Input sequence length: 252\n"
          ]
        },
        {
          "name": "stderr",
          "output_type": "stream",
          "text": [
            "Predicting batches:   1%|          | 1/109 [00:01<03:35,  1.99s/it]"
          ]
        },
        {
          "name": "stdout",
          "output_type": "stream",
          "text": [
            "Processed: 1024/110850 samples (0.9%)\n"
          ]
        },
        {
          "name": "stderr",
          "output_type": "stream",
          "text": [
            "Predicting batches:  10%|█         | 11/109 [00:22<03:20,  2.04s/it]"
          ]
        },
        {
          "name": "stdout",
          "output_type": "stream",
          "text": [
            "Processed: 11264/110850 samples (10.2%)\n"
          ]
        },
        {
          "name": "stderr",
          "output_type": "stream",
          "text": [
            "Predicting batches:  19%|█▉        | 21/109 [00:42<02:59,  2.04s/it]"
          ]
        },
        {
          "name": "stdout",
          "output_type": "stream",
          "text": [
            "Processed: 21504/110850 samples (19.4%)\n"
          ]
        },
        {
          "name": "stderr",
          "output_type": "stream",
          "text": [
            "Predicting batches:  28%|██▊       | 31/109 [01:02<02:35,  2.00s/it]"
          ]
        },
        {
          "name": "stdout",
          "output_type": "stream",
          "text": [
            "Processed: 31744/110850 samples (28.6%)\n"
          ]
        },
        {
          "name": "stderr",
          "output_type": "stream",
          "text": [
            "Predicting batches:  38%|███▊      | 41/109 [01:22<02:15,  1.99s/it]"
          ]
        },
        {
          "name": "stdout",
          "output_type": "stream",
          "text": [
            "Processed: 41984/110850 samples (37.9%)\n"
          ]
        },
        {
          "name": "stderr",
          "output_type": "stream",
          "text": [
            "Predicting batches:  47%|████▋     | 51/109 [01:42<01:56,  2.01s/it]"
          ]
        },
        {
          "name": "stdout",
          "output_type": "stream",
          "text": [
            "Processed: 52224/110850 samples (47.1%)\n"
          ]
        },
        {
          "name": "stderr",
          "output_type": "stream",
          "text": [
            "Predicting batches:  56%|█████▌    | 61/109 [02:02<01:36,  2.02s/it]"
          ]
        },
        {
          "name": "stdout",
          "output_type": "stream",
          "text": [
            "Processed: 62464/110850 samples (56.4%)\n"
          ]
        },
        {
          "name": "stderr",
          "output_type": "stream",
          "text": [
            "Predicting batches:  65%|██████▌   | 71/109 [02:23<01:16,  2.01s/it]"
          ]
        },
        {
          "name": "stdout",
          "output_type": "stream",
          "text": [
            "Processed: 72704/110850 samples (65.6%)\n"
          ]
        },
        {
          "name": "stderr",
          "output_type": "stream",
          "text": [
            "Predicting batches:  74%|███████▍  | 81/109 [02:43<00:56,  2.01s/it]"
          ]
        },
        {
          "name": "stdout",
          "output_type": "stream",
          "text": [
            "Processed: 82944/110850 samples (74.8%)\n"
          ]
        },
        {
          "name": "stderr",
          "output_type": "stream",
          "text": [
            "Predicting batches:  83%|████████▎ | 91/109 [03:03<00:35,  2.00s/it]"
          ]
        },
        {
          "name": "stdout",
          "output_type": "stream",
          "text": [
            "Processed: 93184/110850 samples (84.1%)\n"
          ]
        },
        {
          "name": "stderr",
          "output_type": "stream",
          "text": [
            "Predicting batches:  93%|█████████▎| 101/109 [03:23<00:16,  2.00s/it]"
          ]
        },
        {
          "name": "stdout",
          "output_type": "stream",
          "text": [
            "Processed: 103424/110850 samples (93.3%)\n"
          ]
        },
        {
          "name": "stderr",
          "output_type": "stream",
          "text": [
            "Predicting batches: 100%|██████████| 109/109 [03:38<00:00,  2.00s/it]\n"
          ]
        },
        {
          "name": "stdout",
          "output_type": "stream",
          "text": [
            "Predictions completed: 110850 samples\n",
            "\n",
            "=== Directional Sanity Check ===\n",
            "Pos ratio (y_test): 0.5225259359494813\n",
            "Neg ratio (y_test): 0.47667117726657643\n",
            "Pred +1 ratio: 0.5669102390617953\n",
            "Pred -1 ratio: 0.4330897609382048\n",
            "      Pred+  Pred-\n",
            "+1 | [32653 25269]\n",
            "-1 | [30128 22711]\n",
            "\n",
            "Metrics for window 252:\n",
            "R²: -0.0239\n",
            "MAE: 0.0120\n",
            "MSE: 0.0003\n",
            "Directional Accuracy: 0.4998\n",
            "Up_Directional_Acc: 0.5616\n",
            "Down_Directional_Acc: 0.4276\n",
            "Top25_R2: -0.0237\n",
            "Top25_MAE: 0.0103\n",
            "Top25_MSE: 0.0002\n",
            "Top25_Dir_Acc: 0.4903\n",
            "Top25_Up_Acc: 0.5893\n",
            "Top25_Down_Acc: 0.4159\n",
            "Bottom25_R2: -0.0256\n",
            "Bottom25_MAE: 0.0156\n",
            "Bottom25_MSE: 0.0005\n",
            "Bottom25_Dir_Acc: 0.5053\n",
            "Bottom25_Up_Acc: 0.4745\n",
            "Bottom25_Down_Acc: 0.5265\n",
            "Predictions saved to timesfm1.0_w252.csv\n",
            "\n",
            "=== Processing Window Size: 512 ===\n",
            "Test samples: 110850\n",
            "Input sequence length: 512\n"
          ]
        },
        {
          "name": "stderr",
          "output_type": "stream",
          "text": [
            "Predicting batches:   1%|          | 1/109 [00:01<03:34,  1.99s/it]"
          ]
        },
        {
          "name": "stdout",
          "output_type": "stream",
          "text": [
            "Processed: 1024/110850 samples (0.9%)\n"
          ]
        },
        {
          "name": "stderr",
          "output_type": "stream",
          "text": [
            "Predicting batches:  10%|█         | 11/109 [00:22<03:20,  2.04s/it]"
          ]
        },
        {
          "name": "stdout",
          "output_type": "stream",
          "text": [
            "Processed: 11264/110850 samples (10.2%)\n"
          ]
        },
        {
          "name": "stderr",
          "output_type": "stream",
          "text": [
            "Predicting batches:  19%|█▉        | 21/109 [00:43<03:04,  2.09s/it]"
          ]
        },
        {
          "name": "stdout",
          "output_type": "stream",
          "text": [
            "Processed: 21504/110850 samples (19.4%)\n"
          ]
        },
        {
          "name": "stderr",
          "output_type": "stream",
          "text": [
            "Predicting batches:  28%|██▊       | 31/109 [01:03<02:35,  1.99s/it]"
          ]
        },
        {
          "name": "stdout",
          "output_type": "stream",
          "text": [
            "Processed: 31744/110850 samples (28.6%)\n"
          ]
        },
        {
          "name": "stderr",
          "output_type": "stream",
          "text": [
            "Predicting batches:  38%|███▊      | 41/109 [01:22<02:13,  1.96s/it]"
          ]
        },
        {
          "name": "stdout",
          "output_type": "stream",
          "text": [
            "Processed: 41984/110850 samples (37.9%)\n"
          ]
        },
        {
          "name": "stderr",
          "output_type": "stream",
          "text": [
            "Predicting batches:  47%|████▋     | 51/109 [01:42<01:55,  1.99s/it]"
          ]
        },
        {
          "name": "stdout",
          "output_type": "stream",
          "text": [
            "Processed: 52224/110850 samples (47.1%)\n"
          ]
        },
        {
          "name": "stderr",
          "output_type": "stream",
          "text": [
            "Predicting batches:  56%|█████▌    | 61/109 [02:02<01:37,  2.03s/it]"
          ]
        },
        {
          "name": "stdout",
          "output_type": "stream",
          "text": [
            "Processed: 62464/110850 samples (56.4%)\n"
          ]
        },
        {
          "name": "stderr",
          "output_type": "stream",
          "text": [
            "Predicting batches:  65%|██████▌   | 71/109 [02:23<01:16,  2.02s/it]"
          ]
        },
        {
          "name": "stdout",
          "output_type": "stream",
          "text": [
            "Processed: 72704/110850 samples (65.6%)\n"
          ]
        },
        {
          "name": "stderr",
          "output_type": "stream",
          "text": [
            "Predicting batches:  74%|███████▍  | 81/109 [02:42<00:55,  1.99s/it]"
          ]
        },
        {
          "name": "stdout",
          "output_type": "stream",
          "text": [
            "Processed: 82944/110850 samples (74.8%)\n"
          ]
        },
        {
          "name": "stderr",
          "output_type": "stream",
          "text": [
            "Predicting batches:  83%|████████▎ | 91/109 [03:02<00:35,  1.99s/it]"
          ]
        },
        {
          "name": "stdout",
          "output_type": "stream",
          "text": [
            "Processed: 93184/110850 samples (84.1%)\n"
          ]
        },
        {
          "name": "stderr",
          "output_type": "stream",
          "text": [
            "Predicting batches:  93%|█████████▎| 101/109 [03:22<00:15,  2.00s/it]"
          ]
        },
        {
          "name": "stdout",
          "output_type": "stream",
          "text": [
            "Processed: 103424/110850 samples (93.3%)\n"
          ]
        },
        {
          "name": "stderr",
          "output_type": "stream",
          "text": [
            "Predicting batches: 100%|██████████| 109/109 [03:37<00:00,  2.00s/it]\n"
          ]
        },
        {
          "name": "stdout",
          "output_type": "stream",
          "text": [
            "Predictions completed: 110850 samples\n",
            "\n",
            "=== Directional Sanity Check ===\n",
            "Pos ratio (y_test): 0.5225259359494813\n",
            "Neg ratio (y_test): 0.47667117726657643\n",
            "Pred +1 ratio: 0.5566621560667568\n",
            "Pred -1 ratio: 0.4433378439332431\n",
            "      Pred+  Pred-\n",
            "+1 | [32116 25806]\n",
            "-1 | [29529 23310]\n",
            "\n",
            "Metrics for window 512:\n",
            "R²: -0.0190\n",
            "MAE: 0.0119\n",
            "MSE: 0.0003\n",
            "Directional Accuracy: 0.5004\n",
            "Up_Directional_Acc: 0.5520\n",
            "Down_Directional_Acc: 0.4384\n",
            "Top25_R2: -0.0195\n",
            "Top25_MAE: 0.0103\n",
            "Top25_MSE: 0.0002\n",
            "Top25_Dir_Acc: 0.4433\n",
            "Top25_Up_Acc: 0.5585\n",
            "Top25_Down_Acc: 0.3667\n",
            "Bottom25_R2: -0.0197\n",
            "Bottom25_MAE: 0.0155\n",
            "Bottom25_MSE: 0.0005\n",
            "Bottom25_Dir_Acc: 0.5056\n",
            "Bottom25_Up_Acc: 0.4485\n",
            "Bottom25_Down_Acc: 0.5496\n",
            "Predictions saved to timesfm1.0_w512.csv\n",
            "\n",
            "=== All predictions completed! ===\n"
          ]
        }
      ],
      "source": [
        "\n",
        "# Create output directories\n",
        "!mkdir -p /content/drive/MyDrive/timesfm1.0_project/timesfm1.0_results\n",
        "!mkdir -p /content/drive/MyDrive/timesfm1.0_project/timesfm1.0_predictions\n",
        "\n",
        "# Check if data is loaded\n",
        "if 'data' not in locals() or data is None:\n",
        "    raise NameError(\"Data not properly loaded! Please run the data loading cell above and ensure the data file exists.\")\n",
        "\n",
        "print(\"Starting prediction...\")\n",
        "print(f\"Data file contains keys: {list(data.keys())}\")\n",
        "\n",
        "for window_size in window_sizes:\n",
        "    print(f\"\\n=== Processing Window Size: {window_size} ===\")\n",
        "\n",
        "    X_test = data[f\"X_test_{window_size}\"]\n",
        "    y_test = data[f\"y_test_{window_size}\"]\n",
        "    meta_test = pd.DataFrame(data[f\"meta_test_{window_size}\"].item())\n",
        "\n",
        "    print(f\"Test samples: {len(X_test)}\")\n",
        "    print(f\"Input sequence length: {X_test.shape[1]}\")\n",
        "\n",
        "    all_predictions = []\n",
        "\n",
        "    batch_size = 1024\n",
        "    num_batches = (len(X_test) + batch_size - 1) // batch_size\n",
        "\n",
        "    for batch_idx in tqdm(range(num_batches), desc=\"Predicting batches\"):\n",
        "        start_idx = batch_idx * batch_size\n",
        "        end_idx = min((batch_idx + 1) * batch_size, len(X_test))\n",
        "\n",
        "        try:\n",
        "            batch_sequences = [X_test[i] for i in range(start_idx, end_idx)]\n",
        "            freq_batch = [0] * len(batch_sequences)\n",
        "\n",
        "            point_forecast, _ = tfm.forecast(\n",
        "                batch_sequences,\n",
        "                freq=freq_batch,\n",
        "            )\n",
        "\n",
        "            batch_predictions = point_forecast[:, 0].tolist()\n",
        "            all_predictions.extend(batch_predictions)\n",
        "\n",
        "        except Exception as e:\n",
        "            print(f\"Warning: Batch prediction failed for batch {batch_idx}, falling back to individual predictions. Error: {str(e)}\")\n",
        "            batch_predictions = []\n",
        "            for i in range(start_idx, end_idx):\n",
        "                try:\n",
        "                    sequence = X_test[i].reshape(1, -1)\n",
        "                    point_forecast, _ = tfm.forecast(sequence, freq=[0])\n",
        "                    batch_predictions.append(point_forecast[0][0])\n",
        "                except:\n",
        "                    batch_predictions.append(0.0)\n",
        "            all_predictions.extend(batch_predictions)\n",
        "\n",
        "        if torch.cuda.is_available():\n",
        "            torch.cuda.empty_cache()\n",
        "\n",
        "        if batch_idx % 10 == 0:\n",
        "            processed = min(end_idx, len(X_test))\n",
        "            print(f\"Processed: {processed}/{len(X_test)} samples ({processed/len(X_test)*100:.1f}%)\")\n",
        "\n",
        "    all_predictions = np.array(all_predictions)\n",
        "\n",
        "    print(f\"Predictions completed: {len(all_predictions)} samples\")\n",
        "\n",
        "    permnos_test = meta_test[\"PERMNO\"].values\n",
        "    metrics = calculate_metrics(y_test, all_predictions, permnos_test, meta_test)\n",
        "\n",
        "    print(\"\\n=== Directional Sanity Check ===\")\n",
        "    print(\"Pos ratio (y_test):\", (y_test > 0).mean())\n",
        "    print(\"Neg ratio (y_test):\", (y_test < 0).mean())\n",
        "    sign_pred = np.sign(all_predictions)\n",
        "    print(\"Pred +1 ratio:\", (sign_pred > 0).mean())\n",
        "    print(\"Pred -1 ratio:\", (sign_pred < 0).mean())\n",
        "\n",
        "    from sklearn.metrics import confusion_matrix\n",
        "    conf = confusion_matrix(np.sign(y_test), sign_pred, labels=[1, -1])\n",
        "    print(\"      Pred+  Pred-\")\n",
        "    print(\"+1 |\", conf[0])\n",
        "    print(\"-1 |\", conf[1])\n",
        "\n",
        "    results[window_size] = {\n",
        "        'predictions': all_predictions,\n",
        "        'true_values': y_test,\n",
        "        'metrics': metrics,\n",
        "        'meta': meta_test\n",
        "    }\n",
        "\n",
        "    print(f\"\\nMetrics for window {window_size}:\")\n",
        "    for metric_name, value in metrics.items():\n",
        "        print(f\"{metric_name}: {value:.4f}\")\n",
        "\n",
        "    results_df = pd.DataFrame({\n",
        "        'PERMNO': meta_test['PERMNO'],\n",
        "        'y_true': y_test,\n",
        "        'y_pred': all_predictions\n",
        "    })\n",
        "    results_df.to_csv(f'/content/drive/MyDrive/timesfm1.0_project/timesfm1.0_predictions/timesfm1.0_w{window_size}.csv', index=False)\n",
        "    print(f\"Predictions saved to timesfm1.0_w{window_size}.csv\")\n",
        "\n",
        "print(\"\\n=== All predictions completed! ===\")\n"
      ]
    },
    {
      "cell_type": "code",
      "execution_count": null,
      "metadata": {
        "colab": {
          "base_uri": "https://localhost:8080/"
        },
        "id": "P0EwCdPTj4nd",
        "outputId": "1c10050a-f699-4659-8cb2-c68dc97e1178"
      },
      "outputs": [
        {
          "name": "stdout",
          "output_type": "stream",
          "text": [
            "Results saved to results.pkl\n",
            "Metrics saved to timesfm1.0_metrics.csv\n",
            "\n",
            "=== Metrics Summary ===\n",
            "   Window      R²     MAE     MSE  Directional Accuracy  Up_Directional_Acc  \\\n",
            "0       5 -0.3359  0.0137  0.0004                0.4912              0.4561   \n",
            "1      21 -0.1422  0.0127  0.0003                0.4929              0.4702   \n",
            "2     252 -0.0239  0.0120  0.0003                0.4998              0.5616   \n",
            "3     512 -0.0190  0.0119  0.0003                0.5004              0.5520   \n",
            "\n",
            "   Down_Directional_Acc  Top25_R2  Top25_MAE  Top25_MSE  Top25_Dir_Acc  \\\n",
            "0                0.5282   -0.3412     0.0119     0.0003         0.4942   \n",
            "1                0.5158   -0.1386     0.0109     0.0002         0.4939   \n",
            "2                0.4276   -0.0237     0.0103     0.0002         0.4903   \n",
            "3                0.4384   -0.0195     0.0103     0.0002         0.4433   \n",
            "\n",
            "   Top25_Up_Acc  Top25_Down_Acc  Bottom25_R2  Bottom25_MAE  Bottom25_MSE  \\\n",
            "0        0.4581          0.5133      -0.3259        0.0178        0.0006   \n",
            "1        0.4334          0.5171      -0.1401        0.0165        0.0005   \n",
            "2        0.5893          0.4159      -0.0256        0.0156        0.0005   \n",
            "3        0.5585          0.3667      -0.0197        0.0155        0.0005   \n",
            "\n",
            "   Bottom25_Dir_Acc  Bottom25_Up_Acc  Bottom25_Down_Acc  \n",
            "0            0.4911           0.4324             0.5460  \n",
            "1            0.4927           0.4172             0.5694  \n",
            "2            0.5053           0.4745             0.5265  \n",
            "3            0.5056           0.4485             0.5496  \n"
          ]
        }
      ],
      "source": [
        "# Save results to pkl file\n",
        "results_dict = {\n",
        "    'window_sizes': window_sizes,\n",
        "    'results': results,\n",
        "    'model_name': 'TimesFM',\n",
        "    'model_version': '1.0',\n",
        "    'model_params': {\n",
        "        'backend': 'gpu' if torch.cuda.is_available() else 'cpu',\n",
        "        'per_core_batch_size': 512 if torch.cuda.is_available() else 256,\n",
        "        'horizon_len': 1,\n",
        "        'model_id': 'google/timesfm-1.0-200m-pytorch',\n",
        "        'batch_size_used': 1024\n",
        "    }\n",
        "}\n",
        "joblib.dump(results_dict, \"/content/drive/MyDrive/timesfm1.0_project/timesfm1.0_results/results.pkl\")\n",
        "print(\"Results saved to results.pkl\")\n",
        "\n",
        "# Save evaluation metrics\n",
        "metrics_df = pd.DataFrame([\n",
        "    {**{\"Window\": window_size}, **results[window_size][\"metrics\"]}\n",
        "    for window_size in window_sizes\n",
        "])\n",
        "metrics_df.to_csv(\"/content/drive/MyDrive/timesfm1.0_project/timesfm1.0_results/timesfm1.0_metrics.csv\", index=False)\n",
        "print(\"Metrics saved to timesfm1.0_metrics.csv\")\n",
        "\n",
        "print(\"\\n=== Metrics Summary ===\")\n",
        "print(metrics_df.round(4))\n"
      ]
    }
  ],
  "metadata": {
    "accelerator": "GPU",
    "colab": {
      "gpuType": "T4",
      "provenance": []
    },
    "kernelspec": {
      "display_name": "Python 3",
      "name": "python3"
    },
    "language_info": {
      "name": "python"
    },
    "widgets": {
      "application/vnd.jupyter.widget-state+json": {
        "011dd35402b945f3851955bb07dae003": {
          "model_module": "@jupyter-widgets/base",
          "model_module_version": "1.2.0",
          "model_name": "LayoutModel",
          "state": {
            "_model_module": "@jupyter-widgets/base",
            "_model_module_version": "1.2.0",
            "_model_name": "LayoutModel",
            "_view_count": null,
            "_view_module": "@jupyter-widgets/base",
            "_view_module_version": "1.2.0",
            "_view_name": "LayoutView",
            "align_content": null,
            "align_items": null,
            "align_self": null,
            "border": null,
            "bottom": null,
            "display": null,
            "flex": null,
            "flex_flow": null,
            "grid_area": null,
            "grid_auto_columns": null,
            "grid_auto_flow": null,
            "grid_auto_rows": null,
            "grid_column": null,
            "grid_gap": null,
            "grid_row": null,
            "grid_template_areas": null,
            "grid_template_columns": null,
            "grid_template_rows": null,
            "height": null,
            "justify_content": null,
            "justify_items": null,
            "left": null,
            "margin": null,
            "max_height": null,
            "max_width": null,
            "min_height": null,
            "min_width": null,
            "object_fit": null,
            "object_position": null,
            "order": null,
            "overflow": null,
            "overflow_x": null,
            "overflow_y": null,
            "padding": null,
            "right": null,
            "top": null,
            "visibility": null,
            "width": null
          }
        },
        "103f80fec878495c8a35280a4d500328": {
          "model_module": "@jupyter-widgets/controls",
          "model_module_version": "1.5.0",
          "model_name": "FloatProgressModel",
          "state": {
            "_dom_classes": [],
            "_model_module": "@jupyter-widgets/controls",
            "_model_module_version": "1.5.0",
            "_model_name": "FloatProgressModel",
            "_view_count": null,
            "_view_module": "@jupyter-widgets/controls",
            "_view_module_version": "1.5.0",
            "_view_name": "ProgressView",
            "bar_style": "success",
            "description": "",
            "description_tooltip": null,
            "layout": "IPY_MODEL_cdcefbda87994650865a057cbc48f019",
            "max": 814370168,
            "min": 0,
            "orientation": "horizontal",
            "style": "IPY_MODEL_40c7bdc7c8c246d3b95ef9e967463ed4",
            "value": 814370168
          }
        },
        "126914849f2d47cdb6c928790d71e971": {
          "model_module": "@jupyter-widgets/controls",
          "model_module_version": "1.5.0",
          "model_name": "HBoxModel",
          "state": {
            "_dom_classes": [],
            "_model_module": "@jupyter-widgets/controls",
            "_model_module_version": "1.5.0",
            "_model_name": "HBoxModel",
            "_view_count": null,
            "_view_module": "@jupyter-widgets/controls",
            "_view_module_version": "1.5.0",
            "_view_name": "HBoxView",
            "box_style": "",
            "children": [
              "IPY_MODEL_d99a57acd85e407d9520c07c493a7ee0",
              "IPY_MODEL_9acff7696a614dc893ba10dba80fec1c",
              "IPY_MODEL_623b5c60c604463882009456fc7771da"
            ],
            "layout": "IPY_MODEL_99f0aaba9b254839bdfbb4909cfc6986"
          }
        },
        "157759cbde314734a3997b37b28e4bb2": {
          "model_module": "@jupyter-widgets/base",
          "model_module_version": "1.2.0",
          "model_name": "LayoutModel",
          "state": {
            "_model_module": "@jupyter-widgets/base",
            "_model_module_version": "1.2.0",
            "_model_name": "LayoutModel",
            "_view_count": null,
            "_view_module": "@jupyter-widgets/base",
            "_view_module_version": "1.2.0",
            "_view_name": "LayoutView",
            "align_content": null,
            "align_items": null,
            "align_self": null,
            "border": null,
            "bottom": null,
            "display": null,
            "flex": null,
            "flex_flow": null,
            "grid_area": null,
            "grid_auto_columns": null,
            "grid_auto_flow": null,
            "grid_auto_rows": null,
            "grid_column": null,
            "grid_gap": null,
            "grid_row": null,
            "grid_template_areas": null,
            "grid_template_columns": null,
            "grid_template_rows": null,
            "height": null,
            "justify_content": null,
            "justify_items": null,
            "left": null,
            "margin": null,
            "max_height": null,
            "max_width": null,
            "min_height": null,
            "min_width": null,
            "object_fit": null,
            "object_position": null,
            "order": null,
            "overflow": null,
            "overflow_x": null,
            "overflow_y": null,
            "padding": null,
            "right": null,
            "top": null,
            "visibility": null,
            "width": "20px"
          }
        },
        "1d2a2d0b6b8c4063b8a7b7991b1885a7": {
          "model_module": "@jupyter-widgets/controls",
          "model_module_version": "1.5.0",
          "model_name": "ProgressStyleModel",
          "state": {
            "_model_module": "@jupyter-widgets/controls",
            "_model_module_version": "1.5.0",
            "_model_name": "ProgressStyleModel",
            "_view_count": null,
            "_view_module": "@jupyter-widgets/base",
            "_view_module_version": "1.2.0",
            "_view_name": "StyleView",
            "bar_color": null,
            "description_width": ""
          }
        },
        "1f9b43c1cef64c589ba7ad851cd7f178": {
          "model_module": "@jupyter-widgets/controls",
          "model_module_version": "1.5.0",
          "model_name": "HTMLModel",
          "state": {
            "_dom_classes": [],
            "_model_module": "@jupyter-widgets/controls",
            "_model_module_version": "1.5.0",
            "_model_name": "HTMLModel",
            "_view_count": null,
            "_view_module": "@jupyter-widgets/controls",
            "_view_module_version": "1.5.0",
            "_view_name": "HTMLView",
            "description": "",
            "description_tooltip": null,
            "layout": "IPY_MODEL_d8693f944327429e800676a630e90dfa",
            "placeholder": "​",
            "style": "IPY_MODEL_646c9d2fb5c9491bbd4bbeda59a5ef86",
            "value": "Fetching 3 files: 100%"
          }
        },
        "25127e89dc294e108ecae67b8b6324fe": {
          "model_module": "@jupyter-widgets/controls",
          "model_module_version": "1.5.0",
          "model_name": "ProgressStyleModel",
          "state": {
            "_model_module": "@jupyter-widgets/controls",
            "_model_module_version": "1.5.0",
            "_model_name": "ProgressStyleModel",
            "_view_count": null,
            "_view_module": "@jupyter-widgets/base",
            "_view_module_version": "1.2.0",
            "_view_name": "StyleView",
            "bar_color": null,
            "description_width": ""
          }
        },
        "2a6232dd51ab47ad8c68959e3bc61d91": {
          "model_module": "@jupyter-widgets/controls",
          "model_module_version": "1.5.0",
          "model_name": "FloatProgressModel",
          "state": {
            "_dom_classes": [],
            "_model_module": "@jupyter-widgets/controls",
            "_model_module_version": "1.5.0",
            "_model_name": "FloatProgressModel",
            "_view_count": null,
            "_view_module": "@jupyter-widgets/controls",
            "_view_module_version": "1.5.0",
            "_view_name": "ProgressView",
            "bar_style": "success",
            "description": "",
            "description_tooltip": null,
            "layout": "IPY_MODEL_8ef9ae60b36e42328f9d9bcf10c88aa9",
            "max": 3,
            "min": 0,
            "orientation": "horizontal",
            "style": "IPY_MODEL_25127e89dc294e108ecae67b8b6324fe",
            "value": 3
          }
        },
        "2f1bc9521df0404197e6a4c5a04a9d32": {
          "model_module": "@jupyter-widgets/controls",
          "model_module_version": "1.5.0",
          "model_name": "HTMLModel",
          "state": {
            "_dom_classes": [],
            "_model_module": "@jupyter-widgets/controls",
            "_model_module_version": "1.5.0",
            "_model_name": "HTMLModel",
            "_view_count": null,
            "_view_module": "@jupyter-widgets/controls",
            "_view_module_version": "1.5.0",
            "_view_name": "HTMLView",
            "description": "",
            "description_tooltip": null,
            "layout": "IPY_MODEL_ee84c286f81b4a168bc2428215407cde",
            "placeholder": "​",
            "style": "IPY_MODEL_e1bc2189eb654800b1980144dc828d21",
            "value": "torch_model.ckpt: 100%"
          }
        },
        "3222a34d7a64448ea6ab70a2b0ec9aa6": {
          "model_module": "@jupyter-widgets/controls",
          "model_module_version": "1.5.0",
          "model_name": "DescriptionStyleModel",
          "state": {
            "_model_module": "@jupyter-widgets/controls",
            "_model_module_version": "1.5.0",
            "_model_name": "DescriptionStyleModel",
            "_view_count": null,
            "_view_module": "@jupyter-widgets/base",
            "_view_module_version": "1.2.0",
            "_view_name": "StyleView",
            "description_width": ""
          }
        },
        "4078e73ccfe34fd2aadb8acbe8131654": {
          "model_module": "@jupyter-widgets/controls",
          "model_module_version": "1.5.0",
          "model_name": "HTMLModel",
          "state": {
            "_dom_classes": [],
            "_model_module": "@jupyter-widgets/controls",
            "_model_module_version": "1.5.0",
            "_model_name": "HTMLModel",
            "_view_count": null,
            "_view_module": "@jupyter-widgets/controls",
            "_view_module_version": "1.5.0",
            "_view_name": "HTMLView",
            "description": "",
            "description_tooltip": null,
            "layout": "IPY_MODEL_b1df6962c20a46d4b307940aee2925a6",
            "placeholder": "​",
            "style": "IPY_MODEL_3222a34d7a64448ea6ab70a2b0ec9aa6",
            "value": " 1.52k/? [00:00&lt;00:00, 28.3kB/s]"
          }
        },
        "40c7bdc7c8c246d3b95ef9e967463ed4": {
          "model_module": "@jupyter-widgets/controls",
          "model_module_version": "1.5.0",
          "model_name": "ProgressStyleModel",
          "state": {
            "_model_module": "@jupyter-widgets/controls",
            "_model_module_version": "1.5.0",
            "_model_name": "ProgressStyleModel",
            "_view_count": null,
            "_view_module": "@jupyter-widgets/base",
            "_view_module_version": "1.2.0",
            "_view_name": "StyleView",
            "bar_color": null,
            "description_width": ""
          }
        },
        "42658b3cfa8d44fd95b5397bbe91891e": {
          "model_module": "@jupyter-widgets/controls",
          "model_module_version": "1.5.0",
          "model_name": "DescriptionStyleModel",
          "state": {
            "_model_module": "@jupyter-widgets/controls",
            "_model_module_version": "1.5.0",
            "_model_name": "DescriptionStyleModel",
            "_view_count": null,
            "_view_module": "@jupyter-widgets/base",
            "_view_module_version": "1.2.0",
            "_view_name": "StyleView",
            "description_width": ""
          }
        },
        "495956a6d7174212ab0e130176b4c505": {
          "model_module": "@jupyter-widgets/controls",
          "model_module_version": "1.5.0",
          "model_name": "ProgressStyleModel",
          "state": {
            "_model_module": "@jupyter-widgets/controls",
            "_model_module_version": "1.5.0",
            "_model_name": "ProgressStyleModel",
            "_view_count": null,
            "_view_module": "@jupyter-widgets/base",
            "_view_module_version": "1.2.0",
            "_view_name": "StyleView",
            "bar_color": null,
            "description_width": ""
          }
        },
        "4a372f4b89a24b2694bf01fc6e809ce6": {
          "model_module": "@jupyter-widgets/controls",
          "model_module_version": "1.5.0",
          "model_name": "HTMLModel",
          "state": {
            "_dom_classes": [],
            "_model_module": "@jupyter-widgets/controls",
            "_model_module_version": "1.5.0",
            "_model_name": "HTMLModel",
            "_view_count": null,
            "_view_module": "@jupyter-widgets/controls",
            "_view_module_version": "1.5.0",
            "_view_name": "HTMLView",
            "description": "",
            "description_tooltip": null,
            "layout": "IPY_MODEL_50f2e4d276d14ec2b2550bbeecba1857",
            "placeholder": "​",
            "style": "IPY_MODEL_4e9bc2de1c3d44dabecf09b52e7f4d40",
            "value": ".gitattributes: "
          }
        },
        "4e9bc2de1c3d44dabecf09b52e7f4d40": {
          "model_module": "@jupyter-widgets/controls",
          "model_module_version": "1.5.0",
          "model_name": "DescriptionStyleModel",
          "state": {
            "_model_module": "@jupyter-widgets/controls",
            "_model_module_version": "1.5.0",
            "_model_name": "DescriptionStyleModel",
            "_view_count": null,
            "_view_module": "@jupyter-widgets/base",
            "_view_module_version": "1.2.0",
            "_view_name": "StyleView",
            "description_width": ""
          }
        },
        "4ea22f908970482984d330ed4eab15b9": {
          "model_module": "@jupyter-widgets/controls",
          "model_module_version": "1.5.0",
          "model_name": "FloatProgressModel",
          "state": {
            "_dom_classes": [],
            "_model_module": "@jupyter-widgets/controls",
            "_model_module_version": "1.5.0",
            "_model_name": "FloatProgressModel",
            "_view_count": null,
            "_view_module": "@jupyter-widgets/controls",
            "_view_module_version": "1.5.0",
            "_view_name": "ProgressView",
            "bar_style": "success",
            "description": "",
            "description_tooltip": null,
            "layout": "IPY_MODEL_cd44476589cf44ebbda386f2048a07ee",
            "max": 1,
            "min": 0,
            "orientation": "horizontal",
            "style": "IPY_MODEL_1d2a2d0b6b8c4063b8a7b7991b1885a7",
            "value": 1
          }
        },
        "50f2e4d276d14ec2b2550bbeecba1857": {
          "model_module": "@jupyter-widgets/base",
          "model_module_version": "1.2.0",
          "model_name": "LayoutModel",
          "state": {
            "_model_module": "@jupyter-widgets/base",
            "_model_module_version": "1.2.0",
            "_model_name": "LayoutModel",
            "_view_count": null,
            "_view_module": "@jupyter-widgets/base",
            "_view_module_version": "1.2.0",
            "_view_name": "LayoutView",
            "align_content": null,
            "align_items": null,
            "align_self": null,
            "border": null,
            "bottom": null,
            "display": null,
            "flex": null,
            "flex_flow": null,
            "grid_area": null,
            "grid_auto_columns": null,
            "grid_auto_flow": null,
            "grid_auto_rows": null,
            "grid_column": null,
            "grid_gap": null,
            "grid_row": null,
            "grid_template_areas": null,
            "grid_template_columns": null,
            "grid_template_rows": null,
            "height": null,
            "justify_content": null,
            "justify_items": null,
            "left": null,
            "margin": null,
            "max_height": null,
            "max_width": null,
            "min_height": null,
            "min_width": null,
            "object_fit": null,
            "object_position": null,
            "order": null,
            "overflow": null,
            "overflow_x": null,
            "overflow_y": null,
            "padding": null,
            "right": null,
            "top": null,
            "visibility": null,
            "width": null
          }
        },
        "623b5c60c604463882009456fc7771da": {
          "model_module": "@jupyter-widgets/controls",
          "model_module_version": "1.5.0",
          "model_name": "HTMLModel",
          "state": {
            "_dom_classes": [],
            "_model_module": "@jupyter-widgets/controls",
            "_model_module_version": "1.5.0",
            "_model_name": "HTMLModel",
            "_view_count": null,
            "_view_module": "@jupyter-widgets/controls",
            "_view_module_version": "1.5.0",
            "_view_name": "HTMLView",
            "description": "",
            "description_tooltip": null,
            "layout": "IPY_MODEL_011dd35402b945f3851955bb07dae003",
            "placeholder": "​",
            "style": "IPY_MODEL_64a6295ec2cc4192bd2ab7ad882e18dd",
            "value": " 5.58k/? [00:00&lt;00:00, 148kB/s]"
          }
        },
        "646c9d2fb5c9491bbd4bbeda59a5ef86": {
          "model_module": "@jupyter-widgets/controls",
          "model_module_version": "1.5.0",
          "model_name": "DescriptionStyleModel",
          "state": {
            "_model_module": "@jupyter-widgets/controls",
            "_model_module_version": "1.5.0",
            "_model_name": "DescriptionStyleModel",
            "_view_count": null,
            "_view_module": "@jupyter-widgets/base",
            "_view_module_version": "1.2.0",
            "_view_name": "StyleView",
            "description_width": ""
          }
        },
        "64a6295ec2cc4192bd2ab7ad882e18dd": {
          "model_module": "@jupyter-widgets/controls",
          "model_module_version": "1.5.0",
          "model_name": "DescriptionStyleModel",
          "state": {
            "_model_module": "@jupyter-widgets/controls",
            "_model_module_version": "1.5.0",
            "_model_name": "DescriptionStyleModel",
            "_view_count": null,
            "_view_module": "@jupyter-widgets/base",
            "_view_module_version": "1.2.0",
            "_view_name": "StyleView",
            "description_width": ""
          }
        },
        "6b9a9e4789404cf78e0be1702b7dfc70": {
          "model_module": "@jupyter-widgets/base",
          "model_module_version": "1.2.0",
          "model_name": "LayoutModel",
          "state": {
            "_model_module": "@jupyter-widgets/base",
            "_model_module_version": "1.2.0",
            "_model_name": "LayoutModel",
            "_view_count": null,
            "_view_module": "@jupyter-widgets/base",
            "_view_module_version": "1.2.0",
            "_view_name": "LayoutView",
            "align_content": null,
            "align_items": null,
            "align_self": null,
            "border": null,
            "bottom": null,
            "display": null,
            "flex": null,
            "flex_flow": null,
            "grid_area": null,
            "grid_auto_columns": null,
            "grid_auto_flow": null,
            "grid_auto_rows": null,
            "grid_column": null,
            "grid_gap": null,
            "grid_row": null,
            "grid_template_areas": null,
            "grid_template_columns": null,
            "grid_template_rows": null,
            "height": null,
            "justify_content": null,
            "justify_items": null,
            "left": null,
            "margin": null,
            "max_height": null,
            "max_width": null,
            "min_height": null,
            "min_width": null,
            "object_fit": null,
            "object_position": null,
            "order": null,
            "overflow": null,
            "overflow_x": null,
            "overflow_y": null,
            "padding": null,
            "right": null,
            "top": null,
            "visibility": null,
            "width": null
          }
        },
        "7abb021aaf354bcabe8b7a1b64b11464": {
          "model_module": "@jupyter-widgets/controls",
          "model_module_version": "1.5.0",
          "model_name": "HBoxModel",
          "state": {
            "_dom_classes": [],
            "_model_module": "@jupyter-widgets/controls",
            "_model_module_version": "1.5.0",
            "_model_name": "HBoxModel",
            "_view_count": null,
            "_view_module": "@jupyter-widgets/controls",
            "_view_module_version": "1.5.0",
            "_view_name": "HBoxView",
            "box_style": "",
            "children": [
              "IPY_MODEL_4a372f4b89a24b2694bf01fc6e809ce6",
              "IPY_MODEL_4ea22f908970482984d330ed4eab15b9",
              "IPY_MODEL_4078e73ccfe34fd2aadb8acbe8131654"
            ],
            "layout": "IPY_MODEL_adb6ddc63e42418f992f0bc0f3f7be7b"
          }
        },
        "8ef9ae60b36e42328f9d9bcf10c88aa9": {
          "model_module": "@jupyter-widgets/base",
          "model_module_version": "1.2.0",
          "model_name": "LayoutModel",
          "state": {
            "_model_module": "@jupyter-widgets/base",
            "_model_module_version": "1.2.0",
            "_model_name": "LayoutModel",
            "_view_count": null,
            "_view_module": "@jupyter-widgets/base",
            "_view_module_version": "1.2.0",
            "_view_name": "LayoutView",
            "align_content": null,
            "align_items": null,
            "align_self": null,
            "border": null,
            "bottom": null,
            "display": null,
            "flex": null,
            "flex_flow": null,
            "grid_area": null,
            "grid_auto_columns": null,
            "grid_auto_flow": null,
            "grid_auto_rows": null,
            "grid_column": null,
            "grid_gap": null,
            "grid_row": null,
            "grid_template_areas": null,
            "grid_template_columns": null,
            "grid_template_rows": null,
            "height": null,
            "justify_content": null,
            "justify_items": null,
            "left": null,
            "margin": null,
            "max_height": null,
            "max_width": null,
            "min_height": null,
            "min_width": null,
            "object_fit": null,
            "object_position": null,
            "order": null,
            "overflow": null,
            "overflow_x": null,
            "overflow_y": null,
            "padding": null,
            "right": null,
            "top": null,
            "visibility": null,
            "width": null
          }
        },
        "954aa66d68ad4fbb9cb1cb31165f4255": {
          "model_module": "@jupyter-widgets/base",
          "model_module_version": "1.2.0",
          "model_name": "LayoutModel",
          "state": {
            "_model_module": "@jupyter-widgets/base",
            "_model_module_version": "1.2.0",
            "_model_name": "LayoutModel",
            "_view_count": null,
            "_view_module": "@jupyter-widgets/base",
            "_view_module_version": "1.2.0",
            "_view_name": "LayoutView",
            "align_content": null,
            "align_items": null,
            "align_self": null,
            "border": null,
            "bottom": null,
            "display": null,
            "flex": null,
            "flex_flow": null,
            "grid_area": null,
            "grid_auto_columns": null,
            "grid_auto_flow": null,
            "grid_auto_rows": null,
            "grid_column": null,
            "grid_gap": null,
            "grid_row": null,
            "grid_template_areas": null,
            "grid_template_columns": null,
            "grid_template_rows": null,
            "height": null,
            "justify_content": null,
            "justify_items": null,
            "left": null,
            "margin": null,
            "max_height": null,
            "max_width": null,
            "min_height": null,
            "min_width": null,
            "object_fit": null,
            "object_position": null,
            "order": null,
            "overflow": null,
            "overflow_x": null,
            "overflow_y": null,
            "padding": null,
            "right": null,
            "top": null,
            "visibility": null,
            "width": null
          }
        },
        "96680885a91040d1909fbd50054cb655": {
          "model_module": "@jupyter-widgets/controls",
          "model_module_version": "1.5.0",
          "model_name": "HTMLModel",
          "state": {
            "_dom_classes": [],
            "_model_module": "@jupyter-widgets/controls",
            "_model_module_version": "1.5.0",
            "_model_name": "HTMLModel",
            "_view_count": null,
            "_view_module": "@jupyter-widgets/controls",
            "_view_module_version": "1.5.0",
            "_view_name": "HTMLView",
            "description": "",
            "description_tooltip": null,
            "layout": "IPY_MODEL_ca9d1cf7a33444e9b716686664f63759",
            "placeholder": "​",
            "style": "IPY_MODEL_9d9274d19eb9442ca790c42db88474ed",
            "value": " 3/3 [00:14&lt;00:00,  5.26s/it]"
          }
        },
        "99f0aaba9b254839bdfbb4909cfc6986": {
          "model_module": "@jupyter-widgets/base",
          "model_module_version": "1.2.0",
          "model_name": "LayoutModel",
          "state": {
            "_model_module": "@jupyter-widgets/base",
            "_model_module_version": "1.2.0",
            "_model_name": "LayoutModel",
            "_view_count": null,
            "_view_module": "@jupyter-widgets/base",
            "_view_module_version": "1.2.0",
            "_view_name": "LayoutView",
            "align_content": null,
            "align_items": null,
            "align_self": null,
            "border": null,
            "bottom": null,
            "display": null,
            "flex": null,
            "flex_flow": null,
            "grid_area": null,
            "grid_auto_columns": null,
            "grid_auto_flow": null,
            "grid_auto_rows": null,
            "grid_column": null,
            "grid_gap": null,
            "grid_row": null,
            "grid_template_areas": null,
            "grid_template_columns": null,
            "grid_template_rows": null,
            "height": null,
            "justify_content": null,
            "justify_items": null,
            "left": null,
            "margin": null,
            "max_height": null,
            "max_width": null,
            "min_height": null,
            "min_width": null,
            "object_fit": null,
            "object_position": null,
            "order": null,
            "overflow": null,
            "overflow_x": null,
            "overflow_y": null,
            "padding": null,
            "right": null,
            "top": null,
            "visibility": null,
            "width": null
          }
        },
        "9acff7696a614dc893ba10dba80fec1c": {
          "model_module": "@jupyter-widgets/controls",
          "model_module_version": "1.5.0",
          "model_name": "FloatProgressModel",
          "state": {
            "_dom_classes": [],
            "_model_module": "@jupyter-widgets/controls",
            "_model_module_version": "1.5.0",
            "_model_name": "FloatProgressModel",
            "_view_count": null,
            "_view_module": "@jupyter-widgets/controls",
            "_view_module_version": "1.5.0",
            "_view_name": "ProgressView",
            "bar_style": "success",
            "description": "",
            "description_tooltip": null,
            "layout": "IPY_MODEL_157759cbde314734a3997b37b28e4bb2",
            "max": 1,
            "min": 0,
            "orientation": "horizontal",
            "style": "IPY_MODEL_495956a6d7174212ab0e130176b4c505",
            "value": 1
          }
        },
        "9d9274d19eb9442ca790c42db88474ed": {
          "model_module": "@jupyter-widgets/controls",
          "model_module_version": "1.5.0",
          "model_name": "DescriptionStyleModel",
          "state": {
            "_model_module": "@jupyter-widgets/controls",
            "_model_module_version": "1.5.0",
            "_model_name": "DescriptionStyleModel",
            "_view_count": null,
            "_view_module": "@jupyter-widgets/base",
            "_view_module_version": "1.2.0",
            "_view_name": "StyleView",
            "description_width": ""
          }
        },
        "9fb3ed85dbfe4b65a953c62566abc43b": {
          "model_module": "@jupyter-widgets/controls",
          "model_module_version": "1.5.0",
          "model_name": "DescriptionStyleModel",
          "state": {
            "_model_module": "@jupyter-widgets/controls",
            "_model_module_version": "1.5.0",
            "_model_name": "DescriptionStyleModel",
            "_view_count": null,
            "_view_module": "@jupyter-widgets/base",
            "_view_module_version": "1.2.0",
            "_view_name": "StyleView",
            "description_width": ""
          }
        },
        "a924663b4ca54942a77becff21b426b8": {
          "model_module": "@jupyter-widgets/controls",
          "model_module_version": "1.5.0",
          "model_name": "HBoxModel",
          "state": {
            "_dom_classes": [],
            "_model_module": "@jupyter-widgets/controls",
            "_model_module_version": "1.5.0",
            "_model_name": "HBoxModel",
            "_view_count": null,
            "_view_module": "@jupyter-widgets/controls",
            "_view_module_version": "1.5.0",
            "_view_name": "HBoxView",
            "box_style": "",
            "children": [
              "IPY_MODEL_2f1bc9521df0404197e6a4c5a04a9d32",
              "IPY_MODEL_103f80fec878495c8a35280a4d500328",
              "IPY_MODEL_aae5520536af4ebbb0016529465ceb1e"
            ],
            "layout": "IPY_MODEL_954aa66d68ad4fbb9cb1cb31165f4255"
          }
        },
        "aae5520536af4ebbb0016529465ceb1e": {
          "model_module": "@jupyter-widgets/controls",
          "model_module_version": "1.5.0",
          "model_name": "HTMLModel",
          "state": {
            "_dom_classes": [],
            "_model_module": "@jupyter-widgets/controls",
            "_model_module_version": "1.5.0",
            "_model_name": "HTMLModel",
            "_view_count": null,
            "_view_module": "@jupyter-widgets/controls",
            "_view_module_version": "1.5.0",
            "_view_name": "HTMLView",
            "description": "",
            "description_tooltip": null,
            "layout": "IPY_MODEL_6b9a9e4789404cf78e0be1702b7dfc70",
            "placeholder": "​",
            "style": "IPY_MODEL_42658b3cfa8d44fd95b5397bbe91891e",
            "value": " 814M/814M [00:13&lt;00:00, 99.3MB/s]"
          }
        },
        "adb6ddc63e42418f992f0bc0f3f7be7b": {
          "model_module": "@jupyter-widgets/base",
          "model_module_version": "1.2.0",
          "model_name": "LayoutModel",
          "state": {
            "_model_module": "@jupyter-widgets/base",
            "_model_module_version": "1.2.0",
            "_model_name": "LayoutModel",
            "_view_count": null,
            "_view_module": "@jupyter-widgets/base",
            "_view_module_version": "1.2.0",
            "_view_name": "LayoutView",
            "align_content": null,
            "align_items": null,
            "align_self": null,
            "border": null,
            "bottom": null,
            "display": null,
            "flex": null,
            "flex_flow": null,
            "grid_area": null,
            "grid_auto_columns": null,
            "grid_auto_flow": null,
            "grid_auto_rows": null,
            "grid_column": null,
            "grid_gap": null,
            "grid_row": null,
            "grid_template_areas": null,
            "grid_template_columns": null,
            "grid_template_rows": null,
            "height": null,
            "justify_content": null,
            "justify_items": null,
            "left": null,
            "margin": null,
            "max_height": null,
            "max_width": null,
            "min_height": null,
            "min_width": null,
            "object_fit": null,
            "object_position": null,
            "order": null,
            "overflow": null,
            "overflow_x": null,
            "overflow_y": null,
            "padding": null,
            "right": null,
            "top": null,
            "visibility": null,
            "width": null
          }
        },
        "b1df6962c20a46d4b307940aee2925a6": {
          "model_module": "@jupyter-widgets/base",
          "model_module_version": "1.2.0",
          "model_name": "LayoutModel",
          "state": {
            "_model_module": "@jupyter-widgets/base",
            "_model_module_version": "1.2.0",
            "_model_name": "LayoutModel",
            "_view_count": null,
            "_view_module": "@jupyter-widgets/base",
            "_view_module_version": "1.2.0",
            "_view_name": "LayoutView",
            "align_content": null,
            "align_items": null,
            "align_self": null,
            "border": null,
            "bottom": null,
            "display": null,
            "flex": null,
            "flex_flow": null,
            "grid_area": null,
            "grid_auto_columns": null,
            "grid_auto_flow": null,
            "grid_auto_rows": null,
            "grid_column": null,
            "grid_gap": null,
            "grid_row": null,
            "grid_template_areas": null,
            "grid_template_columns": null,
            "grid_template_rows": null,
            "height": null,
            "justify_content": null,
            "justify_items": null,
            "left": null,
            "margin": null,
            "max_height": null,
            "max_width": null,
            "min_height": null,
            "min_width": null,
            "object_fit": null,
            "object_position": null,
            "order": null,
            "overflow": null,
            "overflow_x": null,
            "overflow_y": null,
            "padding": null,
            "right": null,
            "top": null,
            "visibility": null,
            "width": null
          }
        },
        "b9d8a12e00974d6c8a95877662d74d3b": {
          "model_module": "@jupyter-widgets/controls",
          "model_module_version": "1.5.0",
          "model_name": "HBoxModel",
          "state": {
            "_dom_classes": [],
            "_model_module": "@jupyter-widgets/controls",
            "_model_module_version": "1.5.0",
            "_model_name": "HBoxModel",
            "_view_count": null,
            "_view_module": "@jupyter-widgets/controls",
            "_view_module_version": "1.5.0",
            "_view_name": "HBoxView",
            "box_style": "",
            "children": [
              "IPY_MODEL_1f9b43c1cef64c589ba7ad851cd7f178",
              "IPY_MODEL_2a6232dd51ab47ad8c68959e3bc61d91",
              "IPY_MODEL_96680885a91040d1909fbd50054cb655"
            ],
            "layout": "IPY_MODEL_ce8260b04dd24b01bea9e483986d9034"
          }
        },
        "ca9d1cf7a33444e9b716686664f63759": {
          "model_module": "@jupyter-widgets/base",
          "model_module_version": "1.2.0",
          "model_name": "LayoutModel",
          "state": {
            "_model_module": "@jupyter-widgets/base",
            "_model_module_version": "1.2.0",
            "_model_name": "LayoutModel",
            "_view_count": null,
            "_view_module": "@jupyter-widgets/base",
            "_view_module_version": "1.2.0",
            "_view_name": "LayoutView",
            "align_content": null,
            "align_items": null,
            "align_self": null,
            "border": null,
            "bottom": null,
            "display": null,
            "flex": null,
            "flex_flow": null,
            "grid_area": null,
            "grid_auto_columns": null,
            "grid_auto_flow": null,
            "grid_auto_rows": null,
            "grid_column": null,
            "grid_gap": null,
            "grid_row": null,
            "grid_template_areas": null,
            "grid_template_columns": null,
            "grid_template_rows": null,
            "height": null,
            "justify_content": null,
            "justify_items": null,
            "left": null,
            "margin": null,
            "max_height": null,
            "max_width": null,
            "min_height": null,
            "min_width": null,
            "object_fit": null,
            "object_position": null,
            "order": null,
            "overflow": null,
            "overflow_x": null,
            "overflow_y": null,
            "padding": null,
            "right": null,
            "top": null,
            "visibility": null,
            "width": null
          }
        },
        "cd44476589cf44ebbda386f2048a07ee": {
          "model_module": "@jupyter-widgets/base",
          "model_module_version": "1.2.0",
          "model_name": "LayoutModel",
          "state": {
            "_model_module": "@jupyter-widgets/base",
            "_model_module_version": "1.2.0",
            "_model_name": "LayoutModel",
            "_view_count": null,
            "_view_module": "@jupyter-widgets/base",
            "_view_module_version": "1.2.0",
            "_view_name": "LayoutView",
            "align_content": null,
            "align_items": null,
            "align_self": null,
            "border": null,
            "bottom": null,
            "display": null,
            "flex": null,
            "flex_flow": null,
            "grid_area": null,
            "grid_auto_columns": null,
            "grid_auto_flow": null,
            "grid_auto_rows": null,
            "grid_column": null,
            "grid_gap": null,
            "grid_row": null,
            "grid_template_areas": null,
            "grid_template_columns": null,
            "grid_template_rows": null,
            "height": null,
            "justify_content": null,
            "justify_items": null,
            "left": null,
            "margin": null,
            "max_height": null,
            "max_width": null,
            "min_height": null,
            "min_width": null,
            "object_fit": null,
            "object_position": null,
            "order": null,
            "overflow": null,
            "overflow_x": null,
            "overflow_y": null,
            "padding": null,
            "right": null,
            "top": null,
            "visibility": null,
            "width": "20px"
          }
        },
        "cdcefbda87994650865a057cbc48f019": {
          "model_module": "@jupyter-widgets/base",
          "model_module_version": "1.2.0",
          "model_name": "LayoutModel",
          "state": {
            "_model_module": "@jupyter-widgets/base",
            "_model_module_version": "1.2.0",
            "_model_name": "LayoutModel",
            "_view_count": null,
            "_view_module": "@jupyter-widgets/base",
            "_view_module_version": "1.2.0",
            "_view_name": "LayoutView",
            "align_content": null,
            "align_items": null,
            "align_self": null,
            "border": null,
            "bottom": null,
            "display": null,
            "flex": null,
            "flex_flow": null,
            "grid_area": null,
            "grid_auto_columns": null,
            "grid_auto_flow": null,
            "grid_auto_rows": null,
            "grid_column": null,
            "grid_gap": null,
            "grid_row": null,
            "grid_template_areas": null,
            "grid_template_columns": null,
            "grid_template_rows": null,
            "height": null,
            "justify_content": null,
            "justify_items": null,
            "left": null,
            "margin": null,
            "max_height": null,
            "max_width": null,
            "min_height": null,
            "min_width": null,
            "object_fit": null,
            "object_position": null,
            "order": null,
            "overflow": null,
            "overflow_x": null,
            "overflow_y": null,
            "padding": null,
            "right": null,
            "top": null,
            "visibility": null,
            "width": null
          }
        },
        "ce8260b04dd24b01bea9e483986d9034": {
          "model_module": "@jupyter-widgets/base",
          "model_module_version": "1.2.0",
          "model_name": "LayoutModel",
          "state": {
            "_model_module": "@jupyter-widgets/base",
            "_model_module_version": "1.2.0",
            "_model_name": "LayoutModel",
            "_view_count": null,
            "_view_module": "@jupyter-widgets/base",
            "_view_module_version": "1.2.0",
            "_view_name": "LayoutView",
            "align_content": null,
            "align_items": null,
            "align_self": null,
            "border": null,
            "bottom": null,
            "display": null,
            "flex": null,
            "flex_flow": null,
            "grid_area": null,
            "grid_auto_columns": null,
            "grid_auto_flow": null,
            "grid_auto_rows": null,
            "grid_column": null,
            "grid_gap": null,
            "grid_row": null,
            "grid_template_areas": null,
            "grid_template_columns": null,
            "grid_template_rows": null,
            "height": null,
            "justify_content": null,
            "justify_items": null,
            "left": null,
            "margin": null,
            "max_height": null,
            "max_width": null,
            "min_height": null,
            "min_width": null,
            "object_fit": null,
            "object_position": null,
            "order": null,
            "overflow": null,
            "overflow_x": null,
            "overflow_y": null,
            "padding": null,
            "right": null,
            "top": null,
            "visibility": null,
            "width": null
          }
        },
        "d8693f944327429e800676a630e90dfa": {
          "model_module": "@jupyter-widgets/base",
          "model_module_version": "1.2.0",
          "model_name": "LayoutModel",
          "state": {
            "_model_module": "@jupyter-widgets/base",
            "_model_module_version": "1.2.0",
            "_model_name": "LayoutModel",
            "_view_count": null,
            "_view_module": "@jupyter-widgets/base",
            "_view_module_version": "1.2.0",
            "_view_name": "LayoutView",
            "align_content": null,
            "align_items": null,
            "align_self": null,
            "border": null,
            "bottom": null,
            "display": null,
            "flex": null,
            "flex_flow": null,
            "grid_area": null,
            "grid_auto_columns": null,
            "grid_auto_flow": null,
            "grid_auto_rows": null,
            "grid_column": null,
            "grid_gap": null,
            "grid_row": null,
            "grid_template_areas": null,
            "grid_template_columns": null,
            "grid_template_rows": null,
            "height": null,
            "justify_content": null,
            "justify_items": null,
            "left": null,
            "margin": null,
            "max_height": null,
            "max_width": null,
            "min_height": null,
            "min_width": null,
            "object_fit": null,
            "object_position": null,
            "order": null,
            "overflow": null,
            "overflow_x": null,
            "overflow_y": null,
            "padding": null,
            "right": null,
            "top": null,
            "visibility": null,
            "width": null
          }
        },
        "d99a57acd85e407d9520c07c493a7ee0": {
          "model_module": "@jupyter-widgets/controls",
          "model_module_version": "1.5.0",
          "model_name": "HTMLModel",
          "state": {
            "_dom_classes": [],
            "_model_module": "@jupyter-widgets/controls",
            "_model_module_version": "1.5.0",
            "_model_name": "HTMLModel",
            "_view_count": null,
            "_view_module": "@jupyter-widgets/controls",
            "_view_module_version": "1.5.0",
            "_view_name": "HTMLView",
            "description": "",
            "description_tooltip": null,
            "layout": "IPY_MODEL_e95ba44c21264447aaf75133e00fa312",
            "placeholder": "​",
            "style": "IPY_MODEL_9fb3ed85dbfe4b65a953c62566abc43b",
            "value": "README.md: "
          }
        },
        "e1bc2189eb654800b1980144dc828d21": {
          "model_module": "@jupyter-widgets/controls",
          "model_module_version": "1.5.0",
          "model_name": "DescriptionStyleModel",
          "state": {
            "_model_module": "@jupyter-widgets/controls",
            "_model_module_version": "1.5.0",
            "_model_name": "DescriptionStyleModel",
            "_view_count": null,
            "_view_module": "@jupyter-widgets/base",
            "_view_module_version": "1.2.0",
            "_view_name": "StyleView",
            "description_width": ""
          }
        },
        "e95ba44c21264447aaf75133e00fa312": {
          "model_module": "@jupyter-widgets/base",
          "model_module_version": "1.2.0",
          "model_name": "LayoutModel",
          "state": {
            "_model_module": "@jupyter-widgets/base",
            "_model_module_version": "1.2.0",
            "_model_name": "LayoutModel",
            "_view_count": null,
            "_view_module": "@jupyter-widgets/base",
            "_view_module_version": "1.2.0",
            "_view_name": "LayoutView",
            "align_content": null,
            "align_items": null,
            "align_self": null,
            "border": null,
            "bottom": null,
            "display": null,
            "flex": null,
            "flex_flow": null,
            "grid_area": null,
            "grid_auto_columns": null,
            "grid_auto_flow": null,
            "grid_auto_rows": null,
            "grid_column": null,
            "grid_gap": null,
            "grid_row": null,
            "grid_template_areas": null,
            "grid_template_columns": null,
            "grid_template_rows": null,
            "height": null,
            "justify_content": null,
            "justify_items": null,
            "left": null,
            "margin": null,
            "max_height": null,
            "max_width": null,
            "min_height": null,
            "min_width": null,
            "object_fit": null,
            "object_position": null,
            "order": null,
            "overflow": null,
            "overflow_x": null,
            "overflow_y": null,
            "padding": null,
            "right": null,
            "top": null,
            "visibility": null,
            "width": null
          }
        },
        "ee84c286f81b4a168bc2428215407cde": {
          "model_module": "@jupyter-widgets/base",
          "model_module_version": "1.2.0",
          "model_name": "LayoutModel",
          "state": {
            "_model_module": "@jupyter-widgets/base",
            "_model_module_version": "1.2.0",
            "_model_name": "LayoutModel",
            "_view_count": null,
            "_view_module": "@jupyter-widgets/base",
            "_view_module_version": "1.2.0",
            "_view_name": "LayoutView",
            "align_content": null,
            "align_items": null,
            "align_self": null,
            "border": null,
            "bottom": null,
            "display": null,
            "flex": null,
            "flex_flow": null,
            "grid_area": null,
            "grid_auto_columns": null,
            "grid_auto_flow": null,
            "grid_auto_rows": null,
            "grid_column": null,
            "grid_gap": null,
            "grid_row": null,
            "grid_template_areas": null,
            "grid_template_columns": null,
            "grid_template_rows": null,
            "height": null,
            "justify_content": null,
            "justify_items": null,
            "left": null,
            "margin": null,
            "max_height": null,
            "max_width": null,
            "min_height": null,
            "min_width": null,
            "object_fit": null,
            "object_position": null,
            "order": null,
            "overflow": null,
            "overflow_x": null,
            "overflow_y": null,
            "padding": null,
            "right": null,
            "top": null,
            "visibility": null,
            "width": null
          }
        }
      }
    }
  },
  "nbformat": 4,
  "nbformat_minor": 0
}
